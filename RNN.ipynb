{
 "cells": [
  {
   "cell_type": "markdown",
   "metadata": {},
   "source": [
    "## **Model RNN**\n",
    "\n",
    "---\n",
    "\n",
    "Uji Coba #1"
   ]
  },
  {
   "cell_type": "markdown",
   "metadata": {},
   "source": [
    "## Import"
   ]
  },
  {
   "cell_type": "code",
   "execution_count": 15,
   "metadata": {},
   "outputs": [],
   "source": [
    "import numpy as np\n",
    "import pandas as pd\n",
    "import matplotlib.pyplot as plt\n",
    "import seaborn as sns  "
   ]
  },
  {
   "cell_type": "markdown",
   "metadata": {},
   "source": [
    "## Load Data"
   ]
  },
  {
   "cell_type": "code",
   "execution_count": 11,
   "metadata": {},
   "outputs": [
    {
     "data": {
      "text/html": [
       "<div>\n",
       "<style scoped>\n",
       "    .dataframe tbody tr th:only-of-type {\n",
       "        vertical-align: middle;\n",
       "    }\n",
       "\n",
       "    .dataframe tbody tr th {\n",
       "        vertical-align: top;\n",
       "    }\n",
       "\n",
       "    .dataframe thead th {\n",
       "        text-align: right;\n",
       "    }\n",
       "</style>\n",
       "<table border=\"1\" class=\"dataframe\">\n",
       "  <thead>\n",
       "    <tr style=\"text-align: right;\">\n",
       "      <th></th>\n",
       "      <th>Unnamed: 0</th>\n",
       "      <th>Tweet</th>\n",
       "      <th>Label</th>\n",
       "    </tr>\n",
       "  </thead>\n",
       "  <tbody>\n",
       "    <tr>\n",
       "      <th>0</th>\n",
       "      <td>0</td>\n",
       "      <td>['pagi', 'emosi']</td>\n",
       "      <td>Anger</td>\n",
       "    </tr>\n",
       "    <tr>\n",
       "      <th>1</th>\n",
       "      <td>1</td>\n",
       "      <td>['stabilitas', 'negara', 'memange', 'tahun', '...</td>\n",
       "      <td>Anger</td>\n",
       "    </tr>\n",
       "    <tr>\n",
       "      <th>2</th>\n",
       "      <td>2</td>\n",
       "      <td>['emosi', 'liat']</td>\n",
       "      <td>Anger</td>\n",
       "    </tr>\n",
       "    <tr>\n",
       "      <th>3</th>\n",
       "      <td>3</td>\n",
       "      <td>['aib', 'bodoh', 'aib', 'muncul', 'tindakan', ...</td>\n",
       "      <td>Anger</td>\n",
       "    </tr>\n",
       "    <tr>\n",
       "      <th>4</th>\n",
       "      <td>4</td>\n",
       "      <td>['menyebalkan', 'bodoh']</td>\n",
       "      <td>Anger</td>\n",
       "    </tr>\n",
       "    <tr>\n",
       "      <th>5</th>\n",
       "      <td>5</td>\n",
       "      <td>['asli', 'malu', 'maluin', 'indo', 'tolol', 'r...</td>\n",
       "      <td>Anger</td>\n",
       "    </tr>\n",
       "    <tr>\n",
       "      <th>6</th>\n",
       "      <td>6</td>\n",
       "      <td>['drama', 'abg', 'tolol']</td>\n",
       "      <td>Anger</td>\n",
       "    </tr>\n",
       "    <tr>\n",
       "      <th>7</th>\n",
       "      <td>7</td>\n",
       "      <td>['emosi', 'katla', 'kemarin', 'keterangannya',...</td>\n",
       "      <td>Anger</td>\n",
       "    </tr>\n",
       "    <tr>\n",
       "      <th>8</th>\n",
       "      <td>8</td>\n",
       "      <td>['bangsat', 'tribute', 'no', 'bencana', 'no', ...</td>\n",
       "      <td>Anger</td>\n",
       "    </tr>\n",
       "    <tr>\n",
       "      <th>9</th>\n",
       "      <td>9</td>\n",
       "      <td>['pergi', 'teriak', 'nangis', 'sekencang', 'ke...</td>\n",
       "      <td>Anger</td>\n",
       "    </tr>\n",
       "    <tr>\n",
       "      <th>10</th>\n",
       "      <td>10</td>\n",
       "      <td>['allah', 'marah', 'gimana']</td>\n",
       "      <td>Anger</td>\n",
       "    </tr>\n",
       "    <tr>\n",
       "      <th>11</th>\n",
       "      <td>11</td>\n",
       "      <td>['silibus', 'kbat', 'gila', 'babi', 'bodoh', '...</td>\n",
       "      <td>Anger</td>\n",
       "    </tr>\n",
       "    <tr>\n",
       "      <th>12</th>\n",
       "      <td>12</td>\n",
       "      <td>['pagi', 'pagi', 'dikerjain', 'haha', 'bodoh',...</td>\n",
       "      <td>Anger</td>\n",
       "    </tr>\n",
       "    <tr>\n",
       "      <th>13</th>\n",
       "      <td>13</td>\n",
       "      <td>['angka', 'covid', 'dilanjut', 'event', 'offli...</td>\n",
       "      <td>Anger</td>\n",
       "    </tr>\n",
       "    <tr>\n",
       "      <th>14</th>\n",
       "      <td>14</td>\n",
       "      <td>['sangar', 'menurutku', 'goblokk', 'bin', 'tol...</td>\n",
       "      <td>Anger</td>\n",
       "    </tr>\n",
       "    <tr>\n",
       "      <th>15</th>\n",
       "      <td>15</td>\n",
       "      <td>['mas', 'ngelonte', 'mas', 'biar', 'otaknya', ...</td>\n",
       "      <td>Anger</td>\n",
       "    </tr>\n",
       "    <tr>\n",
       "      <th>16</th>\n",
       "      <td>16</td>\n",
       "      <td>['marah']</td>\n",
       "      <td>Anger</td>\n",
       "    </tr>\n",
       "    <tr>\n",
       "      <th>17</th>\n",
       "      <td>17</td>\n",
       "      <td>['tolol', 'bercinta', 'mimpi', 'kejar', 'kejar...</td>\n",
       "      <td>Anger</td>\n",
       "    </tr>\n",
       "    <tr>\n",
       "      <th>18</th>\n",
       "      <td>18</td>\n",
       "      <td>['izinin', 'suami', 'poligami', 'menghindari',...</td>\n",
       "      <td>Anger</td>\n",
       "    </tr>\n",
       "    <tr>\n",
       "      <th>19</th>\n",
       "      <td>19</td>\n",
       "      <td>['nyerah', 'joki', 'tugas', 'poem', 'allah', '...</td>\n",
       "      <td>Anger</td>\n",
       "    </tr>\n",
       "  </tbody>\n",
       "</table>\n",
       "</div>"
      ],
      "text/plain": [
       "    Unnamed: 0                                              Tweet  Label\n",
       "0            0                                  ['pagi', 'emosi']  Anger\n",
       "1            1  ['stabilitas', 'negara', 'memange', 'tahun', '...  Anger\n",
       "2            2                                  ['emosi', 'liat']  Anger\n",
       "3            3  ['aib', 'bodoh', 'aib', 'muncul', 'tindakan', ...  Anger\n",
       "4            4                           ['menyebalkan', 'bodoh']  Anger\n",
       "5            5  ['asli', 'malu', 'maluin', 'indo', 'tolol', 'r...  Anger\n",
       "6            6                          ['drama', 'abg', 'tolol']  Anger\n",
       "7            7  ['emosi', 'katla', 'kemarin', 'keterangannya',...  Anger\n",
       "8            8  ['bangsat', 'tribute', 'no', 'bencana', 'no', ...  Anger\n",
       "9            9  ['pergi', 'teriak', 'nangis', 'sekencang', 'ke...  Anger\n",
       "10          10                       ['allah', 'marah', 'gimana']  Anger\n",
       "11          11  ['silibus', 'kbat', 'gila', 'babi', 'bodoh', '...  Anger\n",
       "12          12  ['pagi', 'pagi', 'dikerjain', 'haha', 'bodoh',...  Anger\n",
       "13          13  ['angka', 'covid', 'dilanjut', 'event', 'offli...  Anger\n",
       "14          14  ['sangar', 'menurutku', 'goblokk', 'bin', 'tol...  Anger\n",
       "15          15  ['mas', 'ngelonte', 'mas', 'biar', 'otaknya', ...  Anger\n",
       "16          16                                          ['marah']  Anger\n",
       "17          17  ['tolol', 'bercinta', 'mimpi', 'kejar', 'kejar...  Anger\n",
       "18          18  ['izinin', 'suami', 'poligami', 'menghindari',...  Anger\n",
       "19          19  ['nyerah', 'joki', 'tugas', 'poem', 'allah', '...  Anger"
      ]
     },
     "execution_count": 11,
     "metadata": {},
     "output_type": "execute_result"
    }
   ],
   "source": [
    "train_data = pd.read_csv('Dataset\\Training\\Clean_train_data.csv')\n",
    "train_data.head(20)"
   ]
  },
  {
   "cell_type": "markdown",
   "metadata": {},
   "source": [
    "## Label Proposition"
   ]
  },
  {
   "cell_type": "code",
   "execution_count": 16,
   "metadata": {},
   "outputs": [
    {
     "data": {
      "image/png": "[encoded data removed]",
      "text/plain": [
       "<Figure size 1000x600 with 1 Axes>"
      ]
     },
     "metadata": {},
     "output_type": "display_data"
    }
   ],
   "source": [
    "label_counts = train_data[\"Label\"].value_counts()\n",
    "\n",
    "# Generate a color palette with a unique color for each label\n",
    "palette = sns.color_palette(\"husl\", len(label_counts))\n",
    "\n",
    "# Create a bar plot\n",
    "plt.figure(figsize=(10, 6))\n",
    "label_counts.plot(kind='bar', color=palette)\n",
    "plt.title('Distribution of Labels')\n",
    "plt.xlabel('Labels')\n",
    "plt.ylabel('Count')\n",
    "plt.xticks(rotation=45)  # Rotate x-axis labels for better readability\n",
    "plt.show()\n"
   ]
  },
  {
   "cell_type": "code",
   "execution_count": null,
   "metadata": {},
   "outputs": [],
   "source": []
  }
 ],
 "metadata": {
  "kernelspec": {
   "display_name": "Python 3",
   "language": "python",
   "name": "python3"
  },
  "language_info": {
   "codemirror_mode": {
    "name": "ipython",
    "version": 3
   },
   "file_extension": ".py",
   "mimetype": "text/x-python",
   "name": "python",
   "nbconvert_exporter": "python",
   "pygments_lexer": "ipython3",
   "version": "3.9.0"
  }
 },
 "nbformat": 4,
 "nbformat_minor": 2
}
