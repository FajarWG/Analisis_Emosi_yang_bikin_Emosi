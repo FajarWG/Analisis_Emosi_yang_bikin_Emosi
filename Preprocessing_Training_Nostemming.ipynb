{
 "cells": [
  {
   "cell_type": "markdown",
   "id": "4d4b444c",
   "metadata": {},
   "source": [
    "## **Preposessing Dataset Training**\n",
    "\n",
    "---\n",
    "\n",
    "Dataset tweet berasal dari penelitian: [Emotion dataset from Indonesian public opinion](https://www.sciencedirect.com/science/article/pii/S2352340922006588?via%3Dihub)\n",
    "\n",
    "Dataset                              : [link Dataset](https://github.com/Ricco48/Emotion-Dataset-from-Indonesian-Public-Opinion)"
   ]
  },
  {
   "cell_type": "markdown",
   "id": "2c1057f6",
   "metadata": {},
   "source": [
    "## Installing Package"
   ]
  },
  {
   "cell_type": "code",
   "execution_count": 1,
   "id": "cd7b1767-1c30-4129-ab82-b019e3a80e2d",
   "metadata": {
    "tags": []
   },
   "outputs": [
    {
     "name": "stdout",
     "output_type": "stream",
     "text": [
      "Requirement already satisfied: sastrawi in c:\\users\\temp\\appdata\\local\\programs\\python\\python39\\lib\\site-packages (1.0.1)\n"
     ]
    }
   ],
   "source": [
    "! pip install sastrawi"
   ]
  },
  {
   "cell_type": "markdown",
   "id": "ad0f5381",
   "metadata": {},
   "source": [
    "## Import Library"
   ]
  },
  {
   "cell_type": "code",
   "execution_count": 2,
   "id": "bf6ba0d2-3ab7-44d2-9a67-5a0ed171b85f",
   "metadata": {
    "tags": []
   },
   "outputs": [],
   "source": [
    "import pandas as pd\n",
    "import numpy\n",
    "import collections\n",
    "import matplotlib.pyplot as plt\n",
    "import seaborn as sns\n",
    "%matplotlib inline\n",
    "\n",
    "import re\n",
    "from nltk import tokenize\n",
    "from Sastrawi.StopWordRemover.StopWordRemoverFactory import StopWordRemoverFactory\n",
    "\n",
    "import warnings\n",
    "warnings.filterwarnings(\"ignore\")\n",
    "\n",
    "from IPython.display import display, HTML"
   ]
  },
  {
   "cell_type": "markdown",
   "id": "23cdc988-e8bd-431f-9c56-f9b7f657367b",
   "metadata": {
    "tags": []
   },
   "source": [
    "# Load Data Train"
   ]
  },
  {
   "cell_type": "code",
   "execution_count": 3,
   "id": "85da2d93-3fca-45a8-be37-cc53757d8718",
   "metadata": {
    "tags": []
   },
   "outputs": [
    {
     "data": {
      "text/html": [
       "<div>\n",
       "<style scoped>\n",
       "    .dataframe tbody tr th:only-of-type {\n",
       "        vertical-align: middle;\n",
       "    }\n",
       "\n",
       "    .dataframe tbody tr th {\n",
       "        vertical-align: top;\n",
       "    }\n",
       "\n",
       "    .dataframe thead th {\n",
       "        text-align: right;\n",
       "    }\n",
       "</style>\n",
       "<table border=\"1\" class=\"dataframe\">\n",
       "  <thead>\n",
       "    <tr style=\"text-align: right;\">\n",
       "      <th></th>\n",
       "      <th>tweet</th>\n",
       "      <th>label</th>\n",
       "    </tr>\n",
       "  </thead>\n",
       "  <tbody>\n",
       "    <tr>\n",
       "      <th>0</th>\n",
       "      <td>pagi2 udah di buat emosi :)</td>\n",
       "      <td>Anger</td>\n",
       "    </tr>\n",
       "    <tr>\n",
       "      <th>1</th>\n",
       "      <td>kok stabilitas negara, memange 10 thn negara t...</td>\n",
       "      <td>Anger</td>\n",
       "    </tr>\n",
       "    <tr>\n",
       "      <th>2</th>\n",
       "      <td>dah lah emosi mulu liat emyu</td>\n",
       "      <td>Anger</td>\n",
       "    </tr>\n",
       "    <tr>\n",
       "      <th>3</th>\n",
       "      <td>aib? bodoh benar! sebelum kata aib itu muncul,...</td>\n",
       "      <td>Anger</td>\n",
       "    </tr>\n",
       "    <tr>\n",
       "      <th>4</th>\n",
       "      <td>dih lu yg nyebelin bego</td>\n",
       "      <td>Anger</td>\n",
       "    </tr>\n",
       "    <tr>\n",
       "      <th>...</th>\n",
       "      <td>...</td>\n",
       "      <td>...</td>\n",
       "    </tr>\n",
       "    <tr>\n",
       "      <th>1125</th>\n",
       "      <td>dan yg emng belom tau banyak lah tentang dunia...</td>\n",
       "      <td>Anger</td>\n",
       "    </tr>\n",
       "    <tr>\n",
       "      <th>1126</th>\n",
       "      <td>aa kesel bgt anying. dia sudah di bandaraa, gi...</td>\n",
       "      <td>Anger</td>\n",
       "    </tr>\n",
       "    <tr>\n",
       "      <th>1127</th>\n",
       "      <td>ini segala keresahan gua udah mau ilang nihh, ...</td>\n",
       "      <td>Anger</td>\n",
       "    </tr>\n",
       "    <tr>\n",
       "      <th>1128</th>\n",
       "      <td>gue pernah datang lebih awal, sebelum waktu ny...</td>\n",
       "      <td>Anger</td>\n",
       "    </tr>\n",
       "    <tr>\n",
       "      <th>1129</th>\n",
       "      <td>telat lu ngasih tau faktanya min,kalo sblm per...</td>\n",
       "      <td>Anger</td>\n",
       "    </tr>\n",
       "  </tbody>\n",
       "</table>\n",
       "<p>1130 rows × 2 columns</p>\n",
       "</div>"
      ],
      "text/plain": [
       "                                                  tweet  label\n",
       "0                           pagi2 udah di buat emosi :)  Anger\n",
       "1     kok stabilitas negara, memange 10 thn negara t...  Anger\n",
       "2                          dah lah emosi mulu liat emyu  Anger\n",
       "3     aib? bodoh benar! sebelum kata aib itu muncul,...  Anger\n",
       "4                               dih lu yg nyebelin bego  Anger\n",
       "...                                                 ...    ...\n",
       "1125  dan yg emng belom tau banyak lah tentang dunia...  Anger\n",
       "1126  aa kesel bgt anying. dia sudah di bandaraa, gi...  Anger\n",
       "1127  ini segala keresahan gua udah mau ilang nihh, ...  Anger\n",
       "1128  gue pernah datang lebih awal, sebelum waktu ny...  Anger\n",
       "1129  telat lu ngasih tau faktanya min,kalo sblm per...  Anger\n",
       "\n",
       "[1130 rows x 2 columns]"
      ]
     },
     "execution_count": 3,
     "metadata": {},
     "output_type": "execute_result"
    }
   ],
   "source": [
    "anger_data = pd.read_csv(\"./Dataset/Training/Training_Raw/AngerData.csv\", on_bad_lines=\"skip\", delimiter=\"\\t\")\n",
    "anger_data"
   ]
  },
  {
   "cell_type": "code",
   "execution_count": 4,
   "id": "3031f9f6",
   "metadata": {},
   "outputs": [
    {
     "data": {
      "text/html": [
       "<div>\n",
       "<style scoped>\n",
       "    .dataframe tbody tr th:only-of-type {\n",
       "        vertical-align: middle;\n",
       "    }\n",
       "\n",
       "    .dataframe tbody tr th {\n",
       "        vertical-align: top;\n",
       "    }\n",
       "\n",
       "    .dataframe thead th {\n",
       "        text-align: right;\n",
       "    }\n",
       "</style>\n",
       "<table border=\"1\" class=\"dataframe\">\n",
       "  <thead>\n",
       "    <tr style=\"text-align: right;\">\n",
       "      <th></th>\n",
       "      <th>tweet</th>\n",
       "      <th>label</th>\n",
       "    </tr>\n",
       "  </thead>\n",
       "  <tbody>\n",
       "    <tr>\n",
       "      <th>0</th>\n",
       "      <td>trs barusan dia reach out aku trs minta tolong...</td>\n",
       "      <td>Fear</td>\n",
       "    </tr>\n",
       "    <tr>\n",
       "      <th>1</th>\n",
       "      <td>sumpah ini receh bgt dan not bts related. cm j...</td>\n",
       "      <td>Fear</td>\n",
       "    </tr>\n",
       "    <tr>\n",
       "      <th>2</th>\n",
       "      <td>ragu utk bisa beli barang tu karn harganya bis...</td>\n",
       "      <td>Fear</td>\n",
       "    </tr>\n",
       "    <tr>\n",
       "      <th>3</th>\n",
       "      <td>bisa gak sih langsung tanggal 11 aja gausah ad...</td>\n",
       "      <td>Fear</td>\n",
       "    </tr>\n",
       "    <tr>\n",
       "      <th>4</th>\n",
       "      <td>iya kaan yg lain suka pada coba pd gpp tp tete...</td>\n",
       "      <td>Fear</td>\n",
       "    </tr>\n",
       "    <tr>\n",
       "      <th>...</th>\n",
       "      <td>...</td>\n",
       "      <td>...</td>\n",
       "    </tr>\n",
       "    <tr>\n",
       "      <th>906</th>\n",
       "      <td>bgt! sepi dan serem</td>\n",
       "      <td>Fear</td>\n",
       "    </tr>\n",
       "    <tr>\n",
       "      <th>907</th>\n",
       "      <td>sepi aneh kayak ada yg perhatiin tapi gk ada s...</td>\n",
       "      <td>Fear</td>\n",
       "    </tr>\n",
       "    <tr>\n",
       "      <th>908</th>\n",
       "      <td>joonyoung.. paling merinding sama sedih jadi 1</td>\n",
       "      <td>Fear</td>\n",
       "    </tr>\n",
       "    <tr>\n",
       "      <th>909</th>\n",
       "      <td>mau nonton kukira kau rumah awokaowkwk, tapi t...</td>\n",
       "      <td>Fear</td>\n",
       "    </tr>\n",
       "    <tr>\n",
       "      <th>910</th>\n",
       "      <td>gila, sepi bgt rumah gue berasa nge kos nying ...</td>\n",
       "      <td>Fear</td>\n",
       "    </tr>\n",
       "  </tbody>\n",
       "</table>\n",
       "<p>911 rows × 2 columns</p>\n",
       "</div>"
      ],
      "text/plain": [
       "                                                 tweet label\n",
       "0    trs barusan dia reach out aku trs minta tolong...  Fear\n",
       "1    sumpah ini receh bgt dan not bts related. cm j...  Fear\n",
       "2    ragu utk bisa beli barang tu karn harganya bis...  Fear\n",
       "3    bisa gak sih langsung tanggal 11 aja gausah ad...  Fear\n",
       "4    iya kaan yg lain suka pada coba pd gpp tp tete...  Fear\n",
       "..                                                 ...   ...\n",
       "906                                bgt! sepi dan serem  Fear\n",
       "907  sepi aneh kayak ada yg perhatiin tapi gk ada s...  Fear\n",
       "908     joonyoung.. paling merinding sama sedih jadi 1  Fear\n",
       "909  mau nonton kukira kau rumah awokaowkwk, tapi t...  Fear\n",
       "910  gila, sepi bgt rumah gue berasa nge kos nying ...  Fear\n",
       "\n",
       "[911 rows x 2 columns]"
      ]
     },
     "execution_count": 4,
     "metadata": {},
     "output_type": "execute_result"
    }
   ],
   "source": [
    "fear_data = pd.read_csv(\"./Dataset/Training/Training_Raw/FearData.csv\", on_bad_lines=\"skip\", delimiter=\"\\t\")\n",
    "fear_data"
   ]
  },
  {
   "cell_type": "code",
   "execution_count": 5,
   "id": "159e66a0",
   "metadata": {},
   "outputs": [
    {
     "data": {
      "text/html": [
       "<div>\n",
       "<style scoped>\n",
       "    .dataframe tbody tr th:only-of-type {\n",
       "        vertical-align: middle;\n",
       "    }\n",
       "\n",
       "    .dataframe tbody tr th {\n",
       "        vertical-align: top;\n",
       "    }\n",
       "\n",
       "    .dataframe thead th {\n",
       "        text-align: right;\n",
       "    }\n",
       "</style>\n",
       "<table border=\"1\" class=\"dataframe\">\n",
       "  <thead>\n",
       "    <tr style=\"text-align: right;\">\n",
       "      <th></th>\n",
       "      <th>tweet</th>\n",
       "      <th>label</th>\n",
       "    </tr>\n",
       "  </thead>\n",
       "  <tbody>\n",
       "    <tr>\n",
       "      <th>0</th>\n",
       "      <td>dipeluk enak nih</td>\n",
       "      <td>Joy</td>\n",
       "    </tr>\n",
       "    <tr>\n",
       "      <th>1</th>\n",
       "      <td>masih dongg wkkwkwtar klo gk semangat gk bisa ...</td>\n",
       "      <td>Joy</td>\n",
       "    </tr>\n",
       "    <tr>\n",
       "      <th>2</th>\n",
       "      <td>semangat dan bertambah kuatlah kalian frp_nats...</td>\n",
       "      <td>Joy</td>\n",
       "    </tr>\n",
       "    <tr>\n",
       "      <th>3</th>\n",
       "      <td>jangan lupa sarapann semangat buat hari inii a...</td>\n",
       "      <td>Joy</td>\n",
       "    </tr>\n",
       "    <tr>\n",
       "      <th>4</th>\n",
       "      <td>aw ikut seneng semangat ya kuliahnya!</td>\n",
       "      <td>Joy</td>\n",
       "    </tr>\n",
       "    <tr>\n",
       "      <th>...</th>\n",
       "      <td>...</td>\n",
       "      <td>...</td>\n",
       "    </tr>\n",
       "    <tr>\n",
       "      <th>1270</th>\n",
       "      <td>yaaaa rumah sepi. mari kita party wakwakk</td>\n",
       "      <td>Joy</td>\n",
       "    </tr>\n",
       "    <tr>\n",
       "      <th>1271</th>\n",
       "      <td>seru tau prenjon zer kdng sedih kdng baper, se...</td>\n",
       "      <td>Joy</td>\n",
       "    </tr>\n",
       "    <tr>\n",
       "      <th>1272</th>\n",
       "      <td>aahh iyaa bgtt hazaa!! kek tbtb bawaannya mell...</td>\n",
       "      <td>Joy</td>\n",
       "    </tr>\n",
       "    <tr>\n",
       "      <th>1273</th>\n",
       "      <td>kadrun kroco sih cuman dapet nasbung jk ada or...</td>\n",
       "      <td>Joy</td>\n",
       "    </tr>\n",
       "    <tr>\n",
       "      <th>1274</th>\n",
       "      <td>lg sedih jdi terhibur aq</td>\n",
       "      <td>Joy</td>\n",
       "    </tr>\n",
       "  </tbody>\n",
       "</table>\n",
       "<p>1275 rows × 2 columns</p>\n",
       "</div>"
      ],
      "text/plain": [
       "                                                  tweet label\n",
       "0                                      dipeluk enak nih   Joy\n",
       "1     masih dongg wkkwkwtar klo gk semangat gk bisa ...   Joy\n",
       "2     semangat dan bertambah kuatlah kalian frp_nats...   Joy\n",
       "3     jangan lupa sarapann semangat buat hari inii a...   Joy\n",
       "4                 aw ikut seneng semangat ya kuliahnya!   Joy\n",
       "...                                                 ...   ...\n",
       "1270          yaaaa rumah sepi. mari kita party wakwakk   Joy\n",
       "1271  seru tau prenjon zer kdng sedih kdng baper, se...   Joy\n",
       "1272  aahh iyaa bgtt hazaa!! kek tbtb bawaannya mell...   Joy\n",
       "1273  kadrun kroco sih cuman dapet nasbung jk ada or...   Joy\n",
       "1274                           lg sedih jdi terhibur aq   Joy\n",
       "\n",
       "[1275 rows x 2 columns]"
      ]
     },
     "execution_count": 5,
     "metadata": {},
     "output_type": "execute_result"
    }
   ],
   "source": [
    "joy_data = pd.read_csv(\"./Dataset/Training/Training_Raw/JoyData.csv\", on_bad_lines=\"skip\", delimiter=\"\\t\")\n",
    "joy_data"
   ]
  },
  {
   "cell_type": "code",
   "execution_count": 6,
   "id": "6360d858",
   "metadata": {},
   "outputs": [
    {
     "data": {
      "text/html": [
       "<div>\n",
       "<style scoped>\n",
       "    .dataframe tbody tr th:only-of-type {\n",
       "        vertical-align: middle;\n",
       "    }\n",
       "\n",
       "    .dataframe tbody tr th {\n",
       "        vertical-align: top;\n",
       "    }\n",
       "\n",
       "    .dataframe thead th {\n",
       "        text-align: right;\n",
       "    }\n",
       "</style>\n",
       "<table border=\"1\" class=\"dataframe\">\n",
       "  <thead>\n",
       "    <tr style=\"text-align: right;\">\n",
       "      <th></th>\n",
       "      <th>tweet</th>\n",
       "      <th>label</th>\n",
       "    </tr>\n",
       "  </thead>\n",
       "  <tbody>\n",
       "    <tr>\n",
       "      <th>0</th>\n",
       "      <td>suka banget kata2, \"kebenaran hanya menurut se...</td>\n",
       "      <td>Love</td>\n",
       "    </tr>\n",
       "    <tr>\n",
       "      <th>1</th>\n",
       "      <td>hanse mode anak rumahan gini tuh aku suka bang...</td>\n",
       "      <td>Love</td>\n",
       "    </tr>\n",
       "    <tr>\n",
       "      <th>2</th>\n",
       "      <td>ya kali ngejar ngejar cinta, ngejar tahajjud a...</td>\n",
       "      <td>Love</td>\n",
       "    </tr>\n",
       "    <tr>\n",
       "      <th>3</th>\n",
       "      <td>selamat pagi sender! sana avail nih pas hari v...</td>\n",
       "      <td>Love</td>\n",
       "    </tr>\n",
       "    <tr>\n",
       "      <th>4</th>\n",
       "      <td>sopaa!! cuz akuu suka banget jurusan tari di s...</td>\n",
       "      <td>Love</td>\n",
       "    </tr>\n",
       "    <tr>\n",
       "      <th>...</th>\n",
       "      <td>...</td>\n",
       "      <td>...</td>\n",
       "    </tr>\n",
       "    <tr>\n",
       "      <th>755</th>\n",
       "      <td>ngeliat teaser wonpil jadi sedih anjir apaan s...</td>\n",
       "      <td>Love</td>\n",
       "    </tr>\n",
       "    <tr>\n",
       "      <th>756</th>\n",
       "      <td>lae ku sayang jangan sedih ya, bentar lagu kau...</td>\n",
       "      <td>Love</td>\n",
       "    </tr>\n",
       "    <tr>\n",
       "      <th>757</th>\n",
       "      <td>lockey tetep harus support secret number juga,...</td>\n",
       "      <td>Love</td>\n",
       "    </tr>\n",
       "    <tr>\n",
       "      <th>758</th>\n",
       "      <td>ku tetap membelamu meski kau jahat, karna ku c...</td>\n",
       "      <td>Love</td>\n",
       "    </tr>\n",
       "    <tr>\n",
       "      <th>759</th>\n",
       "      <td>sayang sama chikaa</td>\n",
       "      <td>Love</td>\n",
       "    </tr>\n",
       "  </tbody>\n",
       "</table>\n",
       "<p>760 rows × 2 columns</p>\n",
       "</div>"
      ],
      "text/plain": [
       "                                                 tweet label\n",
       "0    suka banget kata2, \"kebenaran hanya menurut se...  Love\n",
       "1    hanse mode anak rumahan gini tuh aku suka bang...  Love\n",
       "2    ya kali ngejar ngejar cinta, ngejar tahajjud a...  Love\n",
       "3    selamat pagi sender! sana avail nih pas hari v...  Love\n",
       "4    sopaa!! cuz akuu suka banget jurusan tari di s...  Love\n",
       "..                                                 ...   ...\n",
       "755  ngeliat teaser wonpil jadi sedih anjir apaan s...  Love\n",
       "756  lae ku sayang jangan sedih ya, bentar lagu kau...  Love\n",
       "757  lockey tetep harus support secret number juga,...  Love\n",
       "758  ku tetap membelamu meski kau jahat, karna ku c...  Love\n",
       "759                                 sayang sama chikaa  Love\n",
       "\n",
       "[760 rows x 2 columns]"
      ]
     },
     "execution_count": 6,
     "metadata": {},
     "output_type": "execute_result"
    }
   ],
   "source": [
    "love_data = pd.read_csv(\"./Dataset/Training/Training_Raw/LoveData.csv\", on_bad_lines=\"skip\", delimiter=\"\\t\")\n",
    "love_data"
   ]
  },
  {
   "cell_type": "code",
   "execution_count": 7,
   "id": "8dbdc835",
   "metadata": {},
   "outputs": [
    {
     "data": {
      "text/html": [
       "<div>\n",
       "<style scoped>\n",
       "    .dataframe tbody tr th:only-of-type {\n",
       "        vertical-align: middle;\n",
       "    }\n",
       "\n",
       "    .dataframe tbody tr th {\n",
       "        vertical-align: top;\n",
       "    }\n",
       "\n",
       "    .dataframe thead th {\n",
       "        text-align: right;\n",
       "    }\n",
       "</style>\n",
       "<table border=\"1\" class=\"dataframe\">\n",
       "  <thead>\n",
       "    <tr style=\"text-align: right;\">\n",
       "      <th></th>\n",
       "      <th>tweet</th>\n",
       "      <th>label</th>\n",
       "    </tr>\n",
       "  </thead>\n",
       "  <tbody>\n",
       "    <tr>\n",
       "      <th>0</th>\n",
       "      <td>pengabdian yang terpuji meskipun terlihat biasa</td>\n",
       "      <td>Neutral</td>\n",
       "    </tr>\n",
       "    <tr>\n",
       "      <th>1</th>\n",
       "      <td>baru saja mengirim foto</td>\n",
       "      <td>Neutral</td>\n",
       "    </tr>\n",
       "    <tr>\n",
       "      <th>2</th>\n",
       "      <td>apa kabar dunia twitter ? masihkah selucu dan ...</td>\n",
       "      <td>Neutral</td>\n",
       "    </tr>\n",
       "    <tr>\n",
       "      <th>3</th>\n",
       "      <td>yah gimana sih yang yaudah susul aku dulu kita...</td>\n",
       "      <td>Neutral</td>\n",
       "    </tr>\n",
       "    <tr>\n",
       "      <th>4</th>\n",
       "      <td>saja ka dorg suro beli medium 2 set</td>\n",
       "      <td>Neutral</td>\n",
       "    </tr>\n",
       "    <tr>\n",
       "      <th>...</th>\n",
       "      <td>...</td>\n",
       "      <td>...</td>\n",
       "    </tr>\n",
       "    <tr>\n",
       "      <th>1996</th>\n",
       "      <td>karena tau rasa kesepian, manusia akan menjadi...</td>\n",
       "      <td>Neutral</td>\n",
       "    </tr>\n",
       "    <tr>\n",
       "      <th>1997</th>\n",
       "      <td>yang terbaik adalah percaya dan berlindung han...</td>\n",
       "      <td>Neutral</td>\n",
       "    </tr>\n",
       "    <tr>\n",
       "      <th>1998</th>\n",
       "      <td>sahabat adalah mereka yg tahu bahwa ada sedih ...</td>\n",
       "      <td>Neutral</td>\n",
       "    </tr>\n",
       "    <tr>\n",
       "      <th>1999</th>\n",
       "      <td>terkadang, bukan karena dusta, kamu membenci s...</td>\n",
       "      <td>Neutral</td>\n",
       "    </tr>\n",
       "    <tr>\n",
       "      <th>2000</th>\n",
       "      <td>kita dipertemukan oleh sepi dan dipisahkan kar...</td>\n",
       "      <td>Neutral</td>\n",
       "    </tr>\n",
       "  </tbody>\n",
       "</table>\n",
       "<p>2001 rows × 2 columns</p>\n",
       "</div>"
      ],
      "text/plain": [
       "                                                  tweet    label\n",
       "0       pengabdian yang terpuji meskipun terlihat biasa  Neutral\n",
       "1                               baru saja mengirim foto  Neutral\n",
       "2     apa kabar dunia twitter ? masihkah selucu dan ...  Neutral\n",
       "3     yah gimana sih yang yaudah susul aku dulu kita...  Neutral\n",
       "4                   saja ka dorg suro beli medium 2 set  Neutral\n",
       "...                                                 ...      ...\n",
       "1996  karena tau rasa kesepian, manusia akan menjadi...  Neutral\n",
       "1997  yang terbaik adalah percaya dan berlindung han...  Neutral\n",
       "1998  sahabat adalah mereka yg tahu bahwa ada sedih ...  Neutral\n",
       "1999  terkadang, bukan karena dusta, kamu membenci s...  Neutral\n",
       "2000  kita dipertemukan oleh sepi dan dipisahkan kar...  Neutral\n",
       "\n",
       "[2001 rows x 2 columns]"
      ]
     },
     "execution_count": 7,
     "metadata": {},
     "output_type": "execute_result"
    }
   ],
   "source": [
    "neutral_data = pd.read_csv(\"./Dataset/Training/Training_Raw/NeutralData.csv\", on_bad_lines=\"skip\", delimiter=\"\\t\")\n",
    "neutral_data"
   ]
  },
  {
   "cell_type": "code",
   "execution_count": 8,
   "id": "723e6353",
   "metadata": {},
   "outputs": [
    {
     "data": {
      "text/html": [
       "<div>\n",
       "<style scoped>\n",
       "    .dataframe tbody tr th:only-of-type {\n",
       "        vertical-align: middle;\n",
       "    }\n",
       "\n",
       "    .dataframe tbody tr th {\n",
       "        vertical-align: top;\n",
       "    }\n",
       "\n",
       "    .dataframe thead th {\n",
       "        text-align: right;\n",
       "    }\n",
       "</style>\n",
       "<table border=\"1\" class=\"dataframe\">\n",
       "  <thead>\n",
       "    <tr style=\"text-align: right;\">\n",
       "      <th></th>\n",
       "      <th>tweet</th>\n",
       "      <th>label</th>\n",
       "    </tr>\n",
       "  </thead>\n",
       "  <tbody>\n",
       "    <tr>\n",
       "      <th>0</th>\n",
       "      <td>akibat dari telat bangun, anak ikut bangun dan...</td>\n",
       "      <td>Sad</td>\n",
       "    </tr>\n",
       "    <tr>\n",
       "      <th>1</th>\n",
       "      <td>sepi</td>\n",
       "      <td>Sad</td>\n",
       "    </tr>\n",
       "    <tr>\n",
       "      <th>2</th>\n",
       "      <td>sedih dah</td>\n",
       "      <td>Sad</td>\n",
       "    </tr>\n",
       "    <tr>\n",
       "      <th>3</th>\n",
       "      <td>sedih emg kalo ditinggal temen ngebucin, sedih...</td>\n",
       "      <td>Sad</td>\n",
       "    </tr>\n",
       "    <tr>\n",
       "      <th>4</th>\n",
       "      <td>sedih bener niih club ya</td>\n",
       "      <td>Sad</td>\n",
       "    </tr>\n",
       "    <tr>\n",
       "      <th>...</th>\n",
       "      <td>...</td>\n",
       "      <td>...</td>\n",
       "    </tr>\n",
       "    <tr>\n",
       "      <th>998</th>\n",
       "      <td>pagi saat seisi semesta sujud pada zat yg acap...</td>\n",
       "      <td>Sad</td>\n",
       "    </tr>\n",
       "    <tr>\n",
       "      <th>999</th>\n",
       "      <td>meski engkau yg pergi, meski engkau yg meningg...</td>\n",
       "      <td>Sad</td>\n",
       "    </tr>\n",
       "    <tr>\n",
       "      <th>1000</th>\n",
       "      <td>udah biasa kalah dan tersakiti</td>\n",
       "      <td>Sad</td>\n",
       "    </tr>\n",
       "    <tr>\n",
       "      <th>1001</th>\n",
       "      <td>apakabar ku?. apakah baik-baik saja,, tidak, a...</td>\n",
       "      <td>Sad</td>\n",
       "    </tr>\n",
       "    <tr>\n",
       "      <th>1002</th>\n",
       "      <td>this user sdg tidak.baik.baik saja sdg stress</td>\n",
       "      <td>Sad</td>\n",
       "    </tr>\n",
       "  </tbody>\n",
       "</table>\n",
       "<p>1003 rows × 2 columns</p>\n",
       "</div>"
      ],
      "text/plain": [
       "                                                  tweet label\n",
       "0     akibat dari telat bangun, anak ikut bangun dan...   Sad\n",
       "1                                                  sepi   Sad\n",
       "2                                             sedih dah   Sad\n",
       "3     sedih emg kalo ditinggal temen ngebucin, sedih...   Sad\n",
       "4                              sedih bener niih club ya   Sad\n",
       "...                                                 ...   ...\n",
       "998   pagi saat seisi semesta sujud pada zat yg acap...   Sad\n",
       "999   meski engkau yg pergi, meski engkau yg meningg...   Sad\n",
       "1000                     udah biasa kalah dan tersakiti   Sad\n",
       "1001  apakabar ku?. apakah baik-baik saja,, tidak, a...   Sad\n",
       "1002      this user sdg tidak.baik.baik saja sdg stress   Sad\n",
       "\n",
       "[1003 rows x 2 columns]"
      ]
     },
     "execution_count": 8,
     "metadata": {},
     "output_type": "execute_result"
    }
   ],
   "source": [
    "sad_data = pd.read_csv(\"./Dataset/Training/Training_Raw/SadData.csv\", on_bad_lines=\"skip\", delimiter=\"\\t\")\n",
    "sad_data"
   ]
  },
  {
   "cell_type": "markdown",
   "id": "d4c29f35-0e98-4fc7-8f13-c7a2e0315556",
   "metadata": {},
   "source": [
    "Gabungkan semua data menjadi satu dataframe."
   ]
  },
  {
   "cell_type": "code",
   "execution_count": 9,
   "id": "a3d0e1b0-385e-4ce5-95b1-0b44131bf1dd",
   "metadata": {
    "tags": []
   },
   "outputs": [
    {
     "data": {
      "text/html": [
       "<div>\n",
       "<style scoped>\n",
       "    .dataframe tbody tr th:only-of-type {\n",
       "        vertical-align: middle;\n",
       "    }\n",
       "\n",
       "    .dataframe tbody tr th {\n",
       "        vertical-align: top;\n",
       "    }\n",
       "\n",
       "    .dataframe thead th {\n",
       "        text-align: right;\n",
       "    }\n",
       "</style>\n",
       "<table border=\"1\" class=\"dataframe\">\n",
       "  <thead>\n",
       "    <tr style=\"text-align: right;\">\n",
       "      <th></th>\n",
       "      <th>tweet</th>\n",
       "      <th>label</th>\n",
       "    </tr>\n",
       "  </thead>\n",
       "  <tbody>\n",
       "    <tr>\n",
       "      <th>0</th>\n",
       "      <td>pagi2 udah di buat emosi :)</td>\n",
       "      <td>Anger</td>\n",
       "    </tr>\n",
       "    <tr>\n",
       "      <th>1</th>\n",
       "      <td>kok stabilitas negara, memange 10 thn negara t...</td>\n",
       "      <td>Anger</td>\n",
       "    </tr>\n",
       "    <tr>\n",
       "      <th>2</th>\n",
       "      <td>dah lah emosi mulu liat emyu</td>\n",
       "      <td>Anger</td>\n",
       "    </tr>\n",
       "    <tr>\n",
       "      <th>3</th>\n",
       "      <td>aib? bodoh benar! sebelum kata aib itu muncul,...</td>\n",
       "      <td>Anger</td>\n",
       "    </tr>\n",
       "    <tr>\n",
       "      <th>4</th>\n",
       "      <td>dih lu yg nyebelin bego</td>\n",
       "      <td>Anger</td>\n",
       "    </tr>\n",
       "    <tr>\n",
       "      <th>...</th>\n",
       "      <td>...</td>\n",
       "      <td>...</td>\n",
       "    </tr>\n",
       "    <tr>\n",
       "      <th>7075</th>\n",
       "      <td>pagi saat seisi semesta sujud pada zat yg acap...</td>\n",
       "      <td>Sad</td>\n",
       "    </tr>\n",
       "    <tr>\n",
       "      <th>7076</th>\n",
       "      <td>meski engkau yg pergi, meski engkau yg meningg...</td>\n",
       "      <td>Sad</td>\n",
       "    </tr>\n",
       "    <tr>\n",
       "      <th>7077</th>\n",
       "      <td>udah biasa kalah dan tersakiti</td>\n",
       "      <td>Sad</td>\n",
       "    </tr>\n",
       "    <tr>\n",
       "      <th>7078</th>\n",
       "      <td>apakabar ku?. apakah baik-baik saja,, tidak, a...</td>\n",
       "      <td>Sad</td>\n",
       "    </tr>\n",
       "    <tr>\n",
       "      <th>7079</th>\n",
       "      <td>this user sdg tidak.baik.baik saja sdg stress</td>\n",
       "      <td>Sad</td>\n",
       "    </tr>\n",
       "  </tbody>\n",
       "</table>\n",
       "<p>7080 rows × 2 columns</p>\n",
       "</div>"
      ],
      "text/plain": [
       "                                                  tweet  label\n",
       "0                           pagi2 udah di buat emosi :)  Anger\n",
       "1     kok stabilitas negara, memange 10 thn negara t...  Anger\n",
       "2                          dah lah emosi mulu liat emyu  Anger\n",
       "3     aib? bodoh benar! sebelum kata aib itu muncul,...  Anger\n",
       "4                               dih lu yg nyebelin bego  Anger\n",
       "...                                                 ...    ...\n",
       "7075  pagi saat seisi semesta sujud pada zat yg acap...    Sad\n",
       "7076  meski engkau yg pergi, meski engkau yg meningg...    Sad\n",
       "7077                     udah biasa kalah dan tersakiti    Sad\n",
       "7078  apakabar ku?. apakah baik-baik saja,, tidak, a...    Sad\n",
       "7079      this user sdg tidak.baik.baik saja sdg stress    Sad\n",
       "\n",
       "[7080 rows x 2 columns]"
      ]
     },
     "execution_count": 9,
     "metadata": {},
     "output_type": "execute_result"
    }
   ],
   "source": [
    "train_data = pd.concat([anger_data,fear_data,joy_data,love_data,neutral_data,sad_data])\n",
    "train_data.reset_index(inplace=True,drop=True)\n",
    "train_data"
   ]
  },
  {
   "cell_type": "code",
   "execution_count": 10,
   "id": "9db21791-5d11-45c9-b4c8-a234bb30e665",
   "metadata": {},
   "outputs": [],
   "source": [
    "train_data.to_csv('./Dataset/Training/not_preposessing2.csv')"
   ]
  },
  {
   "cell_type": "markdown",
   "id": "a6a39c0f-f0f0-462b-9b4f-878cca6da25d",
   "metadata": {
    "tags": []
   },
   "source": [
    "# EDA"
   ]
  },
  {
   "cell_type": "markdown",
   "id": "27f13fae-1676-41b4-8832-53924802862a",
   "metadata": {},
   "source": [
    "Sebelum melakukan preprossing pada data, akan dilakukan eda secara singkat untuk melihat tipe data dan null values pada data."
   ]
  },
  {
   "cell_type": "code",
   "execution_count": 11,
   "id": "3119b05d-8d13-427b-8c9f-23aae89fcf28",
   "metadata": {
    "tags": []
   },
   "outputs": [],
   "source": [
    "eda_data = train_data.copy()"
   ]
  },
  {
   "cell_type": "markdown",
   "id": "f7bc35d6-0c0a-401a-a253-1c217660c0b5",
   "metadata": {},
   "source": [
    "## Null Values"
   ]
  },
  {
   "cell_type": "code",
   "execution_count": 12,
   "id": "b49ae05e-2af9-4309-8277-d851a1620f62",
   "metadata": {
    "tags": []
   },
   "outputs": [
    {
     "name": "stdout",
     "output_type": "stream",
     "text": [
      "Null Values:\n"
     ]
    },
    {
     "data": {
      "text/plain": [
       "tweet    0\n",
       "label    0\n",
       "dtype: int64"
      ]
     },
     "execution_count": 12,
     "metadata": {},
     "output_type": "execute_result"
    }
   ],
   "source": [
    "print(\"Null Values:\")\n",
    "eda_data.isna().sum()"
   ]
  },
  {
   "cell_type": "markdown",
   "id": "ad4a747a-c8c8-435b-bbb7-d958403e6de8",
   "metadata": {},
   "source": [
    "## Data Types"
   ]
  },
  {
   "cell_type": "code",
   "execution_count": 13,
   "id": "c2e3d2c9-fe8f-4012-a60c-57bfcded847c",
   "metadata": {
    "tags": []
   },
   "outputs": [
    {
     "name": "stdout",
     "output_type": "stream",
     "text": [
      "Data Types:\n",
      "<class 'pandas.core.frame.DataFrame'>\n",
      "RangeIndex: 7080 entries, 0 to 7079\n",
      "Data columns (total 2 columns):\n",
      " #   Column  Non-Null Count  Dtype \n",
      "---  ------  --------------  ----- \n",
      " 0   tweet   7080 non-null   object\n",
      " 1   label   7080 non-null   object\n",
      "dtypes: object(2)\n",
      "memory usage: 110.8+ KB\n"
     ]
    }
   ],
   "source": [
    "print(\"Data Types:\")\n",
    "eda_data.info()"
   ]
  },
  {
   "cell_type": "code",
   "execution_count": 14,
   "id": "949c016a",
   "metadata": {},
   "outputs": [
    {
     "data": {
      "text/html": [
       "<div>\n",
       "<style scoped>\n",
       "    .dataframe tbody tr th:only-of-type {\n",
       "        vertical-align: middle;\n",
       "    }\n",
       "\n",
       "    .dataframe tbody tr th {\n",
       "        vertical-align: top;\n",
       "    }\n",
       "\n",
       "    .dataframe thead th {\n",
       "        text-align: right;\n",
       "    }\n",
       "</style>\n",
       "<table border=\"1\" class=\"dataframe\">\n",
       "  <thead>\n",
       "    <tr style=\"text-align: right;\">\n",
       "      <th></th>\n",
       "      <th>tweet</th>\n",
       "      <th>label</th>\n",
       "    </tr>\n",
       "  </thead>\n",
       "  <tbody>\n",
       "    <tr>\n",
       "      <th>0</th>\n",
       "      <td>pagi2 udah di buat emosi :)</td>\n",
       "      <td>Anger</td>\n",
       "    </tr>\n",
       "    <tr>\n",
       "      <th>1</th>\n",
       "      <td>kok stabilitas negara, memange 10 thn negara t...</td>\n",
       "      <td>Anger</td>\n",
       "    </tr>\n",
       "    <tr>\n",
       "      <th>2</th>\n",
       "      <td>dah lah emosi mulu liat emyu</td>\n",
       "      <td>Anger</td>\n",
       "    </tr>\n",
       "    <tr>\n",
       "      <th>3</th>\n",
       "      <td>aib? bodoh benar! sebelum kata aib itu muncul,...</td>\n",
       "      <td>Anger</td>\n",
       "    </tr>\n",
       "    <tr>\n",
       "      <th>4</th>\n",
       "      <td>dih lu yg nyebelin bego</td>\n",
       "      <td>Anger</td>\n",
       "    </tr>\n",
       "  </tbody>\n",
       "</table>\n",
       "</div>"
      ],
      "text/plain": [
       "                                               tweet  label\n",
       "0                        pagi2 udah di buat emosi :)  Anger\n",
       "1  kok stabilitas negara, memange 10 thn negara t...  Anger\n",
       "2                       dah lah emosi mulu liat emyu  Anger\n",
       "3  aib? bodoh benar! sebelum kata aib itu muncul,...  Anger\n",
       "4                            dih lu yg nyebelin bego  Anger"
      ]
     },
     "execution_count": 14,
     "metadata": {},
     "output_type": "execute_result"
    }
   ],
   "source": [
    "eda_data.head()\n"
   ]
  },
  {
   "cell_type": "markdown",
   "id": "d80553a3-af7e-4650-9c72-f9da510c8ff7",
   "metadata": {},
   "source": [
    "## Label Proportion"
   ]
  },
  {
   "cell_type": "code",
   "execution_count": 15,
   "id": "57e5b299-9b13-4321-8f8b-5702ed8f3e50",
   "metadata": {
    "tags": []
   },
   "outputs": [
    {
     "data": {
      "image/png": "[encoded data removed]",
      "text/plain": [
       "<Figure size 1000x600 with 1 Axes>"
      ]
     },
     "metadata": {},
     "output_type": "display_data"
    }
   ],
   "source": [
    "label_counts = eda_data[\"label\"].value_counts()\n",
    "\n",
    "# Generate a color palette with a unique color for each label\n",
    "palette = sns.color_palette(\"husl\", len(label_counts))\n",
    "\n",
    "# Create a bar plot\n",
    "plt.figure(figsize=(10, 6))\n",
    "label_counts.plot(kind='bar', color=palette)\n",
    "plt.title('Distribution of Labels')\n",
    "plt.xlabel('Labels')\n",
    "plt.ylabel('Count')\n",
    "plt.xticks(rotation=45)  # Rotate x-axis labels for better readability\n",
    "plt.show()"
   ]
  },
  {
   "cell_type": "markdown",
   "id": "a7782e60-6c36-4187-9092-21792748bcad",
   "metadata": {},
   "source": [
    "Netral memiliki lebih banyak data dibandingkan label yang lain. "
   ]
  },
  {
   "cell_type": "markdown",
   "id": "311ff529-06ba-42dd-8172-95b292a0de9e",
   "metadata": {},
   "source": [
    "## Data Distribution"
   ]
  },
  {
   "cell_type": "code",
   "execution_count": 16,
   "id": "6ffd222b-08a8-4a8e-8985-99ce0298f211",
   "metadata": {
    "tags": []
   },
   "outputs": [
    {
     "data": {
      "text/html": [
       "<div>\n",
       "<style scoped>\n",
       "    .dataframe tbody tr th:only-of-type {\n",
       "        vertical-align: middle;\n",
       "    }\n",
       "\n",
       "    .dataframe tbody tr th {\n",
       "        vertical-align: top;\n",
       "    }\n",
       "\n",
       "    .dataframe thead th {\n",
       "        text-align: right;\n",
       "    }\n",
       "</style>\n",
       "<table border=\"1\" class=\"dataframe\">\n",
       "  <thead>\n",
       "    <tr style=\"text-align: right;\">\n",
       "      <th></th>\n",
       "      <th>tweet</th>\n",
       "      <th>label</th>\n",
       "      <th>Length</th>\n",
       "    </tr>\n",
       "  </thead>\n",
       "  <tbody>\n",
       "    <tr>\n",
       "      <th>0</th>\n",
       "      <td>pagi2 udah di buat emosi :)</td>\n",
       "      <td>Anger</td>\n",
       "      <td>27</td>\n",
       "    </tr>\n",
       "    <tr>\n",
       "      <th>1</th>\n",
       "      <td>kok stabilitas negara, memange 10 thn negara t...</td>\n",
       "      <td>Anger</td>\n",
       "      <td>184</td>\n",
       "    </tr>\n",
       "    <tr>\n",
       "      <th>2</th>\n",
       "      <td>dah lah emosi mulu liat emyu</td>\n",
       "      <td>Anger</td>\n",
       "      <td>28</td>\n",
       "    </tr>\n",
       "    <tr>\n",
       "      <th>3</th>\n",
       "      <td>aib? bodoh benar! sebelum kata aib itu muncul,...</td>\n",
       "      <td>Anger</td>\n",
       "      <td>277</td>\n",
       "    </tr>\n",
       "    <tr>\n",
       "      <th>4</th>\n",
       "      <td>dih lu yg nyebelin bego</td>\n",
       "      <td>Anger</td>\n",
       "      <td>23</td>\n",
       "    </tr>\n",
       "    <tr>\n",
       "      <th>5</th>\n",
       "      <td>asli malu maluin org indo tolol yg rep latah \"...</td>\n",
       "      <td>Anger</td>\n",
       "      <td>211</td>\n",
       "    </tr>\n",
       "    <tr>\n",
       "      <th>6</th>\n",
       "      <td>drama abg tolol</td>\n",
       "      <td>Anger</td>\n",
       "      <td>15</td>\n",
       "    </tr>\n",
       "    <tr>\n",
       "      <th>7</th>\n",
       "      <td>masih emosi sih sama katla kemarin. mana keter...</td>\n",
       "      <td>Anger</td>\n",
       "      <td>87</td>\n",
       "    </tr>\n",
       "    <tr>\n",
       "      <th>8</th>\n",
       "      <td>bangsat tribute no.1, bencana no.2 mau ngalahi...</td>\n",
       "      <td>Anger</td>\n",
       "      <td>58</td>\n",
       "    </tr>\n",
       "    <tr>\n",
       "      <th>9</th>\n",
       "      <td>pengen pergi jauh terus teriak sambil nangis s...</td>\n",
       "      <td>Anger</td>\n",
       "      <td>136</td>\n",
       "    </tr>\n",
       "  </tbody>\n",
       "</table>\n",
       "</div>"
      ],
      "text/plain": [
       "                                               tweet  label  Length\n",
       "0                        pagi2 udah di buat emosi :)  Anger      27\n",
       "1  kok stabilitas negara, memange 10 thn negara t...  Anger     184\n",
       "2                       dah lah emosi mulu liat emyu  Anger      28\n",
       "3  aib? bodoh benar! sebelum kata aib itu muncul,...  Anger     277\n",
       "4                            dih lu yg nyebelin bego  Anger      23\n",
       "5  asli malu maluin org indo tolol yg rep latah \"...  Anger     211\n",
       "6                                    drama abg tolol  Anger      15\n",
       "7  masih emosi sih sama katla kemarin. mana keter...  Anger      87\n",
       "8  bangsat tribute no.1, bencana no.2 mau ngalahi...  Anger      58\n",
       "9  pengen pergi jauh terus teriak sambil nangis s...  Anger     136"
      ]
     },
     "execution_count": 16,
     "metadata": {},
     "output_type": "execute_result"
    }
   ],
   "source": [
    "eda_data['Length'] = eda_data['tweet'].str.len()\n",
    "eda_data.head(10)"
   ]
  },
  {
   "cell_type": "code",
   "execution_count": 17,
   "id": "81000f35-90d4-4019-9337-2384744cf933",
   "metadata": {
    "tags": []
   },
   "outputs": [
    {
     "name": "stdout",
     "output_type": "stream",
     "text": [
      "Rata-rata panjang karakter tweet : 99.51\n"
     ]
    }
   ],
   "source": [
    "print(f\"Rata-rata panjang karakter tweet : {eda_data['Length'].mean():.2f}\")"
   ]
  },
  {
   "cell_type": "code",
   "execution_count": 18,
   "id": "33aad1cd-e0a1-4bc2-a354-4cfc1c9a18cc",
   "metadata": {
    "tags": []
   },
   "outputs": [
    {
     "name": "stdout",
     "output_type": "stream",
     "text": [
      "Jumlah panjang karakter tweet  : 704496.00\n"
     ]
    }
   ],
   "source": [
    "print(f\"Jumlah panjang karakter tweet  : {eda_data['Length'].sum():.2f}\")"
   ]
  },
  {
   "cell_type": "code",
   "execution_count": 19,
   "id": "a5b567d0-3946-4fd2-98db-cd92f48a8094",
   "metadata": {
    "tags": []
   },
   "outputs": [],
   "source": [
    "def word_count(tweet):\n",
    "    tweet_list = tweet.split()\n",
    "    return len(tweet_list)"
   ]
  },
  {
   "cell_type": "code",
   "execution_count": 20,
   "id": "b61a5f68-7957-421b-9781-bcc0a883a6bb",
   "metadata": {
    "tags": []
   },
   "outputs": [
    {
     "data": {
      "text/html": [
       "<div>\n",
       "<style scoped>\n",
       "    .dataframe tbody tr th:only-of-type {\n",
       "        vertical-align: middle;\n",
       "    }\n",
       "\n",
       "    .dataframe tbody tr th {\n",
       "        vertical-align: top;\n",
       "    }\n",
       "\n",
       "    .dataframe thead th {\n",
       "        text-align: right;\n",
       "    }\n",
       "</style>\n",
       "<table border=\"1\" class=\"dataframe\">\n",
       "  <thead>\n",
       "    <tr style=\"text-align: right;\">\n",
       "      <th></th>\n",
       "      <th>tweet</th>\n",
       "      <th>label</th>\n",
       "      <th>Length</th>\n",
       "      <th>Word_count</th>\n",
       "    </tr>\n",
       "  </thead>\n",
       "  <tbody>\n",
       "    <tr>\n",
       "      <th>0</th>\n",
       "      <td>pagi2 udah di buat emosi :)</td>\n",
       "      <td>Anger</td>\n",
       "      <td>27</td>\n",
       "      <td>6</td>\n",
       "    </tr>\n",
       "    <tr>\n",
       "      <th>1</th>\n",
       "      <td>kok stabilitas negara, memange 10 thn negara t...</td>\n",
       "      <td>Anger</td>\n",
       "      <td>184</td>\n",
       "      <td>25</td>\n",
       "    </tr>\n",
       "    <tr>\n",
       "      <th>2</th>\n",
       "      <td>dah lah emosi mulu liat emyu</td>\n",
       "      <td>Anger</td>\n",
       "      <td>28</td>\n",
       "      <td>6</td>\n",
       "    </tr>\n",
       "    <tr>\n",
       "      <th>3</th>\n",
       "      <td>aib? bodoh benar! sebelum kata aib itu muncul,...</td>\n",
       "      <td>Anger</td>\n",
       "      <td>277</td>\n",
       "      <td>40</td>\n",
       "    </tr>\n",
       "    <tr>\n",
       "      <th>4</th>\n",
       "      <td>dih lu yg nyebelin bego</td>\n",
       "      <td>Anger</td>\n",
       "      <td>23</td>\n",
       "      <td>5</td>\n",
       "    </tr>\n",
       "    <tr>\n",
       "      <th>5</th>\n",
       "      <td>asli malu maluin org indo tolol yg rep latah \"...</td>\n",
       "      <td>Anger</td>\n",
       "      <td>211</td>\n",
       "      <td>37</td>\n",
       "    </tr>\n",
       "    <tr>\n",
       "      <th>6</th>\n",
       "      <td>drama abg tolol</td>\n",
       "      <td>Anger</td>\n",
       "      <td>15</td>\n",
       "      <td>3</td>\n",
       "    </tr>\n",
       "    <tr>\n",
       "      <th>7</th>\n",
       "      <td>masih emosi sih sama katla kemarin. mana keter...</td>\n",
       "      <td>Anger</td>\n",
       "      <td>87</td>\n",
       "      <td>13</td>\n",
       "    </tr>\n",
       "    <tr>\n",
       "      <th>8</th>\n",
       "      <td>bangsat tribute no.1, bencana no.2 mau ngalahi...</td>\n",
       "      <td>Anger</td>\n",
       "      <td>58</td>\n",
       "      <td>9</td>\n",
       "    </tr>\n",
       "    <tr>\n",
       "      <th>9</th>\n",
       "      <td>pengen pergi jauh terus teriak sambil nangis s...</td>\n",
       "      <td>Anger</td>\n",
       "      <td>136</td>\n",
       "      <td>21</td>\n",
       "    </tr>\n",
       "  </tbody>\n",
       "</table>\n",
       "</div>"
      ],
      "text/plain": [
       "                                               tweet  label  Length  \\\n",
       "0                        pagi2 udah di buat emosi :)  Anger      27   \n",
       "1  kok stabilitas negara, memange 10 thn negara t...  Anger     184   \n",
       "2                       dah lah emosi mulu liat emyu  Anger      28   \n",
       "3  aib? bodoh benar! sebelum kata aib itu muncul,...  Anger     277   \n",
       "4                            dih lu yg nyebelin bego  Anger      23   \n",
       "5  asli malu maluin org indo tolol yg rep latah \"...  Anger     211   \n",
       "6                                    drama abg tolol  Anger      15   \n",
       "7  masih emosi sih sama katla kemarin. mana keter...  Anger      87   \n",
       "8  bangsat tribute no.1, bencana no.2 mau ngalahi...  Anger      58   \n",
       "9  pengen pergi jauh terus teriak sambil nangis s...  Anger     136   \n",
       "\n",
       "   Word_count  \n",
       "0           6  \n",
       "1          25  \n",
       "2           6  \n",
       "3          40  \n",
       "4           5  \n",
       "5          37  \n",
       "6           3  \n",
       "7          13  \n",
       "8           9  \n",
       "9          21  "
      ]
     },
     "execution_count": 20,
     "metadata": {},
     "output_type": "execute_result"
    }
   ],
   "source": [
    "eda_data['Word_count'] = eda_data['tweet'].apply(word_count)\n",
    "eda_data.head(10)"
   ]
  },
  {
   "cell_type": "code",
   "execution_count": 21,
   "id": "b05b53ca-5d3f-4b22-80f5-835ce84b836a",
   "metadata": {
    "tags": []
   },
   "outputs": [
    {
     "name": "stdout",
     "output_type": "stream",
     "text": [
      "Jumlah kata : 118666.00\n"
     ]
    }
   ],
   "source": [
    "print(f\"Jumlah kata : {eda_data['Word_count'].sum():.2f}\")"
   ]
  },
  {
   "cell_type": "code",
   "execution_count": 22,
   "id": "da2bbe9f-de11-44f1-aa0c-a12a17516c1c",
   "metadata": {
    "tags": []
   },
   "outputs": [
    {
     "name": "stdout",
     "output_type": "stream",
     "text": [
      "Rata-rata jumlah kata : 16.76\n"
     ]
    }
   ],
   "source": [
    "print(f\"Rata-rata jumlah kata : {eda_data['Word_count'].mean():.2f}\")"
   ]
  },
  {
   "cell_type": "code",
   "execution_count": 23,
   "id": "3b100b60-5421-4f68-a299-b3fec6d70241",
   "metadata": {
    "tags": []
   },
   "outputs": [
    {
     "data": {
      "text/html": [
       "<div>\n",
       "<style scoped>\n",
       "    .dataframe tbody tr th:only-of-type {\n",
       "        vertical-align: middle;\n",
       "    }\n",
       "\n",
       "    .dataframe tbody tr th {\n",
       "        vertical-align: top;\n",
       "    }\n",
       "\n",
       "    .dataframe thead th {\n",
       "        text-align: right;\n",
       "    }\n",
       "</style>\n",
       "<table border=\"1\" class=\"dataframe\">\n",
       "  <thead>\n",
       "    <tr style=\"text-align: right;\">\n",
       "      <th></th>\n",
       "      <th>tweet</th>\n",
       "      <th>label</th>\n",
       "      <th>Length</th>\n",
       "      <th>Word_count</th>\n",
       "      <th>mean_word_length</th>\n",
       "    </tr>\n",
       "  </thead>\n",
       "  <tbody>\n",
       "    <tr>\n",
       "      <th>0</th>\n",
       "      <td>pagi2 udah di buat emosi :)</td>\n",
       "      <td>Anger</td>\n",
       "      <td>27</td>\n",
       "      <td>6</td>\n",
       "      <td>3.666667</td>\n",
       "    </tr>\n",
       "    <tr>\n",
       "      <th>1</th>\n",
       "      <td>kok stabilitas negara, memange 10 thn negara t...</td>\n",
       "      <td>Anger</td>\n",
       "      <td>184</td>\n",
       "      <td>25</td>\n",
       "      <td>6.400000</td>\n",
       "    </tr>\n",
       "    <tr>\n",
       "      <th>2</th>\n",
       "      <td>dah lah emosi mulu liat emyu</td>\n",
       "      <td>Anger</td>\n",
       "      <td>28</td>\n",
       "      <td>6</td>\n",
       "      <td>3.833333</td>\n",
       "    </tr>\n",
       "    <tr>\n",
       "      <th>3</th>\n",
       "      <td>aib? bodoh benar! sebelum kata aib itu muncul,...</td>\n",
       "      <td>Anger</td>\n",
       "      <td>277</td>\n",
       "      <td>40</td>\n",
       "      <td>5.950000</td>\n",
       "    </tr>\n",
       "    <tr>\n",
       "      <th>4</th>\n",
       "      <td>dih lu yg nyebelin bego</td>\n",
       "      <td>Anger</td>\n",
       "      <td>23</td>\n",
       "      <td>5</td>\n",
       "      <td>3.800000</td>\n",
       "    </tr>\n",
       "    <tr>\n",
       "      <th>5</th>\n",
       "      <td>asli malu maluin org indo tolol yg rep latah \"...</td>\n",
       "      <td>Anger</td>\n",
       "      <td>211</td>\n",
       "      <td>37</td>\n",
       "      <td>4.729730</td>\n",
       "    </tr>\n",
       "    <tr>\n",
       "      <th>6</th>\n",
       "      <td>drama abg tolol</td>\n",
       "      <td>Anger</td>\n",
       "      <td>15</td>\n",
       "      <td>3</td>\n",
       "      <td>4.333333</td>\n",
       "    </tr>\n",
       "    <tr>\n",
       "      <th>7</th>\n",
       "      <td>masih emosi sih sama katla kemarin. mana keter...</td>\n",
       "      <td>Anger</td>\n",
       "      <td>87</td>\n",
       "      <td>13</td>\n",
       "      <td>5.769231</td>\n",
       "    </tr>\n",
       "    <tr>\n",
       "      <th>8</th>\n",
       "      <td>bangsat tribute no.1, bencana no.2 mau ngalahi...</td>\n",
       "      <td>Anger</td>\n",
       "      <td>58</td>\n",
       "      <td>9</td>\n",
       "      <td>5.555556</td>\n",
       "    </tr>\n",
       "    <tr>\n",
       "      <th>9</th>\n",
       "      <td>pengen pergi jauh terus teriak sambil nangis s...</td>\n",
       "      <td>Anger</td>\n",
       "      <td>136</td>\n",
       "      <td>21</td>\n",
       "      <td>5.523810</td>\n",
       "    </tr>\n",
       "  </tbody>\n",
       "</table>\n",
       "</div>"
      ],
      "text/plain": [
       "                                               tweet  label  Length  \\\n",
       "0                        pagi2 udah di buat emosi :)  Anger      27   \n",
       "1  kok stabilitas negara, memange 10 thn negara t...  Anger     184   \n",
       "2                       dah lah emosi mulu liat emyu  Anger      28   \n",
       "3  aib? bodoh benar! sebelum kata aib itu muncul,...  Anger     277   \n",
       "4                            dih lu yg nyebelin bego  Anger      23   \n",
       "5  asli malu maluin org indo tolol yg rep latah \"...  Anger     211   \n",
       "6                                    drama abg tolol  Anger      15   \n",
       "7  masih emosi sih sama katla kemarin. mana keter...  Anger      87   \n",
       "8  bangsat tribute no.1, bencana no.2 mau ngalahi...  Anger      58   \n",
       "9  pengen pergi jauh terus teriak sambil nangis s...  Anger     136   \n",
       "\n",
       "   Word_count  mean_word_length  \n",
       "0           6          3.666667  \n",
       "1          25          6.400000  \n",
       "2           6          3.833333  \n",
       "3          40          5.950000  \n",
       "4           5          3.800000  \n",
       "5          37          4.729730  \n",
       "6           3          4.333333  \n",
       "7          13          5.769231  \n",
       "8           9          5.555556  \n",
       "9          21          5.523810  "
      ]
     },
     "execution_count": 23,
     "metadata": {},
     "output_type": "execute_result"
    }
   ],
   "source": [
    "eda_data['mean_word_length'] = eda_data['tweet'].map(lambda rev: numpy.mean([len(word) for word in rev.split()]))\n",
    "eda_data.head(10)"
   ]
  },
  {
   "cell_type": "code",
   "execution_count": 24,
   "id": "a766f7ff-362d-41ea-a5fd-de19f6528395",
   "metadata": {
    "tags": []
   },
   "outputs": [
    {
     "data": {
      "text/html": [
       "<div>\n",
       "<style scoped>\n",
       "    .dataframe tbody tr th:only-of-type {\n",
       "        vertical-align: middle;\n",
       "    }\n",
       "\n",
       "    .dataframe tbody tr th {\n",
       "        vertical-align: top;\n",
       "    }\n",
       "\n",
       "    .dataframe thead th {\n",
       "        text-align: right;\n",
       "    }\n",
       "</style>\n",
       "<table border=\"1\" class=\"dataframe\">\n",
       "  <thead>\n",
       "    <tr style=\"text-align: right;\">\n",
       "      <th></th>\n",
       "      <th>tweet</th>\n",
       "      <th>label</th>\n",
       "      <th>Length</th>\n",
       "      <th>Word_count</th>\n",
       "      <th>mean_word_length</th>\n",
       "      <th>mean_sent_length</th>\n",
       "    </tr>\n",
       "  </thead>\n",
       "  <tbody>\n",
       "    <tr>\n",
       "      <th>0</th>\n",
       "      <td>pagi2 udah di buat emosi :)</td>\n",
       "      <td>Anger</td>\n",
       "      <td>27</td>\n",
       "      <td>6</td>\n",
       "      <td>3.666667</td>\n",
       "      <td>27.000000</td>\n",
       "    </tr>\n",
       "    <tr>\n",
       "      <th>1</th>\n",
       "      <td>kok stabilitas negara, memange 10 thn negara t...</td>\n",
       "      <td>Anger</td>\n",
       "      <td>184</td>\n",
       "      <td>25</td>\n",
       "      <td>6.400000</td>\n",
       "      <td>184.000000</td>\n",
       "    </tr>\n",
       "    <tr>\n",
       "      <th>2</th>\n",
       "      <td>dah lah emosi mulu liat emyu</td>\n",
       "      <td>Anger</td>\n",
       "      <td>28</td>\n",
       "      <td>6</td>\n",
       "      <td>3.833333</td>\n",
       "      <td>28.000000</td>\n",
       "    </tr>\n",
       "    <tr>\n",
       "      <th>3</th>\n",
       "      <td>aib? bodoh benar! sebelum kata aib itu muncul,...</td>\n",
       "      <td>Anger</td>\n",
       "      <td>277</td>\n",
       "      <td>40</td>\n",
       "      <td>5.950000</td>\n",
       "      <td>29.888889</td>\n",
       "    </tr>\n",
       "    <tr>\n",
       "      <th>4</th>\n",
       "      <td>dih lu yg nyebelin bego</td>\n",
       "      <td>Anger</td>\n",
       "      <td>23</td>\n",
       "      <td>5</td>\n",
       "      <td>3.800000</td>\n",
       "      <td>23.000000</td>\n",
       "    </tr>\n",
       "    <tr>\n",
       "      <th>5</th>\n",
       "      <td>asli malu maluin org indo tolol yg rep latah \"...</td>\n",
       "      <td>Anger</td>\n",
       "      <td>211</td>\n",
       "      <td>37</td>\n",
       "      <td>4.729730</td>\n",
       "      <td>211.000000</td>\n",
       "    </tr>\n",
       "    <tr>\n",
       "      <th>6</th>\n",
       "      <td>drama abg tolol</td>\n",
       "      <td>Anger</td>\n",
       "      <td>15</td>\n",
       "      <td>3</td>\n",
       "      <td>4.333333</td>\n",
       "      <td>15.000000</td>\n",
       "    </tr>\n",
       "    <tr>\n",
       "      <th>7</th>\n",
       "      <td>masih emosi sih sama katla kemarin. mana keter...</td>\n",
       "      <td>Anger</td>\n",
       "      <td>87</td>\n",
       "      <td>13</td>\n",
       "      <td>5.769231</td>\n",
       "      <td>28.333333</td>\n",
       "    </tr>\n",
       "    <tr>\n",
       "      <th>8</th>\n",
       "      <td>bangsat tribute no.1, bencana no.2 mau ngalahi...</td>\n",
       "      <td>Anger</td>\n",
       "      <td>58</td>\n",
       "      <td>9</td>\n",
       "      <td>5.555556</td>\n",
       "      <td>58.000000</td>\n",
       "    </tr>\n",
       "    <tr>\n",
       "      <th>9</th>\n",
       "      <td>pengen pergi jauh terus teriak sambil nangis s...</td>\n",
       "      <td>Anger</td>\n",
       "      <td>136</td>\n",
       "      <td>21</td>\n",
       "      <td>5.523810</td>\n",
       "      <td>136.000000</td>\n",
       "    </tr>\n",
       "  </tbody>\n",
       "</table>\n",
       "</div>"
      ],
      "text/plain": [
       "                                               tweet  label  Length  \\\n",
       "0                        pagi2 udah di buat emosi :)  Anger      27   \n",
       "1  kok stabilitas negara, memange 10 thn negara t...  Anger     184   \n",
       "2                       dah lah emosi mulu liat emyu  Anger      28   \n",
       "3  aib? bodoh benar! sebelum kata aib itu muncul,...  Anger     277   \n",
       "4                            dih lu yg nyebelin bego  Anger      23   \n",
       "5  asli malu maluin org indo tolol yg rep latah \"...  Anger     211   \n",
       "6                                    drama abg tolol  Anger      15   \n",
       "7  masih emosi sih sama katla kemarin. mana keter...  Anger      87   \n",
       "8  bangsat tribute no.1, bencana no.2 mau ngalahi...  Anger      58   \n",
       "9  pengen pergi jauh terus teriak sambil nangis s...  Anger     136   \n",
       "\n",
       "   Word_count  mean_word_length  mean_sent_length  \n",
       "0           6          3.666667         27.000000  \n",
       "1          25          6.400000        184.000000  \n",
       "2           6          3.833333         28.000000  \n",
       "3          40          5.950000         29.888889  \n",
       "4           5          3.800000         23.000000  \n",
       "5          37          4.729730        211.000000  \n",
       "6           3          4.333333         15.000000  \n",
       "7          13          5.769231         28.333333  \n",
       "8           9          5.555556         58.000000  \n",
       "9          21          5.523810        136.000000  "
      ]
     },
     "execution_count": 24,
     "metadata": {},
     "output_type": "execute_result"
    }
   ],
   "source": [
    "eda_data['mean_sent_length'] = eda_data['tweet'].map(lambda rev: numpy.mean([len(sent) for sent in tokenize.sent_tokenize(rev)]))\n",
    "eda_data.head(10)"
   ]
  },
  {
   "cell_type": "code",
   "execution_count": 25,
   "id": "cfc79ca5-72b4-4729-935e-c6a5d37faabf",
   "metadata": {
    "tags": []
   },
   "outputs": [
    {
     "data": {
      "image/png": "[encoded data removed]",
      "text/plain": [
       "<Figure size 1000x500 with 1 Axes>"
      ]
     },
     "metadata": {},
     "output_type": "display_data"
    }
   ],
   "source": [
    "from wordcloud import WordCloud\n",
    "import matplotlib.pyplot as plt\n",
    "\n",
    "# Menggabungkan semua teks dalam satu string\n",
    "all_tweets = ' '.join(eda_data['tweet'])\n",
    "\n",
    "# Membuat wordcloud\n",
    "wordcloud = WordCloud(width=800, height=400, background_color='white').generate(all_tweets)\n",
    "\n",
    "# Menampilkan wordcloud\n",
    "plt.figure(figsize=(10, 5))\n",
    "plt.imshow(wordcloud, interpolation='bilinear')\n",
    "plt.axis('off')\n",
    "plt.show()\n"
   ]
  },
  {
   "cell_type": "markdown",
   "id": "377fdcc1-317f-4423-b1a4-7526e3f750f9",
   "metadata": {},
   "source": [
    "# Preprocessing"
   ]
  },
  {
   "cell_type": "code",
   "execution_count": 26,
   "id": "029d2489",
   "metadata": {},
   "outputs": [],
   "source": [
    "import copy\n",
    "\n",
    "train_data_copy = copy.deepcopy(train_data)\n"
   ]
  },
  {
   "cell_type": "markdown",
   "id": "422c044f-a5e3-4553-ae4c-a4848d1aab34",
   "metadata": {
    "tags": []
   },
   "source": [
    "## Case Folding"
   ]
  },
  {
   "cell_type": "markdown",
   "id": "6e9b35f2-6609-41f7-bfa3-dff461d7867c",
   "metadata": {},
   "source": [
    "### Lowercase"
   ]
  },
  {
   "cell_type": "code",
   "execution_count": 27,
   "id": "4d368300-e1c9-442f-ac37-da7d820a5d90",
   "metadata": {
    "tags": []
   },
   "outputs": [],
   "source": [
    "def tweet_lowercase(tweet):\n",
    "    tweet = tweet.lower()\n",
    "    return tweet"
   ]
  },
  {
   "cell_type": "code",
   "execution_count": 28,
   "id": "fc206bd4-8555-4157-a469-c8893a77e103",
   "metadata": {
    "tags": []
   },
   "outputs": [
    {
     "name": "stdout",
     "output_type": "stream",
     "text": [
      "CPU times: total: 0 ns\n",
      "Wall time: 11.8 ms\n"
     ]
    }
   ],
   "source": [
    "%%time\n",
    "train_data[\"tweet\"] = train_data[\"tweet\"].apply(tweet_lowercase)"
   ]
  },
  {
   "cell_type": "code",
   "execution_count": 29,
   "id": "32a4af9c-6286-46ba-9534-2e1a1dcc9705",
   "metadata": {
    "tags": []
   },
   "outputs": [
    {
     "data": {
      "text/html": [
       "<table border=\"1\" class=\"dataframe\">\n",
       "  <thead>\n",
       "    <tr style=\"text-align: right;\">\n",
       "      <th></th>\n",
       "      <th>Before</th>\n",
       "      <th>After</th>\n",
       "    </tr>\n",
       "  </thead>\n",
       "  <tbody>\n",
       "    <tr>\n",
       "      <th>0</th>\n",
       "      <td>pagi2 udah di buat emosi :)</td>\n",
       "      <td>pagi2 udah di buat emosi :)</td>\n",
       "    </tr>\n",
       "    <tr>\n",
       "      <th>1</th>\n",
       "      <td>kok stabilitas negara, memange 10 thn negara tdk aman, bahkan sby menyuburkan ormas2 radikal, intoleran, teroris, yg berafiliasi ke partai tertentu..narasi klhtn intelektual tp bodoh..</td>\n",
       "      <td>kok stabilitas negara, memange 10 thn negara tdk aman, bahkan sby menyuburkan ormas2 radikal, intoleran, teroris, yg berafiliasi ke partai tertentu..narasi klhtn intelektual tp bodoh..</td>\n",
       "    </tr>\n",
       "    <tr>\n",
       "      <th>2</th>\n",
       "      <td>dah lah emosi mulu liat emyu</td>\n",
       "      <td>dah lah emosi mulu liat emyu</td>\n",
       "    </tr>\n",
       "    <tr>\n",
       "      <th>3</th>\n",
       "      <td>aib? bodoh benar! sebelum kata aib itu muncul, terlebih dahulu sudah ada tindakan. yakni kekejian! jangan kau sembunyikan caramu menelaah masalah. semisal anak perempuanmu ditempeleng! apa kau juga setuju untuk dia bersikap bungkam? melapor polisi adl benar. lantas apa bedanya</td>\n",
       "      <td>aib? bodoh benar! sebelum kata aib itu muncul, terlebih dahulu sudah ada tindakan. yakni kekejian! jangan kau sembunyikan caramu menelaah masalah. semisal anak perempuanmu ditempeleng! apa kau juga setuju untuk dia bersikap bungkam? melapor polisi adl benar. lantas apa bedanya</td>\n",
       "    </tr>\n",
       "    <tr>\n",
       "      <th>4</th>\n",
       "      <td>dih lu yg nyebelin bego</td>\n",
       "      <td>dih lu yg nyebelin bego</td>\n",
       "    </tr>\n",
       "    <tr>\n",
       "      <th>5</th>\n",
       "      <td>asli malu maluin org indo tolol yg rep latah \"cilukba\" pake huruf hijaiyah sm \"ngntd\" sama ganti huruf t pake salib, ada tiktok filipin lewat fyp aku dan repnya \"ngtd\" semua, dasar goblogg trend tiktok ter tolol</td>\n",
       "      <td>asli malu maluin org indo tolol yg rep latah \"cilukba\" pake huruf hijaiyah sm \"ngntd\" sama ganti huruf t pake salib, ada tiktok filipin lewat fyp aku dan repnya \"ngtd\" semua, dasar goblogg trend tiktok ter tolol</td>\n",
       "    </tr>\n",
       "    <tr>\n",
       "      <th>6</th>\n",
       "      <td>drama abg tolol</td>\n",
       "      <td>drama abg tolol</td>\n",
       "    </tr>\n",
       "    <tr>\n",
       "      <th>7</th>\n",
       "      <td>masih emosi sih sama katla kemarin. mana keterangannya gini aja. ((hasil mengaci)) kzl.</td>\n",
       "      <td>masih emosi sih sama katla kemarin. mana keterangannya gini aja. ((hasil mengaci)) kzl.</td>\n",
       "    </tr>\n",
       "    <tr>\n",
       "      <th>8</th>\n",
       "      <td>bangsat tribute no.1, bencana no.2 mau ngalahin ini keknya</td>\n",
       "      <td>bangsat tribute no.1, bencana no.2 mau ngalahin ini keknya</td>\n",
       "    </tr>\n",
       "    <tr>\n",
       "      <th>9</th>\n",
       "      <td>pengen pergi jauh terus teriak sambil nangis sekencang kencangnya nanti balik kalo gue udah lupa segalanya wkwj kn tolol mustahil banget</td>\n",
       "      <td>pengen pergi jauh terus teriak sambil nangis sekencang kencangnya nanti balik kalo gue udah lupa segalanya wkwj kn tolol mustahil banget</td>\n",
       "    </tr>\n",
       "  </tbody>\n",
       "</table>"
      ],
      "text/plain": [
       "<IPython.core.display.HTML object>"
      ]
     },
     "metadata": {},
     "output_type": "display_data"
    }
   ],
   "source": [
    "comparison_df = pd.DataFrame({\n",
    "    'Before ': train_data_copy['tweet'],\n",
    "    'After ': train_data['tweet']\n",
    "})\n",
    "\n",
    "# Set max_colwidth option to ensure that long strings are displayed completely\n",
    "pd.options.display.max_colwidth = 150\n",
    "\n",
    "# Display the DataFrame as an HTML table\n",
    "display(HTML(comparison_df.head(10).to_html()))"
   ]
  },
  {
   "cell_type": "code",
   "execution_count": 30,
   "id": "937c0cce",
   "metadata": {},
   "outputs": [
    {
     "name": "stdout",
     "output_type": "stream",
     "text": [
      "CPU times: total: 0 ns\n",
      "Wall time: 3.16 ms\n"
     ]
    }
   ],
   "source": [
    "%%time\n",
    "train_data_copy[\"tweet\"] = train_data_copy[\"tweet\"].apply(tweet_lowercase)"
   ]
  },
  {
   "cell_type": "markdown",
   "id": "888a196f-5fa1-4fbc-94b3-37e3e27af189",
   "metadata": {
    "tags": []
   },
   "source": [
    "## Cleansing"
   ]
  },
  {
   "cell_type": "markdown",
   "id": "85d1dee7-224f-4281-bbf5-45547f237d68",
   "metadata": {},
   "source": [
    "### Menghapus username"
   ]
  },
  {
   "cell_type": "code",
   "execution_count": 31,
   "id": "47f4be40-6a84-42b6-ac3d-8d544b770c5d",
   "metadata": {
    "tags": []
   },
   "outputs": [],
   "source": [
    "def tweet_delete_username(tweet):\n",
    "    userPattern       = 'USERNAME'\n",
    "    # Ngehapus kata \"username\" \n",
    "    tweet = re.sub(userPattern, '', tweet)\n",
    "    \n",
    "    return tweet"
   ]
  },
  {
   "cell_type": "code",
   "execution_count": 32,
   "id": "c22a1460-b9cc-485b-a6d2-344e1a1d9ae1",
   "metadata": {
    "tags": []
   },
   "outputs": [
    {
     "name": "stdout",
     "output_type": "stream",
     "text": [
      "CPU times: total: 0 ns\n",
      "Wall time: 6.04 ms\n"
     ]
    }
   ],
   "source": [
    "%%time\n",
    "train_data[\"tweet\"] = train_data[\"tweet\"].apply(tweet_delete_username)"
   ]
  },
  {
   "cell_type": "code",
   "execution_count": 33,
   "id": "6b3665de-1c30-4f37-8538-543bebd7f0b3",
   "metadata": {
    "tags": []
   },
   "outputs": [
    {
     "data": {
      "text/html": [
       "<table border=\"1\" class=\"dataframe\">\n",
       "  <thead>\n",
       "    <tr style=\"text-align: right;\">\n",
       "      <th></th>\n",
       "      <th>Before</th>\n",
       "      <th>After</th>\n",
       "    </tr>\n",
       "  </thead>\n",
       "  <tbody>\n",
       "    <tr>\n",
       "      <th>0</th>\n",
       "      <td>pagi2 udah di buat emosi :)</td>\n",
       "      <td>pagi2 udah di buat emosi :)</td>\n",
       "    </tr>\n",
       "    <tr>\n",
       "      <th>1</th>\n",
       "      <td>kok stabilitas negara, memange 10 thn negara tdk aman, bahkan sby menyuburkan ormas2 radikal, intoleran, teroris, yg berafiliasi ke partai tertentu..narasi klhtn intelektual tp bodoh..</td>\n",
       "      <td>kok stabilitas negara, memange 10 thn negara tdk aman, bahkan sby menyuburkan ormas2 radikal, intoleran, teroris, yg berafiliasi ke partai tertentu..narasi klhtn intelektual tp bodoh..</td>\n",
       "    </tr>\n",
       "    <tr>\n",
       "      <th>2</th>\n",
       "      <td>dah lah emosi mulu liat emyu</td>\n",
       "      <td>dah lah emosi mulu liat emyu</td>\n",
       "    </tr>\n",
       "    <tr>\n",
       "      <th>3</th>\n",
       "      <td>aib? bodoh benar! sebelum kata aib itu muncul, terlebih dahulu sudah ada tindakan. yakni kekejian! jangan kau sembunyikan caramu menelaah masalah. semisal anak perempuanmu ditempeleng! apa kau juga setuju untuk dia bersikap bungkam? melapor polisi adl benar. lantas apa bedanya</td>\n",
       "      <td>aib? bodoh benar! sebelum kata aib itu muncul, terlebih dahulu sudah ada tindakan. yakni kekejian! jangan kau sembunyikan caramu menelaah masalah. semisal anak perempuanmu ditempeleng! apa kau juga setuju untuk dia bersikap bungkam? melapor polisi adl benar. lantas apa bedanya</td>\n",
       "    </tr>\n",
       "    <tr>\n",
       "      <th>4</th>\n",
       "      <td>dih lu yg nyebelin bego</td>\n",
       "      <td>dih lu yg nyebelin bego</td>\n",
       "    </tr>\n",
       "    <tr>\n",
       "      <th>5</th>\n",
       "      <td>asli malu maluin org indo tolol yg rep latah \"cilukba\" pake huruf hijaiyah sm \"ngntd\" sama ganti huruf t pake salib, ada tiktok filipin lewat fyp aku dan repnya \"ngtd\" semua, dasar goblogg trend tiktok ter tolol</td>\n",
       "      <td>asli malu maluin org indo tolol yg rep latah \"cilukba\" pake huruf hijaiyah sm \"ngntd\" sama ganti huruf t pake salib, ada tiktok filipin lewat fyp aku dan repnya \"ngtd\" semua, dasar goblogg trend tiktok ter tolol</td>\n",
       "    </tr>\n",
       "    <tr>\n",
       "      <th>6</th>\n",
       "      <td>drama abg tolol</td>\n",
       "      <td>drama abg tolol</td>\n",
       "    </tr>\n",
       "    <tr>\n",
       "      <th>7</th>\n",
       "      <td>masih emosi sih sama katla kemarin. mana keterangannya gini aja. ((hasil mengaci)) kzl.</td>\n",
       "      <td>masih emosi sih sama katla kemarin. mana keterangannya gini aja. ((hasil mengaci)) kzl.</td>\n",
       "    </tr>\n",
       "    <tr>\n",
       "      <th>8</th>\n",
       "      <td>bangsat tribute no.1, bencana no.2 mau ngalahin ini keknya</td>\n",
       "      <td>bangsat tribute no.1, bencana no.2 mau ngalahin ini keknya</td>\n",
       "    </tr>\n",
       "    <tr>\n",
       "      <th>9</th>\n",
       "      <td>pengen pergi jauh terus teriak sambil nangis sekencang kencangnya nanti balik kalo gue udah lupa segalanya wkwj kn tolol mustahil banget</td>\n",
       "      <td>pengen pergi jauh terus teriak sambil nangis sekencang kencangnya nanti balik kalo gue udah lupa segalanya wkwj kn tolol mustahil banget</td>\n",
       "    </tr>\n",
       "  </tbody>\n",
       "</table>"
      ],
      "text/plain": [
       "<IPython.core.display.HTML object>"
      ]
     },
     "metadata": {},
     "output_type": "display_data"
    }
   ],
   "source": [
    "comparison_df = pd.DataFrame({\n",
    "    'Before ': train_data_copy['tweet'],\n",
    "    'After ': train_data['tweet']\n",
    "})\n",
    "\n",
    "# Set max_colwidth option to ensure that long strings are displayed completely\n",
    "pd.options.display.max_colwidth = 150\n",
    "\n",
    "# Display the DataFrame as an HTML table\n",
    "display(HTML(comparison_df.head(10).to_html()))"
   ]
  },
  {
   "cell_type": "code",
   "execution_count": 34,
   "id": "60ab09bf",
   "metadata": {},
   "outputs": [
    {
     "name": "stdout",
     "output_type": "stream",
     "text": [
      "CPU times: total: 0 ns\n",
      "Wall time: 7.06 ms\n"
     ]
    }
   ],
   "source": [
    "%%time\n",
    "train_data_copy[\"tweet\"] = train_data_copy[\"tweet\"].apply(tweet_delete_username)"
   ]
  },
  {
   "cell_type": "markdown",
   "id": "9ed28683-35c7-4b64-8257-54c223c6c1a6",
   "metadata": {},
   "source": [
    "### Menghapus url"
   ]
  },
  {
   "cell_type": "code",
   "execution_count": 35,
   "id": "c94b527b-3338-4093-9c4f-381c7bb2b4c5",
   "metadata": {
    "tags": []
   },
   "outputs": [],
   "source": [
    "def tweet_delete_url(tweet):\n",
    "    urlPattern        = r\"((http://)[^ ]*|(https://)[^ ]*|(www\\.)[^ ]*|url)\" #Pola ngehapus url\n",
    "    tweet = re.sub(urlPattern, '', tweet)\n",
    "    return tweet"
   ]
  },
  {
   "cell_type": "code",
   "execution_count": 36,
   "id": "7524736f-51cc-4b56-9d72-b69c52cb0e03",
   "metadata": {
    "tags": []
   },
   "outputs": [
    {
     "name": "stdout",
     "output_type": "stream",
     "text": [
      "CPU times: total: 62.5 ms\n",
      "Wall time: 80.9 ms\n"
     ]
    }
   ],
   "source": [
    "%%time\n",
    "train_data[\"tweet\"] = train_data[\"tweet\"].apply(tweet_delete_url)"
   ]
  },
  {
   "cell_type": "code",
   "execution_count": 37,
   "id": "adecf461-d905-4052-9412-fedffc9148dd",
   "metadata": {
    "tags": []
   },
   "outputs": [
    {
     "data": {
      "text/html": [
       "<table border=\"1\" class=\"dataframe\">\n",
       "  <thead>\n",
       "    <tr style=\"text-align: right;\">\n",
       "      <th></th>\n",
       "      <th>Before</th>\n",
       "      <th>After</th>\n",
       "    </tr>\n",
       "  </thead>\n",
       "  <tbody>\n",
       "    <tr>\n",
       "      <th>0</th>\n",
       "      <td>pagi2 udah di buat emosi :)</td>\n",
       "      <td>pagi2 udah di buat emosi :)</td>\n",
       "    </tr>\n",
       "    <tr>\n",
       "      <th>1</th>\n",
       "      <td>kok stabilitas negara, memange 10 thn negara tdk aman, bahkan sby menyuburkan ormas2 radikal, intoleran, teroris, yg berafiliasi ke partai tertentu..narasi klhtn intelektual tp bodoh..</td>\n",
       "      <td>kok stabilitas negara, memange 10 thn negara tdk aman, bahkan sby menyuburkan ormas2 radikal, intoleran, teroris, yg berafiliasi ke partai tertentu..narasi klhtn intelektual tp bodoh..</td>\n",
       "    </tr>\n",
       "    <tr>\n",
       "      <th>2</th>\n",
       "      <td>dah lah emosi mulu liat emyu</td>\n",
       "      <td>dah lah emosi mulu liat emyu</td>\n",
       "    </tr>\n",
       "    <tr>\n",
       "      <th>3</th>\n",
       "      <td>aib? bodoh benar! sebelum kata aib itu muncul, terlebih dahulu sudah ada tindakan. yakni kekejian! jangan kau sembunyikan caramu menelaah masalah. semisal anak perempuanmu ditempeleng! apa kau juga setuju untuk dia bersikap bungkam? melapor polisi adl benar. lantas apa bedanya</td>\n",
       "      <td>aib? bodoh benar! sebelum kata aib itu muncul, terlebih dahulu sudah ada tindakan. yakni kekejian! jangan kau sembunyikan caramu menelaah masalah. semisal anak perempuanmu ditempeleng! apa kau juga setuju untuk dia bersikap bungkam? melapor polisi adl benar. lantas apa bedanya</td>\n",
       "    </tr>\n",
       "    <tr>\n",
       "      <th>4</th>\n",
       "      <td>dih lu yg nyebelin bego</td>\n",
       "      <td>dih lu yg nyebelin bego</td>\n",
       "    </tr>\n",
       "    <tr>\n",
       "      <th>5</th>\n",
       "      <td>asli malu maluin org indo tolol yg rep latah \"cilukba\" pake huruf hijaiyah sm \"ngntd\" sama ganti huruf t pake salib, ada tiktok filipin lewat fyp aku dan repnya \"ngtd\" semua, dasar goblogg trend tiktok ter tolol</td>\n",
       "      <td>asli malu maluin org indo tolol yg rep latah \"cilukba\" pake huruf hijaiyah sm \"ngntd\" sama ganti huruf t pake salib, ada tiktok filipin lewat fyp aku dan repnya \"ngtd\" semua, dasar goblogg trend tiktok ter tolol</td>\n",
       "    </tr>\n",
       "    <tr>\n",
       "      <th>6</th>\n",
       "      <td>drama abg tolol</td>\n",
       "      <td>drama abg tolol</td>\n",
       "    </tr>\n",
       "    <tr>\n",
       "      <th>7</th>\n",
       "      <td>masih emosi sih sama katla kemarin. mana keterangannya gini aja. ((hasil mengaci)) kzl.</td>\n",
       "      <td>masih emosi sih sama katla kemarin. mana keterangannya gini aja. ((hasil mengaci)) kzl.</td>\n",
       "    </tr>\n",
       "    <tr>\n",
       "      <th>8</th>\n",
       "      <td>bangsat tribute no.1, bencana no.2 mau ngalahin ini keknya</td>\n",
       "      <td>bangsat tribute no.1, bencana no.2 mau ngalahin ini keknya</td>\n",
       "    </tr>\n",
       "    <tr>\n",
       "      <th>9</th>\n",
       "      <td>pengen pergi jauh terus teriak sambil nangis sekencang kencangnya nanti balik kalo gue udah lupa segalanya wkwj kn tolol mustahil banget</td>\n",
       "      <td>pengen pergi jauh terus teriak sambil nangis sekencang kencangnya nanti balik kalo gue udah lupa segalanya wkwj kn tolol mustahil banget</td>\n",
       "    </tr>\n",
       "  </tbody>\n",
       "</table>"
      ],
      "text/plain": [
       "<IPython.core.display.HTML object>"
      ]
     },
     "metadata": {},
     "output_type": "display_data"
    }
   ],
   "source": [
    "comparison_df = pd.DataFrame({\n",
    "    'Before ': train_data_copy['tweet'],\n",
    "    'After ': train_data['tweet']\n",
    "})\n",
    "\n",
    "# Set max_colwidth option to ensure that long strings are displayed completely\n",
    "pd.options.display.max_colwidth = 150\n",
    "\n",
    "# Display the DataFrame as an HTML table\n",
    "display(HTML(comparison_df.head(10).to_html()))"
   ]
  },
  {
   "cell_type": "code",
   "execution_count": 38,
   "id": "1c49a7fa",
   "metadata": {},
   "outputs": [
    {
     "name": "stdout",
     "output_type": "stream",
     "text": [
      "CPU times: total: 31.2 ms\n",
      "Wall time: 44.4 ms\n"
     ]
    }
   ],
   "source": [
    "%%time\n",
    "train_data_copy[\"tweet\"] = train_data_copy[\"tweet\"].apply(tweet_delete_url)"
   ]
  },
  {
   "cell_type": "markdown",
   "id": "e06c367f-49ad-4c2b-9497-43ab57ffa299",
   "metadata": {},
   "source": [
    "### Menghapus kelebihan huruf"
   ]
  },
  {
   "cell_type": "code",
   "execution_count": 39,
   "id": "f2380b6d-7d2a-4935-953e-d96cfac0de18",
   "metadata": {
    "tags": []
   },
   "outputs": [],
   "source": [
    "def tweet_delete_extra_letters(tweet):\n",
    "    sequencePattern   = r'([A-Za-z])\\1{2,}' #Pola ngehapus karakter yang punya kelebihan huruf\n",
    "    seqReplacePattern = r'\\1' #Pola ngereplace yang kelebihan huruf tiga kali\n",
    "    tweet = re.sub(sequencePattern, seqReplacePattern, tweet)\n",
    "    \n",
    "    return tweet"
   ]
  },
  {
   "cell_type": "code",
   "execution_count": 40,
   "id": "1b63d61f-551e-44da-811c-4d13556620be",
   "metadata": {
    "tags": []
   },
   "outputs": [
    {
     "name": "stdout",
     "output_type": "stream",
     "text": [
      "CPU times: total: 15.6 ms\n",
      "Wall time: 43.9 ms\n"
     ]
    }
   ],
   "source": [
    "%%time\n",
    "train_data[\"tweet\"] = train_data[\"tweet\"].apply(tweet_delete_extra_letters)"
   ]
  },
  {
   "cell_type": "code",
   "execution_count": 41,
   "id": "508a7cc1-e3e6-4715-b723-b893972c8fc7",
   "metadata": {
    "tags": []
   },
   "outputs": [
    {
     "data": {
      "text/html": [
       "<table border=\"1\" class=\"dataframe\">\n",
       "  <thead>\n",
       "    <tr style=\"text-align: right;\">\n",
       "      <th></th>\n",
       "      <th>Before</th>\n",
       "      <th>After</th>\n",
       "    </tr>\n",
       "  </thead>\n",
       "  <tbody>\n",
       "    <tr>\n",
       "      <th>0</th>\n",
       "      <td>pagi2 udah di buat emosi :)</td>\n",
       "      <td>pagi2 udah di buat emosi :)</td>\n",
       "    </tr>\n",
       "    <tr>\n",
       "      <th>1</th>\n",
       "      <td>kok stabilitas negara, memange 10 thn negara tdk aman, bahkan sby menyuburkan ormas2 radikal, intoleran, teroris, yg berafiliasi ke partai tertentu..narasi klhtn intelektual tp bodoh..</td>\n",
       "      <td>kok stabilitas negara, memange 10 thn negara tdk aman, bahkan sby menyuburkan ormas2 radikal, intoleran, teroris, yg berafiliasi ke partai tertentu..narasi klhtn intelektual tp bodoh..</td>\n",
       "    </tr>\n",
       "    <tr>\n",
       "      <th>2</th>\n",
       "      <td>dah lah emosi mulu liat emyu</td>\n",
       "      <td>dah lah emosi mulu liat emyu</td>\n",
       "    </tr>\n",
       "    <tr>\n",
       "      <th>3</th>\n",
       "      <td>aib? bodoh benar! sebelum kata aib itu muncul, terlebih dahulu sudah ada tindakan. yakni kekejian! jangan kau sembunyikan caramu menelaah masalah. semisal anak perempuanmu ditempeleng! apa kau juga setuju untuk dia bersikap bungkam? melapor polisi adl benar. lantas apa bedanya</td>\n",
       "      <td>aib? bodoh benar! sebelum kata aib itu muncul, terlebih dahulu sudah ada tindakan. yakni kekejian! jangan kau sembunyikan caramu menelaah masalah. semisal anak perempuanmu ditempeleng! apa kau juga setuju untuk dia bersikap bungkam? melapor polisi adl benar. lantas apa bedanya</td>\n",
       "    </tr>\n",
       "    <tr>\n",
       "      <th>4</th>\n",
       "      <td>dih lu yg nyebelin bego</td>\n",
       "      <td>dih lu yg nyebelin bego</td>\n",
       "    </tr>\n",
       "    <tr>\n",
       "      <th>5</th>\n",
       "      <td>asli malu maluin org indo tolol yg rep latah \"cilukba\" pake huruf hijaiyah sm \"ngntd\" sama ganti huruf t pake salib, ada tiktok filipin lewat fyp aku dan repnya \"ngtd\" semua, dasar goblogg trend tiktok ter tolol</td>\n",
       "      <td>asli malu maluin org indo tolol yg rep latah \"cilukba\" pake huruf hijaiyah sm \"ngntd\" sama ganti huruf t pake salib, ada tiktok filipin lewat fyp aku dan repnya \"ngtd\" semua, dasar goblogg trend tiktok ter tolol</td>\n",
       "    </tr>\n",
       "    <tr>\n",
       "      <th>6</th>\n",
       "      <td>drama abg tolol</td>\n",
       "      <td>drama abg tolol</td>\n",
       "    </tr>\n",
       "    <tr>\n",
       "      <th>7</th>\n",
       "      <td>masih emosi sih sama katla kemarin. mana keterangannya gini aja. ((hasil mengaci)) kzl.</td>\n",
       "      <td>masih emosi sih sama katla kemarin. mana keterangannya gini aja. ((hasil mengaci)) kzl.</td>\n",
       "    </tr>\n",
       "    <tr>\n",
       "      <th>8</th>\n",
       "      <td>bangsat tribute no.1, bencana no.2 mau ngalahin ini keknya</td>\n",
       "      <td>bangsat tribute no.1, bencana no.2 mau ngalahin ini keknya</td>\n",
       "    </tr>\n",
       "    <tr>\n",
       "      <th>9</th>\n",
       "      <td>pengen pergi jauh terus teriak sambil nangis sekencang kencangnya nanti balik kalo gue udah lupa segalanya wkwj kn tolol mustahil banget</td>\n",
       "      <td>pengen pergi jauh terus teriak sambil nangis sekencang kencangnya nanti balik kalo gue udah lupa segalanya wkwj kn tolol mustahil banget</td>\n",
       "    </tr>\n",
       "  </tbody>\n",
       "</table>"
      ],
      "text/plain": [
       "<IPython.core.display.HTML object>"
      ]
     },
     "metadata": {},
     "output_type": "display_data"
    }
   ],
   "source": [
    "comparison_df = pd.DataFrame({\n",
    "    'Before ': train_data_copy['tweet'],\n",
    "    'After ': train_data['tweet']\n",
    "})\n",
    "\n",
    "# Set max_colwidth option to ensure that long strings are displayed completely\n",
    "pd.options.display.max_colwidth = 150\n",
    "\n",
    "# Display the DataFrame as an HTML table\n",
    "display(HTML(comparison_df.head(10).to_html()))"
   ]
  },
  {
   "cell_type": "code",
   "execution_count": 42,
   "id": "d642be4d",
   "metadata": {},
   "outputs": [
    {
     "name": "stdout",
     "output_type": "stream",
     "text": [
      "CPU times: total: 15.6 ms\n",
      "Wall time: 45.1 ms\n"
     ]
    }
   ],
   "source": [
    "%%time\n",
    "train_data_copy[\"tweet\"] = train_data_copy[\"tweet\"].apply(tweet_delete_extra_letters)"
   ]
  },
  {
   "cell_type": "markdown",
   "id": "736ceab9-4ad7-4228-87ea-7df2f089e6cd",
   "metadata": {},
   "source": [
    "### Menghapus Noise"
   ]
  },
  {
   "cell_type": "code",
   "execution_count": 43,
   "id": "fb8629b4-fa98-4d2c-9dcd-722f8deb157c",
   "metadata": {
    "tags": []
   },
   "outputs": [],
   "source": [
    "def tweet_delete_noise(tweet):\n",
    "        tweet = re.sub(r'(asslamu alaikum|assalamualaikum|asalamualaikum|assalamu\\'alaikum|Assalamu alaikum|Assalamualaikum warahmatullahi wabarakatuh|ass wr\\. wb\\.|ass)', '', tweet)\n",
    "        tweet = re.sub(r'\\b(dah|doi|dih|kok|pol|brow|emyu|skin|anjir|anjay|njir|bjir|jir|njay|anjoy|ajg|min|admin|gan|sis|sih|ke|di|dari|lah|kudu|oalah|lha|yah|yha|amp|n|nih|loo|hadeuh|waduh|sok|na|cing|hadeuh|loh|lho|bro|cui|cuy|yuk|yok|kuy|kan)\\b', '', tweet)\n",
    "        return tweet"
   ]
  },
  {
   "cell_type": "code",
   "execution_count": 44,
   "id": "1d4c1b50-35bf-47b0-ab85-a9b7227393c2",
   "metadata": {
    "tags": []
   },
   "outputs": [
    {
     "name": "stdout",
     "output_type": "stream",
     "text": [
      "CPU times: total: 78.1 ms\n",
      "Wall time: 92.9 ms\n"
     ]
    }
   ],
   "source": [
    "%%time\n",
    "train_data[\"tweet\"] = train_data[\"tweet\"].apply(tweet_delete_noise)"
   ]
  },
  {
   "cell_type": "code",
   "execution_count": 45,
   "id": "50d98b36-6920-4405-bff4-bd29970ef40d",
   "metadata": {
    "tags": []
   },
   "outputs": [
    {
     "data": {
      "text/html": [
       "<table border=\"1\" class=\"dataframe\">\n",
       "  <thead>\n",
       "    <tr style=\"text-align: right;\">\n",
       "      <th></th>\n",
       "      <th>Before</th>\n",
       "      <th>After</th>\n",
       "    </tr>\n",
       "  </thead>\n",
       "  <tbody>\n",
       "    <tr>\n",
       "      <th>0</th>\n",
       "      <td>pagi2 udah di buat emosi :)</td>\n",
       "      <td>pagi2 udah  buat emosi :)</td>\n",
       "    </tr>\n",
       "    <tr>\n",
       "      <th>1</th>\n",
       "      <td>kok stabilitas negara, memange 10 thn negara tdk aman, bahkan sby menyuburkan ormas2 radikal, intoleran, teroris, yg berafiliasi ke partai tertentu..narasi klhtn intelektual tp bodoh..</td>\n",
       "      <td>stabilitas negara, memange 10 thn negara tdk aman, bahkan sby menyuburkan ormas2 radikal, intoleran, teroris, yg berafiliasi  partai tertentu..narasi klhtn intelektual tp bodoh..</td>\n",
       "    </tr>\n",
       "    <tr>\n",
       "      <th>2</th>\n",
       "      <td>dah lah emosi mulu liat emyu</td>\n",
       "      <td>emosi mulu liat</td>\n",
       "    </tr>\n",
       "    <tr>\n",
       "      <th>3</th>\n",
       "      <td>aib? bodoh benar! sebelum kata aib itu muncul, terlebih dahulu sudah ada tindakan. yakni kekejian! jangan kau sembunyikan caramu menelaah masalah. semisal anak perempuanmu ditempeleng! apa kau juga setuju untuk dia bersikap bungkam? melapor polisi adl benar. lantas apa bedanya</td>\n",
       "      <td>aib? bodoh benar! sebelum kata aib itu muncul, terlebih dahulu sudah ada tindakan. yakni kekejian! jangan kau sembunyikan caramu menelaah masalah. semisal anak perempuanmu ditempeleng! apa kau juga setuju untuk dia bersikap bungkam? melapor polisi adl benar. lantas apa bedanya</td>\n",
       "    </tr>\n",
       "    <tr>\n",
       "      <th>4</th>\n",
       "      <td>dih lu yg nyebelin bego</td>\n",
       "      <td>lu yg nyebelin bego</td>\n",
       "    </tr>\n",
       "    <tr>\n",
       "      <th>5</th>\n",
       "      <td>asli malu maluin org indo tolol yg rep latah \"cilukba\" pake huruf hijaiyah sm \"ngntd\" sama ganti huruf t pake salib, ada tiktok filipin lewat fyp aku dan repnya \"ngtd\" semua, dasar goblogg trend tiktok ter tolol</td>\n",
       "      <td>asli malu maluin org indo tolol yg rep latah \"cilukba\" pake huruf hijaiyah sm \"ngntd\" sama ganti huruf t pake salib, ada tiktok filipin lewat fyp aku dan repnya \"ngtd\" semua, dasar goblogg trend tiktok ter tolol</td>\n",
       "    </tr>\n",
       "    <tr>\n",
       "      <th>6</th>\n",
       "      <td>drama abg tolol</td>\n",
       "      <td>drama abg tolol</td>\n",
       "    </tr>\n",
       "    <tr>\n",
       "      <th>7</th>\n",
       "      <td>masih emosi sih sama katla kemarin. mana keterangannya gini aja. ((hasil mengaci)) kzl.</td>\n",
       "      <td>masih emosi  sama katla kemarin. mana keterangannya gini aja. ((hasil mengaci)) kzl.</td>\n",
       "    </tr>\n",
       "    <tr>\n",
       "      <th>8</th>\n",
       "      <td>bangsat tribute no.1, bencana no.2 mau ngalahin ini keknya</td>\n",
       "      <td>bangsat tribute no.1, bencana no.2 mau ngalahin ini keknya</td>\n",
       "    </tr>\n",
       "    <tr>\n",
       "      <th>9</th>\n",
       "      <td>pengen pergi jauh terus teriak sambil nangis sekencang kencangnya nanti balik kalo gue udah lupa segalanya wkwj kn tolol mustahil banget</td>\n",
       "      <td>pengen pergi jauh terus teriak sambil nangis sekencang kencangnya nanti balik kalo gue udah lupa segalanya wkwj kn tolol mustahil banget</td>\n",
       "    </tr>\n",
       "  </tbody>\n",
       "</table>"
      ],
      "text/plain": [
       "<IPython.core.display.HTML object>"
      ]
     },
     "metadata": {},
     "output_type": "display_data"
    }
   ],
   "source": [
    "comparison_df = pd.DataFrame({\n",
    "    'Before ': train_data_copy['tweet'],\n",
    "    'After ': train_data['tweet']\n",
    "})\n",
    "\n",
    "pd.options.display.max_colwidth = 150\n",
    "\n",
    "# Display the DataFrame as an HTML table\n",
    "display(HTML(comparison_df.head(10).to_html()))"
   ]
  },
  {
   "cell_type": "code",
   "execution_count": 46,
   "id": "954e2b75",
   "metadata": {},
   "outputs": [
    {
     "name": "stdout",
     "output_type": "stream",
     "text": [
      "CPU times: total: 15.6 ms\n",
      "Wall time: 92.3 ms\n"
     ]
    }
   ],
   "source": [
    "%%time\n",
    "train_data_copy[\"tweet\"] = train_data_copy[\"tweet\"].apply(tweet_delete_noise)"
   ]
  },
  {
   "cell_type": "markdown",
   "id": "a2051487-629e-408d-b638-1bb3511612b9",
   "metadata": {},
   "source": [
    "### Menghapus new line dan new text"
   ]
  },
  {
   "cell_type": "code",
   "execution_count": 47,
   "id": "8cc9e083-0bee-4d78-8b87-d51d3435fbfe",
   "metadata": {
    "tags": []
   },
   "outputs": [],
   "source": [
    "def tweet_delete_new_line_new_text(tweet):\n",
    "    tweet = re.sub(r'\\\\[nt]', ' ', tweet)\n",
    "    return tweet"
   ]
  },
  {
   "cell_type": "code",
   "execution_count": 48,
   "id": "ee780691-aaa5-4c7f-9750-aae65f77622c",
   "metadata": {
    "tags": []
   },
   "outputs": [
    {
     "name": "stdout",
     "output_type": "stream",
     "text": [
      "CPU times: total: 15.6 ms\n",
      "Wall time: 7.36 ms\n"
     ]
    }
   ],
   "source": [
    "%%time\n",
    "train_data[\"tweet\"] = train_data[\"tweet\"].apply(tweet_delete_new_line_new_text)"
   ]
  },
  {
   "cell_type": "code",
   "execution_count": 49,
   "id": "b90008be-d2bb-49ee-84ac-12ff4223aa69",
   "metadata": {
    "tags": []
   },
   "outputs": [
    {
     "data": {
      "text/html": [
       "<table border=\"1\" class=\"dataframe\">\n",
       "  <thead>\n",
       "    <tr style=\"text-align: right;\">\n",
       "      <th></th>\n",
       "      <th>Before</th>\n",
       "      <th>After</th>\n",
       "    </tr>\n",
       "  </thead>\n",
       "  <tbody>\n",
       "    <tr>\n",
       "      <th>0</th>\n",
       "      <td>pagi2 udah  buat emosi :)</td>\n",
       "      <td>pagi2 udah  buat emosi :)</td>\n",
       "    </tr>\n",
       "    <tr>\n",
       "      <th>1</th>\n",
       "      <td>stabilitas negara, memange 10 thn negara tdk aman, bahkan sby menyuburkan ormas2 radikal, intoleran, teroris, yg berafiliasi  partai tertentu..narasi klhtn intelektual tp bodoh..</td>\n",
       "      <td>stabilitas negara, memange 10 thn negara tdk aman, bahkan sby menyuburkan ormas2 radikal, intoleran, teroris, yg berafiliasi  partai tertentu..narasi klhtn intelektual tp bodoh..</td>\n",
       "    </tr>\n",
       "    <tr>\n",
       "      <th>2</th>\n",
       "      <td>emosi mulu liat</td>\n",
       "      <td>emosi mulu liat</td>\n",
       "    </tr>\n",
       "    <tr>\n",
       "      <th>3</th>\n",
       "      <td>aib? bodoh benar! sebelum kata aib itu muncul, terlebih dahulu sudah ada tindakan. yakni kekejian! jangan kau sembunyikan caramu menelaah masalah. semisal anak perempuanmu ditempeleng! apa kau juga setuju untuk dia bersikap bungkam? melapor polisi adl benar. lantas apa bedanya</td>\n",
       "      <td>aib? bodoh benar! sebelum kata aib itu muncul, terlebih dahulu sudah ada tindakan. yakni kekejian! jangan kau sembunyikan caramu menelaah masalah. semisal anak perempuanmu ditempeleng! apa kau juga setuju untuk dia bersikap bungkam? melapor polisi adl benar. lantas apa bedanya</td>\n",
       "    </tr>\n",
       "    <tr>\n",
       "      <th>4</th>\n",
       "      <td>lu yg nyebelin bego</td>\n",
       "      <td>lu yg nyebelin bego</td>\n",
       "    </tr>\n",
       "    <tr>\n",
       "      <th>5</th>\n",
       "      <td>asli malu maluin org indo tolol yg rep latah \"cilukba\" pake huruf hijaiyah sm \"ngntd\" sama ganti huruf t pake salib, ada tiktok filipin lewat fyp aku dan repnya \"ngtd\" semua, dasar goblogg trend tiktok ter tolol</td>\n",
       "      <td>asli malu maluin org indo tolol yg rep latah \"cilukba\" pake huruf hijaiyah sm \"ngntd\" sama ganti huruf t pake salib, ada tiktok filipin lewat fyp aku dan repnya \"ngtd\" semua, dasar goblogg trend tiktok ter tolol</td>\n",
       "    </tr>\n",
       "    <tr>\n",
       "      <th>6</th>\n",
       "      <td>drama abg tolol</td>\n",
       "      <td>drama abg tolol</td>\n",
       "    </tr>\n",
       "    <tr>\n",
       "      <th>7</th>\n",
       "      <td>masih emosi  sama katla kemarin. mana keterangannya gini aja. ((hasil mengaci)) kzl.</td>\n",
       "      <td>masih emosi  sama katla kemarin. mana keterangannya gini aja. ((hasil mengaci)) kzl.</td>\n",
       "    </tr>\n",
       "    <tr>\n",
       "      <th>8</th>\n",
       "      <td>bangsat tribute no.1, bencana no.2 mau ngalahin ini keknya</td>\n",
       "      <td>bangsat tribute no.1, bencana no.2 mau ngalahin ini keknya</td>\n",
       "    </tr>\n",
       "    <tr>\n",
       "      <th>9</th>\n",
       "      <td>pengen pergi jauh terus teriak sambil nangis sekencang kencangnya nanti balik kalo gue udah lupa segalanya wkwj kn tolol mustahil banget</td>\n",
       "      <td>pengen pergi jauh terus teriak sambil nangis sekencang kencangnya nanti balik kalo gue udah lupa segalanya wkwj kn tolol mustahil banget</td>\n",
       "    </tr>\n",
       "  </tbody>\n",
       "</table>"
      ],
      "text/plain": [
       "<IPython.core.display.HTML object>"
      ]
     },
     "metadata": {},
     "output_type": "display_data"
    }
   ],
   "source": [
    "comparison_df = pd.DataFrame({\n",
    "    'Before ': train_data_copy['tweet'],\n",
    "    'After ': train_data['tweet']\n",
    "})\n",
    "\n",
    "# Set max_colwidth option to ensure that long strings are displayed completely\n",
    "pd.options.display.max_colwidth = 150\n",
    "\n",
    "# Display the DataFrame as an HTML table\n",
    "display(HTML(comparison_df.head(10).to_html()))"
   ]
  },
  {
   "cell_type": "code",
   "execution_count": 50,
   "id": "1ef13f41",
   "metadata": {},
   "outputs": [
    {
     "name": "stdout",
     "output_type": "stream",
     "text": [
      "CPU times: total: 0 ns\n",
      "Wall time: 6.96 ms\n"
     ]
    }
   ],
   "source": [
    "%%time\n",
    "train_data_copy[\"tweet\"] = train_data_copy[\"tweet\"].apply(tweet_delete_new_line_new_text)"
   ]
  },
  {
   "cell_type": "markdown",
   "id": "2fd42e11",
   "metadata": {},
   "source": [
    "### Menghapus Hastag"
   ]
  },
  {
   "cell_type": "code",
   "execution_count": 51,
   "id": "001e206c",
   "metadata": {},
   "outputs": [],
   "source": [
    "def tweet_remove_hashtags(tweet):\n",
    "    hashtag= r'#\\w+'\n",
    "    tweet = re.sub(hashtag, '', tweet)\n",
    "    return tweet"
   ]
  },
  {
   "cell_type": "code",
   "execution_count": 52,
   "id": "a806e416",
   "metadata": {},
   "outputs": [
    {
     "name": "stdout",
     "output_type": "stream",
     "text": [
      "CPU times: total: 15.6 ms\n",
      "Wall time: 11.2 ms\n"
     ]
    }
   ],
   "source": [
    "%%time\n",
    "train_data[\"tweet\"] = train_data[\"tweet\"].apply(tweet_remove_hashtags)"
   ]
  },
  {
   "cell_type": "code",
   "execution_count": 53,
   "id": "bee5e05b",
   "metadata": {},
   "outputs": [
    {
     "data": {
      "text/html": [
       "<table border=\"1\" class=\"dataframe\">\n",
       "  <thead>\n",
       "    <tr style=\"text-align: right;\">\n",
       "      <th></th>\n",
       "      <th>Before</th>\n",
       "      <th>After</th>\n",
       "    </tr>\n",
       "  </thead>\n",
       "  <tbody>\n",
       "    <tr>\n",
       "      <th>0</th>\n",
       "      <td>pagi2 udah  buat emosi :)</td>\n",
       "      <td>pagi2 udah  buat emosi :)</td>\n",
       "    </tr>\n",
       "    <tr>\n",
       "      <th>1</th>\n",
       "      <td>stabilitas negara, memange 10 thn negara tdk aman, bahkan sby menyuburkan ormas2 radikal, intoleran, teroris, yg berafiliasi  partai tertentu..narasi klhtn intelektual tp bodoh..</td>\n",
       "      <td>stabilitas negara, memange 10 thn negara tdk aman, bahkan sby menyuburkan ormas2 radikal, intoleran, teroris, yg berafiliasi  partai tertentu..narasi klhtn intelektual tp bodoh..</td>\n",
       "    </tr>\n",
       "    <tr>\n",
       "      <th>2</th>\n",
       "      <td>emosi mulu liat</td>\n",
       "      <td>emosi mulu liat</td>\n",
       "    </tr>\n",
       "    <tr>\n",
       "      <th>3</th>\n",
       "      <td>aib? bodoh benar! sebelum kata aib itu muncul, terlebih dahulu sudah ada tindakan. yakni kekejian! jangan kau sembunyikan caramu menelaah masalah. semisal anak perempuanmu ditempeleng! apa kau juga setuju untuk dia bersikap bungkam? melapor polisi adl benar. lantas apa bedanya</td>\n",
       "      <td>aib? bodoh benar! sebelum kata aib itu muncul, terlebih dahulu sudah ada tindakan. yakni kekejian! jangan kau sembunyikan caramu menelaah masalah. semisal anak perempuanmu ditempeleng! apa kau juga setuju untuk dia bersikap bungkam? melapor polisi adl benar. lantas apa bedanya</td>\n",
       "    </tr>\n",
       "    <tr>\n",
       "      <th>4</th>\n",
       "      <td>lu yg nyebelin bego</td>\n",
       "      <td>lu yg nyebelin bego</td>\n",
       "    </tr>\n",
       "    <tr>\n",
       "      <th>5</th>\n",
       "      <td>asli malu maluin org indo tolol yg rep latah \"cilukba\" pake huruf hijaiyah sm \"ngntd\" sama ganti huruf t pake salib, ada tiktok filipin lewat fyp aku dan repnya \"ngtd\" semua, dasar goblogg trend tiktok ter tolol</td>\n",
       "      <td>asli malu maluin org indo tolol yg rep latah \"cilukba\" pake huruf hijaiyah sm \"ngntd\" sama ganti huruf t pake salib, ada tiktok filipin lewat fyp aku dan repnya \"ngtd\" semua, dasar goblogg trend tiktok ter tolol</td>\n",
       "    </tr>\n",
       "    <tr>\n",
       "      <th>6</th>\n",
       "      <td>drama abg tolol</td>\n",
       "      <td>drama abg tolol</td>\n",
       "    </tr>\n",
       "    <tr>\n",
       "      <th>7</th>\n",
       "      <td>masih emosi  sama katla kemarin. mana keterangannya gini aja. ((hasil mengaci)) kzl.</td>\n",
       "      <td>masih emosi  sama katla kemarin. mana keterangannya gini aja. ((hasil mengaci)) kzl.</td>\n",
       "    </tr>\n",
       "    <tr>\n",
       "      <th>8</th>\n",
       "      <td>bangsat tribute no.1, bencana no.2 mau ngalahin ini keknya</td>\n",
       "      <td>bangsat tribute no.1, bencana no.2 mau ngalahin ini keknya</td>\n",
       "    </tr>\n",
       "    <tr>\n",
       "      <th>9</th>\n",
       "      <td>pengen pergi jauh terus teriak sambil nangis sekencang kencangnya nanti balik kalo gue udah lupa segalanya wkwj kn tolol mustahil banget</td>\n",
       "      <td>pengen pergi jauh terus teriak sambil nangis sekencang kencangnya nanti balik kalo gue udah lupa segalanya wkwj kn tolol mustahil banget</td>\n",
       "    </tr>\n",
       "  </tbody>\n",
       "</table>"
      ],
      "text/plain": [
       "<IPython.core.display.HTML object>"
      ]
     },
     "metadata": {},
     "output_type": "display_data"
    }
   ],
   "source": [
    "comparison_df = pd.DataFrame({\n",
    "    'Before ': train_data_copy['tweet'],\n",
    "    'After ': train_data['tweet']\n",
    "})\n",
    "\n",
    "pd.options.display.max_colwidth = 150\n",
    "\n",
    "display(HTML(comparison_df.head(10).to_html()))"
   ]
  },
  {
   "cell_type": "code",
   "execution_count": 54,
   "id": "ec6ddd71",
   "metadata": {},
   "outputs": [
    {
     "name": "stdout",
     "output_type": "stream",
     "text": [
      "CPU times: total: 0 ns\n",
      "Wall time: 6.09 ms\n"
     ]
    }
   ],
   "source": [
    "%%time\n",
    "train_data_copy[\"tweet\"] = train_data_copy[\"tweet\"].apply(tweet_remove_hashtags)"
   ]
  },
  {
   "cell_type": "markdown",
   "id": "181bb0e4-dbc1-4a00-a981-40ea7836efcb",
   "metadata": {
    "tags": []
   },
   "source": [
    "### Menghapus angka"
   ]
  },
  {
   "cell_type": "code",
   "execution_count": 55,
   "id": "139185eb-5795-4566-9a4d-63f285f9a3e0",
   "metadata": {
    "tags": []
   },
   "outputs": [],
   "source": [
    "def tweet_delete_number(tweet):\n",
    "    number = r'\\d+' \n",
    "    tweet = re.sub(number, '', tweet)\n",
    "    return tweet"
   ]
  },
  {
   "cell_type": "code",
   "execution_count": 56,
   "id": "dab2a768-750e-4edb-8c00-08f89e01fdd0",
   "metadata": {
    "tags": []
   },
   "outputs": [
    {
     "name": "stdout",
     "output_type": "stream",
     "text": [
      "CPU times: total: 0 ns\n",
      "Wall time: 22 ms\n"
     ]
    }
   ],
   "source": [
    "%%time\n",
    "train_data[\"tweet\"] = train_data[\"tweet\"].apply(tweet_delete_number)"
   ]
  },
  {
   "cell_type": "code",
   "execution_count": 57,
   "id": "86f367ba-608c-4740-afce-8b47f8f8782c",
   "metadata": {
    "tags": []
   },
   "outputs": [
    {
     "data": {
      "text/html": [
       "<table border=\"1\" class=\"dataframe\">\n",
       "  <thead>\n",
       "    <tr style=\"text-align: right;\">\n",
       "      <th></th>\n",
       "      <th>Before</th>\n",
       "      <th>After</th>\n",
       "    </tr>\n",
       "  </thead>\n",
       "  <tbody>\n",
       "    <tr>\n",
       "      <th>0</th>\n",
       "      <td>pagi2 udah  buat emosi :)</td>\n",
       "      <td>pagi udah  buat emosi :)</td>\n",
       "    </tr>\n",
       "    <tr>\n",
       "      <th>1</th>\n",
       "      <td>stabilitas negara, memange 10 thn negara tdk aman, bahkan sby menyuburkan ormas2 radikal, intoleran, teroris, yg berafiliasi  partai tertentu..narasi klhtn intelektual tp bodoh..</td>\n",
       "      <td>stabilitas negara, memange  thn negara tdk aman, bahkan sby menyuburkan ormas radikal, intoleran, teroris, yg berafiliasi  partai tertentu..narasi klhtn intelektual tp bodoh..</td>\n",
       "    </tr>\n",
       "    <tr>\n",
       "      <th>2</th>\n",
       "      <td>emosi mulu liat</td>\n",
       "      <td>emosi mulu liat</td>\n",
       "    </tr>\n",
       "    <tr>\n",
       "      <th>3</th>\n",
       "      <td>aib? bodoh benar! sebelum kata aib itu muncul, terlebih dahulu sudah ada tindakan. yakni kekejian! jangan kau sembunyikan caramu menelaah masalah. semisal anak perempuanmu ditempeleng! apa kau juga setuju untuk dia bersikap bungkam? melapor polisi adl benar. lantas apa bedanya</td>\n",
       "      <td>aib? bodoh benar! sebelum kata aib itu muncul, terlebih dahulu sudah ada tindakan. yakni kekejian! jangan kau sembunyikan caramu menelaah masalah. semisal anak perempuanmu ditempeleng! apa kau juga setuju untuk dia bersikap bungkam? melapor polisi adl benar. lantas apa bedanya</td>\n",
       "    </tr>\n",
       "    <tr>\n",
       "      <th>4</th>\n",
       "      <td>lu yg nyebelin bego</td>\n",
       "      <td>lu yg nyebelin bego</td>\n",
       "    </tr>\n",
       "    <tr>\n",
       "      <th>5</th>\n",
       "      <td>asli malu maluin org indo tolol yg rep latah \"cilukba\" pake huruf hijaiyah sm \"ngntd\" sama ganti huruf t pake salib, ada tiktok filipin lewat fyp aku dan repnya \"ngtd\" semua, dasar goblogg trend tiktok ter tolol</td>\n",
       "      <td>asli malu maluin org indo tolol yg rep latah \"cilukba\" pake huruf hijaiyah sm \"ngntd\" sama ganti huruf t pake salib, ada tiktok filipin lewat fyp aku dan repnya \"ngtd\" semua, dasar goblogg trend tiktok ter tolol</td>\n",
       "    </tr>\n",
       "    <tr>\n",
       "      <th>6</th>\n",
       "      <td>drama abg tolol</td>\n",
       "      <td>drama abg tolol</td>\n",
       "    </tr>\n",
       "    <tr>\n",
       "      <th>7</th>\n",
       "      <td>masih emosi  sama katla kemarin. mana keterangannya gini aja. ((hasil mengaci)) kzl.</td>\n",
       "      <td>masih emosi  sama katla kemarin. mana keterangannya gini aja. ((hasil mengaci)) kzl.</td>\n",
       "    </tr>\n",
       "    <tr>\n",
       "      <th>8</th>\n",
       "      <td>bangsat tribute no.1, bencana no.2 mau ngalahin ini keknya</td>\n",
       "      <td>bangsat tribute no., bencana no. mau ngalahin ini keknya</td>\n",
       "    </tr>\n",
       "    <tr>\n",
       "      <th>9</th>\n",
       "      <td>pengen pergi jauh terus teriak sambil nangis sekencang kencangnya nanti balik kalo gue udah lupa segalanya wkwj kn tolol mustahil banget</td>\n",
       "      <td>pengen pergi jauh terus teriak sambil nangis sekencang kencangnya nanti balik kalo gue udah lupa segalanya wkwj kn tolol mustahil banget</td>\n",
       "    </tr>\n",
       "  </tbody>\n",
       "</table>"
      ],
      "text/plain": [
       "<IPython.core.display.HTML object>"
      ]
     },
     "metadata": {},
     "output_type": "display_data"
    }
   ],
   "source": [
    "comparison_df = pd.DataFrame({\n",
    "    'Before ': train_data_copy['tweet'],\n",
    "    'After ': train_data['tweet']\n",
    "})\n",
    "\n",
    "# Set max_colwidth option to ensure that long strings are displayed completely\n",
    "pd.options.display.max_colwidth = 150\n",
    "\n",
    "# Display the DataFrame as an HTML table\n",
    "display(HTML(comparison_df.head(10).to_html()))"
   ]
  },
  {
   "cell_type": "code",
   "execution_count": 58,
   "id": "515a4c53",
   "metadata": {},
   "outputs": [
    {
     "name": "stdout",
     "output_type": "stream",
     "text": [
      "CPU times: total: 0 ns\n",
      "Wall time: 58.5 ms\n"
     ]
    }
   ],
   "source": [
    "%%time\n",
    "train_data_copy[\"tweet\"] = train_data_copy[\"tweet\"].apply(tweet_delete_number)"
   ]
  },
  {
   "cell_type": "markdown",
   "id": "4de44a31-86c8-4af3-b594-383d461c80f1",
   "metadata": {
    "tags": []
   },
   "source": [
    "### Menghapus tanda baca"
   ]
  },
  {
   "cell_type": "code",
   "execution_count": 59,
   "id": "d79f50f9-1d2a-43c0-8e13-8283c8c6a0a6",
   "metadata": {
    "tags": []
   },
   "outputs": [],
   "source": [
    "def tweet_delete_punctuation(tweet):\n",
    "    punctuationPattern = r'[^\\w\\s]' \n",
    "    tweet = re.sub(punctuationPattern, ' ', tweet)\n",
    "    \n",
    "    return tweet"
   ]
  },
  {
   "cell_type": "code",
   "execution_count": 60,
   "id": "0f70586f-27ad-47fe-a9cc-d02d53f80b1c",
   "metadata": {
    "tags": []
   },
   "outputs": [
    {
     "name": "stdout",
     "output_type": "stream",
     "text": [
      "CPU times: total: 15.6 ms\n",
      "Wall time: 56.9 ms\n"
     ]
    }
   ],
   "source": [
    "%%time\n",
    "train_data[\"tweet\"] = train_data[\"tweet\"].apply(tweet_delete_punctuation)"
   ]
  },
  {
   "cell_type": "code",
   "execution_count": 61,
   "id": "fe6b6e89-9d05-4ed7-9b49-43a6974658a5",
   "metadata": {
    "tags": []
   },
   "outputs": [
    {
     "data": {
      "text/html": [
       "<table border=\"1\" class=\"dataframe\">\n",
       "  <thead>\n",
       "    <tr style=\"text-align: right;\">\n",
       "      <th></th>\n",
       "      <th>Before</th>\n",
       "      <th>After</th>\n",
       "    </tr>\n",
       "  </thead>\n",
       "  <tbody>\n",
       "    <tr>\n",
       "      <th>0</th>\n",
       "      <td>pagi udah  buat emosi :)</td>\n",
       "      <td>pagi udah  buat emosi</td>\n",
       "    </tr>\n",
       "    <tr>\n",
       "      <th>1</th>\n",
       "      <td>stabilitas negara, memange  thn negara tdk aman, bahkan sby menyuburkan ormas radikal, intoleran, teroris, yg berafiliasi  partai tertentu..narasi klhtn intelektual tp bodoh..</td>\n",
       "      <td>stabilitas negara  memange  thn negara tdk aman  bahkan sby menyuburkan ormas radikal  intoleran  teroris  yg berafiliasi  partai tertentu  narasi klhtn intelektual tp bodoh</td>\n",
       "    </tr>\n",
       "    <tr>\n",
       "      <th>2</th>\n",
       "      <td>emosi mulu liat</td>\n",
       "      <td>emosi mulu liat</td>\n",
       "    </tr>\n",
       "    <tr>\n",
       "      <th>3</th>\n",
       "      <td>aib? bodoh benar! sebelum kata aib itu muncul, terlebih dahulu sudah ada tindakan. yakni kekejian! jangan kau sembunyikan caramu menelaah masalah. semisal anak perempuanmu ditempeleng! apa kau juga setuju untuk dia bersikap bungkam? melapor polisi adl benar. lantas apa bedanya</td>\n",
       "      <td>aib  bodoh benar  sebelum kata aib itu muncul  terlebih dahulu sudah ada tindakan  yakni kekejian  jangan kau sembunyikan caramu menelaah masalah  semisal anak perempuanmu ditempeleng  apa kau juga setuju untuk dia bersikap bungkam  melapor polisi adl benar  lantas apa bedanya</td>\n",
       "    </tr>\n",
       "    <tr>\n",
       "      <th>4</th>\n",
       "      <td>lu yg nyebelin bego</td>\n",
       "      <td>lu yg nyebelin bego</td>\n",
       "    </tr>\n",
       "    <tr>\n",
       "      <th>5</th>\n",
       "      <td>asli malu maluin org indo tolol yg rep latah \"cilukba\" pake huruf hijaiyah sm \"ngntd\" sama ganti huruf t pake salib, ada tiktok filipin lewat fyp aku dan repnya \"ngtd\" semua, dasar goblogg trend tiktok ter tolol</td>\n",
       "      <td>asli malu maluin org indo tolol yg rep latah  cilukba  pake huruf hijaiyah sm  ngntd  sama ganti huruf t pake salib  ada tiktok filipin lewat fyp aku dan repnya  ngtd  semua  dasar goblogg trend tiktok ter tolol</td>\n",
       "    </tr>\n",
       "    <tr>\n",
       "      <th>6</th>\n",
       "      <td>drama abg tolol</td>\n",
       "      <td>drama abg tolol</td>\n",
       "    </tr>\n",
       "    <tr>\n",
       "      <th>7</th>\n",
       "      <td>masih emosi  sama katla kemarin. mana keterangannya gini aja. ((hasil mengaci)) kzl.</td>\n",
       "      <td>masih emosi  sama katla kemarin  mana keterangannya gini aja    hasil mengaci   kzl</td>\n",
       "    </tr>\n",
       "    <tr>\n",
       "      <th>8</th>\n",
       "      <td>bangsat tribute no., bencana no. mau ngalahin ini keknya</td>\n",
       "      <td>bangsat tribute no   bencana no  mau ngalahin ini keknya</td>\n",
       "    </tr>\n",
       "    <tr>\n",
       "      <th>9</th>\n",
       "      <td>pengen pergi jauh terus teriak sambil nangis sekencang kencangnya nanti balik kalo gue udah lupa segalanya wkwj kn tolol mustahil banget</td>\n",
       "      <td>pengen pergi jauh terus teriak sambil nangis sekencang kencangnya nanti balik kalo gue udah lupa segalanya wkwj kn tolol mustahil banget</td>\n",
       "    </tr>\n",
       "  </tbody>\n",
       "</table>"
      ],
      "text/plain": [
       "<IPython.core.display.HTML object>"
      ]
     },
     "metadata": {},
     "output_type": "display_data"
    }
   ],
   "source": [
    "comparison_df = pd.DataFrame({\n",
    "    'Before ': train_data_copy['tweet'],\n",
    "    'After ': train_data['tweet']\n",
    "})\n",
    "\n",
    "# Set max_colwidth option to ensure that long strings are displayed completely\n",
    "pd.options.display.max_colwidth = 150\n",
    "\n",
    "# Display the DataFrame as an HTML table\n",
    "display(HTML(comparison_df.head(10).to_html()))"
   ]
  },
  {
   "cell_type": "code",
   "execution_count": 62,
   "id": "23ca11a9",
   "metadata": {},
   "outputs": [
    {
     "name": "stdout",
     "output_type": "stream",
     "text": [
      "CPU times: total: 15.6 ms\n",
      "Wall time: 20.7 ms\n"
     ]
    }
   ],
   "source": [
    "%%time\n",
    "train_data_copy[\"tweet\"] = train_data_copy[\"tweet\"].apply(tweet_delete_punctuation)"
   ]
  },
  {
   "cell_type": "markdown",
   "id": "187fd0cb-394d-4c5e-92c1-9b10ea7d813e",
   "metadata": {
    "tags": []
   },
   "source": [
    "### Menghapus Extra Spasi"
   ]
  },
  {
   "cell_type": "code",
   "execution_count": 63,
   "id": "782da536-3514-414d-9c0f-b09fe5c980e6",
   "metadata": {
    "tags": []
   },
   "outputs": [],
   "source": [
    "def tweet_delete_extra_space(tweet):\n",
    "    tweet = re.sub(r\"\\s+\", \" \", tweet)\n",
    "    tweet = re.sub(r\"^\\s+|\\s+$\", \"\", tweet)\n",
    "    \n",
    "    return tweet"
   ]
  },
  {
   "cell_type": "code",
   "execution_count": 64,
   "id": "b9e65496-e5c9-4120-a6d4-081495bf1002",
   "metadata": {
    "tags": []
   },
   "outputs": [
    {
     "name": "stdout",
     "output_type": "stream",
     "text": [
      "CPU times: total: 31.2 ms\n",
      "Wall time: 83.6 ms\n"
     ]
    }
   ],
   "source": [
    "%%time\n",
    "train_data[\"tweet\"] = train_data[\"tweet\"].apply(tweet_delete_extra_space)"
   ]
  },
  {
   "cell_type": "code",
   "execution_count": 65,
   "id": "e6efabfe-6646-4f81-bcaa-cc7541f7c556",
   "metadata": {
    "tags": []
   },
   "outputs": [
    {
     "data": {
      "text/html": [
       "<table border=\"1\" class=\"dataframe\">\n",
       "  <thead>\n",
       "    <tr style=\"text-align: right;\">\n",
       "      <th></th>\n",
       "      <th>Before</th>\n",
       "      <th>After</th>\n",
       "    </tr>\n",
       "  </thead>\n",
       "  <tbody>\n",
       "    <tr>\n",
       "      <th>0</th>\n",
       "      <td>pagi udah  buat emosi</td>\n",
       "      <td>pagi udah buat emosi</td>\n",
       "    </tr>\n",
       "    <tr>\n",
       "      <th>1</th>\n",
       "      <td>stabilitas negara  memange  thn negara tdk aman  bahkan sby menyuburkan ormas radikal  intoleran  teroris  yg berafiliasi  partai tertentu  narasi klhtn intelektual tp bodoh</td>\n",
       "      <td>stabilitas negara memange thn negara tdk aman bahkan sby menyuburkan ormas radikal intoleran teroris yg berafiliasi partai tertentu narasi klhtn intelektual tp bodoh</td>\n",
       "    </tr>\n",
       "    <tr>\n",
       "      <th>2</th>\n",
       "      <td>emosi mulu liat</td>\n",
       "      <td>emosi mulu liat</td>\n",
       "    </tr>\n",
       "    <tr>\n",
       "      <th>3</th>\n",
       "      <td>aib  bodoh benar  sebelum kata aib itu muncul  terlebih dahulu sudah ada tindakan  yakni kekejian  jangan kau sembunyikan caramu menelaah masalah  semisal anak perempuanmu ditempeleng  apa kau juga setuju untuk dia bersikap bungkam  melapor polisi adl benar  lantas apa bedanya</td>\n",
       "      <td>aib bodoh benar sebelum kata aib itu muncul terlebih dahulu sudah ada tindakan yakni kekejian jangan kau sembunyikan caramu menelaah masalah semisal anak perempuanmu ditempeleng apa kau juga setuju untuk dia bersikap bungkam melapor polisi adl benar lantas apa bedanya</td>\n",
       "    </tr>\n",
       "    <tr>\n",
       "      <th>4</th>\n",
       "      <td>lu yg nyebelin bego</td>\n",
       "      <td>lu yg nyebelin bego</td>\n",
       "    </tr>\n",
       "    <tr>\n",
       "      <th>5</th>\n",
       "      <td>asli malu maluin org indo tolol yg rep latah  cilukba  pake huruf hijaiyah sm  ngntd  sama ganti huruf t pake salib  ada tiktok filipin lewat fyp aku dan repnya  ngtd  semua  dasar goblogg trend tiktok ter tolol</td>\n",
       "      <td>asli malu maluin org indo tolol yg rep latah cilukba pake huruf hijaiyah sm ngntd sama ganti huruf t pake salib ada tiktok filipin lewat fyp aku dan repnya ngtd semua dasar goblogg trend tiktok ter tolol</td>\n",
       "    </tr>\n",
       "    <tr>\n",
       "      <th>6</th>\n",
       "      <td>drama abg tolol</td>\n",
       "      <td>drama abg tolol</td>\n",
       "    </tr>\n",
       "    <tr>\n",
       "      <th>7</th>\n",
       "      <td>masih emosi  sama katla kemarin  mana keterangannya gini aja    hasil mengaci   kzl</td>\n",
       "      <td>masih emosi sama katla kemarin mana keterangannya gini aja hasil mengaci kzl</td>\n",
       "    </tr>\n",
       "    <tr>\n",
       "      <th>8</th>\n",
       "      <td>bangsat tribute no   bencana no  mau ngalahin ini keknya</td>\n",
       "      <td>bangsat tribute no bencana no mau ngalahin ini keknya</td>\n",
       "    </tr>\n",
       "    <tr>\n",
       "      <th>9</th>\n",
       "      <td>pengen pergi jauh terus teriak sambil nangis sekencang kencangnya nanti balik kalo gue udah lupa segalanya wkwj kn tolol mustahil banget</td>\n",
       "      <td>pengen pergi jauh terus teriak sambil nangis sekencang kencangnya nanti balik kalo gue udah lupa segalanya wkwj kn tolol mustahil banget</td>\n",
       "    </tr>\n",
       "  </tbody>\n",
       "</table>"
      ],
      "text/plain": [
       "<IPython.core.display.HTML object>"
      ]
     },
     "metadata": {},
     "output_type": "display_data"
    }
   ],
   "source": [
    "comparison_df = pd.DataFrame({\n",
    "    'Before ': train_data_copy['tweet'],\n",
    "    'After ': train_data['tweet']\n",
    "})\n",
    "\n",
    "# Set max_colwidth option to ensure that long strings are displayed completely\n",
    "pd.options.display.max_colwidth = 150\n",
    "\n",
    "# Display the DataFrame as an HTML table\n",
    "display(HTML(comparison_df.head(10).to_html()))"
   ]
  },
  {
   "cell_type": "code",
   "execution_count": 66,
   "id": "0709f0a7",
   "metadata": {},
   "outputs": [
    {
     "name": "stdout",
     "output_type": "stream",
     "text": [
      "CPU times: total: 15.6 ms\n",
      "Wall time: 85.7 ms\n"
     ]
    }
   ],
   "source": [
    "%%time\n",
    "train_data_copy[\"tweet\"] = train_data_copy[\"tweet\"].apply(tweet_delete_extra_space)"
   ]
  },
  {
   "cell_type": "markdown",
   "id": "60ba3f70-5aed-49cd-a289-049a84590502",
   "metadata": {},
   "source": [
    "## Tokenization"
   ]
  },
  {
   "cell_type": "code",
   "execution_count": 67,
   "id": "454caed4-dd55-4448-946a-2b05e87d55e1",
   "metadata": {
    "tags": []
   },
   "outputs": [],
   "source": [
    "from nltk.tokenize import word_tokenize "
   ]
  },
  {
   "cell_type": "code",
   "execution_count": 68,
   "id": "86a1d759-67f3-41f5-9d6c-0d0db43d6b79",
   "metadata": {
    "tags": []
   },
   "outputs": [],
   "source": [
    "def tweet_tokenize(tweet):\n",
    "    return word_tokenize(tweet)"
   ]
  },
  {
   "cell_type": "code",
   "execution_count": 69,
   "id": "06da4377-c935-470c-a075-ffcbcc0b9085",
   "metadata": {
    "tags": []
   },
   "outputs": [
    {
     "name": "stdout",
     "output_type": "stream",
     "text": [
      "CPU times: total: 516 ms\n",
      "Wall time: 684 ms\n"
     ]
    }
   ],
   "source": [
    "%%time\n",
    "train_data[\"tweet\"] = train_data[\"tweet\"].apply(tweet_tokenize)"
   ]
  },
  {
   "cell_type": "code",
   "execution_count": 70,
   "id": "d251514f-6486-449b-b4c4-60d9c23e1409",
   "metadata": {
    "tags": []
   },
   "outputs": [
    {
     "data": {
      "text/html": [
       "<table border=\"1\" class=\"dataframe\">\n",
       "  <thead>\n",
       "    <tr style=\"text-align: right;\">\n",
       "      <th></th>\n",
       "      <th>Before</th>\n",
       "      <th>After</th>\n",
       "    </tr>\n",
       "  </thead>\n",
       "  <tbody>\n",
       "    <tr>\n",
       "      <th>0</th>\n",
       "      <td>pagi udah buat emosi</td>\n",
       "      <td>[pagi, udah, buat, emosi]</td>\n",
       "    </tr>\n",
       "    <tr>\n",
       "      <th>1</th>\n",
       "      <td>stabilitas negara memange thn negara tdk aman bahkan sby menyuburkan ormas radikal intoleran teroris yg berafiliasi partai tertentu narasi klhtn intelektual tp bodoh</td>\n",
       "      <td>[stabilitas, negara, memange, thn, negara, tdk, aman, bahkan, sby, menyuburkan, ormas, radikal, intoleran, teroris, yg, berafiliasi, partai, tertentu, narasi, klhtn, intelektual, tp, bodoh]</td>\n",
       "    </tr>\n",
       "    <tr>\n",
       "      <th>2</th>\n",
       "      <td>emosi mulu liat</td>\n",
       "      <td>[emosi, mulu, liat]</td>\n",
       "    </tr>\n",
       "    <tr>\n",
       "      <th>3</th>\n",
       "      <td>aib bodoh benar sebelum kata aib itu muncul terlebih dahulu sudah ada tindakan yakni kekejian jangan kau sembunyikan caramu menelaah masalah semisal anak perempuanmu ditempeleng apa kau juga setuju untuk dia bersikap bungkam melapor polisi adl benar lantas apa bedanya</td>\n",
       "      <td>[aib, bodoh, benar, sebelum, kata, aib, itu, muncul, terlebih, dahulu, sudah, ada, tindakan, yakni, kekejian, jangan, kau, sembunyikan, caramu, menelaah, masalah, semisal, anak, perempuanmu, ditempeleng, apa, kau, juga, setuju, untuk, dia, bersikap, bungkam, melapor, polisi, adl, benar, lantas, apa, bedanya]</td>\n",
       "    </tr>\n",
       "    <tr>\n",
       "      <th>4</th>\n",
       "      <td>lu yg nyebelin bego</td>\n",
       "      <td>[lu, yg, nyebelin, bego]</td>\n",
       "    </tr>\n",
       "    <tr>\n",
       "      <th>5</th>\n",
       "      <td>asli malu maluin org indo tolol yg rep latah cilukba pake huruf hijaiyah sm ngntd sama ganti huruf t pake salib ada tiktok filipin lewat fyp aku dan repnya ngtd semua dasar goblogg trend tiktok ter tolol</td>\n",
       "      <td>[asli, malu, maluin, org, indo, tolol, yg, rep, latah, cilukba, pake, huruf, hijaiyah, sm, ngntd, sama, ganti, huruf, t, pake, salib, ada, tiktok, filipin, lewat, fyp, aku, dan, repnya, ngtd, semua, dasar, goblogg, trend, tiktok, ter, tolol]</td>\n",
       "    </tr>\n",
       "    <tr>\n",
       "      <th>6</th>\n",
       "      <td>drama abg tolol</td>\n",
       "      <td>[drama, abg, tolol]</td>\n",
       "    </tr>\n",
       "    <tr>\n",
       "      <th>7</th>\n",
       "      <td>masih emosi sama katla kemarin mana keterangannya gini aja hasil mengaci kzl</td>\n",
       "      <td>[masih, emosi, sama, katla, kemarin, mana, keterangannya, gini, aja, hasil, mengaci, kzl]</td>\n",
       "    </tr>\n",
       "    <tr>\n",
       "      <th>8</th>\n",
       "      <td>bangsat tribute no bencana no mau ngalahin ini keknya</td>\n",
       "      <td>[bangsat, tribute, no, bencana, no, mau, ngalahin, ini, keknya]</td>\n",
       "    </tr>\n",
       "    <tr>\n",
       "      <th>9</th>\n",
       "      <td>pengen pergi jauh terus teriak sambil nangis sekencang kencangnya nanti balik kalo gue udah lupa segalanya wkwj kn tolol mustahil banget</td>\n",
       "      <td>[pengen, pergi, jauh, terus, teriak, sambil, nangis, sekencang, kencangnya, nanti, balik, kalo, gue, udah, lupa, segalanya, wkwj, kn, tolol, mustahil, banget]</td>\n",
       "    </tr>\n",
       "  </tbody>\n",
       "</table>"
      ],
      "text/plain": [
       "<IPython.core.display.HTML object>"
      ]
     },
     "metadata": {},
     "output_type": "display_data"
    }
   ],
   "source": [
    "comparison_df = pd.DataFrame({\n",
    "    'Before ': train_data_copy['tweet'],\n",
    "    'After ': train_data['tweet']\n",
    "})\n",
    "\n",
    "# Set max_colwidth option to ensure that long strings are displayed completely\n",
    "pd.options.display.max_colwidth = 150\n",
    "\n",
    "# Display the DataFrame as an HTML table\n",
    "display(HTML(comparison_df.head(10).to_html()))"
   ]
  },
  {
   "cell_type": "code",
   "execution_count": 71,
   "id": "6dfd5d28",
   "metadata": {},
   "outputs": [
    {
     "name": "stdout",
     "output_type": "stream",
     "text": [
      "CPU times: total: 500 ms\n",
      "Wall time: 872 ms\n"
     ]
    }
   ],
   "source": [
    "%%time\n",
    "train_data_copy[\"tweet\"] = train_data_copy[\"tweet\"].apply(tweet_tokenize)"
   ]
  },
  {
   "cell_type": "markdown",
   "id": "da4c33c1-7e4c-4c69-8989-e3a13e3e508a",
   "metadata": {},
   "source": [
    "## Normalization"
   ]
  },
  {
   "cell_type": "markdown",
   "id": "731a3144",
   "metadata": {},
   "source": [
    "### Import Kamus"
   ]
  },
  {
   "cell_type": "code",
   "execution_count": 72,
   "id": "f40ddf46",
   "metadata": {},
   "outputs": [
    {
     "data": {
      "text/html": [
       "<div>\n",
       "<style scoped>\n",
       "    .dataframe tbody tr th:only-of-type {\n",
       "        vertical-align: middle;\n",
       "    }\n",
       "\n",
       "    .dataframe tbody tr th {\n",
       "        vertical-align: top;\n",
       "    }\n",
       "\n",
       "    .dataframe thead th {\n",
       "        text-align: right;\n",
       "    }\n",
       "</style>\n",
       "<table border=\"1\" class=\"dataframe\">\n",
       "  <thead>\n",
       "    <tr style=\"text-align: right;\">\n",
       "      <th></th>\n",
       "      <th>kata_gaul</th>\n",
       "      <th>kata_asal</th>\n",
       "    </tr>\n",
       "  </thead>\n",
       "  <tbody>\n",
       "    <tr>\n",
       "      <th>0</th>\n",
       "      <td>aamiin</td>\n",
       "      <td>amin</td>\n",
       "    </tr>\n",
       "    <tr>\n",
       "      <th>1</th>\n",
       "      <td>adek</td>\n",
       "      <td>adik</td>\n",
       "    </tr>\n",
       "    <tr>\n",
       "      <th>2</th>\n",
       "      <td>adlh</td>\n",
       "      <td>adalah</td>\n",
       "    </tr>\n",
       "    <tr>\n",
       "      <th>3</th>\n",
       "      <td>aer</td>\n",
       "      <td>air</td>\n",
       "    </tr>\n",
       "    <tr>\n",
       "      <th>4</th>\n",
       "      <td>aiskrim</td>\n",
       "      <td>es krim</td>\n",
       "    </tr>\n",
       "    <tr>\n",
       "      <th>...</th>\n",
       "      <td>...</td>\n",
       "      <td>...</td>\n",
       "    </tr>\n",
       "    <tr>\n",
       "      <th>1304</th>\n",
       "      <td>yoi</td>\n",
       "      <td>iya</td>\n",
       "    </tr>\n",
       "    <tr>\n",
       "      <th>1305</th>\n",
       "      <td>yup</td>\n",
       "      <td>ya</td>\n",
       "    </tr>\n",
       "    <tr>\n",
       "      <th>1306</th>\n",
       "      <td>yups</td>\n",
       "      <td>ya</td>\n",
       "    </tr>\n",
       "    <tr>\n",
       "      <th>1307</th>\n",
       "      <td>yupz</td>\n",
       "      <td>ya</td>\n",
       "    </tr>\n",
       "    <tr>\n",
       "      <th>1308</th>\n",
       "      <td>ywdh</td>\n",
       "      <td>ya sudah</td>\n",
       "    </tr>\n",
       "  </tbody>\n",
       "</table>\n",
       "<p>1309 rows × 2 columns</p>\n",
       "</div>"
      ],
      "text/plain": [
       "     kata_gaul kata_asal\n",
       "0       aamiin     amin \n",
       "1         adek     adik \n",
       "2         adlh   adalah \n",
       "3          aer      air \n",
       "4      aiskrim  es krim \n",
       "...        ...       ...\n",
       "1304       yoi       iya\n",
       "1305       yup       ya \n",
       "1306      yups        ya\n",
       "1307      yupz        ya\n",
       "1308      ywdh  ya sudah\n",
       "\n",
       "[1309 rows x 2 columns]"
      ]
     },
     "execution_count": 72,
     "metadata": {},
     "output_type": "execute_result"
    }
   ],
   "source": [
    "kamus_singkatan = pd.read_csv(\"./Dataset/kamus_singkatan.csv\",names=[\"kata_gaul\",\"kata_asal\"],delimiter=\";\")\n",
    "kamus_singkatan"
   ]
  },
  {
   "cell_type": "code",
   "execution_count": 73,
   "id": "e574af48",
   "metadata": {},
   "outputs": [],
   "source": [
    "def create_kamus():\n",
    "      kamus = {}\n",
    "      for i in range(len(kamus_singkatan)):\n",
    "          kamus[kamus_singkatan[\"kata_gaul\"][i]]=kamus_singkatan[\"kata_asal\"][i].lower().strip()\n",
    "      return kamus"
   ]
  },
  {
   "cell_type": "code",
   "execution_count": 74,
   "id": "fb0b89b1",
   "metadata": {},
   "outputs": [
    {
     "data": {
      "text/plain": [
       "{'aamiin': 'amin',\n",
       " 'adek': 'adik',\n",
       " 'adlh': 'adalah',\n",
       " 'aer': 'air',\n",
       " 'aiskrim': 'es krim',\n",
       " 'aj': 'saja',\n",
       " 'aja': 'saja',\n",
       " 'ajah': 'saja',\n",
       " 'ajalah': 'saja',\n",
       " 'aje': 'saja',\n",
       " 'ajh': 'saja',\n",
       " 'ajj': 'saja',\n",
       " 'aku': 'saya',\n",
       " 'ak': 'saya',\n",
       " 'akoh': 'saya',\n",
       " 'akutu': 'saya',\n",
       " 'aq': 'saya',\n",
       " 'alesan': 'alasan',\n",
       " 'ama': 'sama',\n",
       " 'amaca': 'ah masa',\n",
       " 'amuh': 'kamu',\n",
       " 'ancur': 'hancur',\n",
       " 'ane': 'saya',\n",
       " 'anget': 'hangat',\n",
       " 'anjeng': 'anjing',\n",
       " 'ank': 'anak',\n",
       " 'apah': 'apa',\n",
       " 'aph': 'apa',\n",
       " 'apo': 'apa',\n",
       " 'apose': 'apa',\n",
       " 'apz': 'apa',\n",
       " 'artine': 'artinya',\n",
       " 'asek': 'asik',\n",
       " 'ati2': 'hati-hati',\n",
       " 'atit': 'sakit',\n",
       " 'atu': 'satu',\n",
       " 'atw': 'atau',\n",
       " 'ayang': 'sayang',\n",
       " 'ayuk': 'ayo',\n",
       " 'babang': 'abang',\n",
       " 'bae': 'baik',\n",
       " 'bais': 'habis',\n",
       " 'bakalan': 'akan',\n",
       " 'bales': 'balas',\n",
       " 'bandingin': 'bandingkan',\n",
       " 'banget': 'sekali',\n",
       " 'bangett': 'sangat',\n",
       " 'banyakin': 'perbanyak',\n",
       " 'barengan': 'bersamaan',\n",
       " 'baryaw': 'sabar ya',\n",
       " 'baso': 'bakso',\n",
       " 'bay': 'selamat tinggal',\n",
       " 'bbrp': 'beberapa',\n",
       " 'bc': 'baca',\n",
       " 'bcs': 'bisa',\n",
       " 'bct': 'bicara',\n",
       " 'bdan': 'badan',\n",
       " 'bdg': 'bandung',\n",
       " 'bdn': 'badan',\n",
       " 'becanda': 'bercanda',\n",
       " 'bedua': 'berdua',\n",
       " 'bego': 'bodoh',\n",
       " 'bekel': 'bekal',\n",
       " 'belom': 'belum',\n",
       " 'belon': 'belum',\n",
       " 'bener': 'benar',\n",
       " 'bener2': 'benar-benar',\n",
       " 'beneran': 'benar',\n",
       " 'berantem': 'bertengkar',\n",
       " 'berenti': 'berhenti',\n",
       " 'besoq': 'besok',\n",
       " 'bete': 'sebal',\n",
       " 'beud': 'banget',\n",
       " 'bg': 'bagi',\n",
       " 'bgd': 'sangat',\n",
       " 'bget': 'sangat',\n",
       " 'bgini': 'begini',\n",
       " 'bgitu': 'begitu',\n",
       " 'bgks': 'bungkus',\n",
       " 'bgm': 'bagaimana',\n",
       " 'bgmn': 'bagaimana',\n",
       " 'bgn': 'bangun',\n",
       " 'bgni': 'begini',\n",
       " 'bgntdr': 'bangun tidur',\n",
       " 'bgs': 'bagus',\n",
       " 'bgt': 'sangat',\n",
       " 'bgtu': 'begitu',\n",
       " 'bgus': 'bagus',\n",
       " 'bhay': 'selamat tinggal',\n",
       " 'bhn': 'bahan',\n",
       " 'bhs': 'bahas',\n",
       " 'bhw': 'bahwa',\n",
       " 'bhy': 'bahaya',\n",
       " 'bisaa': 'bisa',\n",
       " 'bisya': 'bisa',\n",
       " 'biza': 'bisa',\n",
       " 'bj': 'baju',\n",
       " 'bju': 'baju',\n",
       " 'bk': 'buku',\n",
       " 'bkan': 'bukan',\n",
       " 'bkin': 'bikin',\n",
       " 'bkl': 'bakal',\n",
       " 'bkn': 'bukan',\n",
       " 'bkr': 'bakar',\n",
       " 'bks': 'bungkus',\n",
       " 'bl': 'beli',\n",
       " 'blajar': 'belajar',\n",
       " 'blg': 'bilang',\n",
       " 'blh': 'boleh',\n",
       " 'bli': 'beli',\n",
       " 'blik': 'balik',\n",
       " 'bljr': 'belajar',\n",
       " 'blk': 'balik',\n",
       " 'blkg': 'belakang',\n",
       " 'blkng': 'belakang',\n",
       " 'blkngny': 'belakangnya',\n",
       " 'blm': 'belum',\n",
       " 'bln': 'bulan',\n",
       " 'blng': 'bilang',\n",
       " 'blngn': 'bilang',\n",
       " 'blom': 'belum',\n",
       " 'bls': 'balas',\n",
       " 'blum': 'belum',\n",
       " 'bndg': 'bandung',\n",
       " 'bndr': 'bandar',\n",
       " 'bner': 'benar',\n",
       " 'bneran': 'benar',\n",
       " 'bnget': 'sangat',\n",
       " 'bngks': 'bungkus',\n",
       " 'bngng': 'bingung',\n",
       " 'bngt': 'sangat',\n",
       " 'bngun': 'bangun',\n",
       " 'bnr': 'benar',\n",
       " 'bnrbnr': 'benar-benar',\n",
       " 'bnrn': 'benar',\n",
       " 'bntar': 'sebentar',\n",
       " 'bntr': 'sebentar',\n",
       " 'bnyak': 'banyak',\n",
       " 'bnyk': 'banyak',\n",
       " 'bnykny': 'banyaknya',\n",
       " 'bobo': 'tidur',\n",
       " 'bobok': 'tidur',\n",
       " 'bokap': 'ayah',\n",
       " 'bole': 'boleh',\n",
       " 'boong': 'bohong',\n",
       " 'bosen': 'bosan',\n",
       " 'bpk': 'bapak',\n",
       " 'brani': 'berani',\n",
       " 'brapa': 'berapa',\n",
       " 'brarti': 'berarti',\n",
       " 'brasa': 'berasa',\n",
       " 'brg': 'barang',\n",
       " 'brgkt': 'berangkat',\n",
       " 'brhsl': 'berhasil',\n",
       " 'brjln': 'berjalan',\n",
       " 'brkfst': 'breakfast',\n",
       " 'brmslh': 'bermasalah',\n",
       " 'brngkt': 'berangkat',\n",
       " 'brp': 'berapa',\n",
       " 'brpa': 'berapa',\n",
       " 'brrti': 'berarti',\n",
       " 'brs': 'beres',\n",
       " 'brshbt': 'bersahabat',\n",
       " 'brsm': 'bersama',\n",
       " 'brthn': 'bertahan',\n",
       " 'brtmn': 'berteman',\n",
       " 'bru': 'baru',\n",
       " 'bs': 'bisa',\n",
       " 'bsa': 'bisa',\n",
       " 'bsk': 'besok',\n",
       " 'bsok': 'besok',\n",
       " 'bsoq': 'besok',\n",
       " 'bsr': 'besar',\n",
       " 'btg': 'batang',\n",
       " 'bth': 'butuh',\n",
       " 'btl': 'betul',\n",
       " 'btul': 'betul',\n",
       " 'buad': 'buat',\n",
       " 'buatin': 'buatkan',\n",
       " 'bucin': 'budak cinta',\n",
       " 'bulcit': 'omong kosong',\n",
       " 'bw': 'bawa',\n",
       " 'bwa': 'bawa',\n",
       " 'bwh': 'bawah',\n",
       " 'bwt': 'buat',\n",
       " 'byk': 'banyak',\n",
       " 'bynk': 'banyak',\n",
       " 'byr': 'bayar',\n",
       " 'cabal': 'sabar',\n",
       " 'cabut': 'pergi',\n",
       " 'caiank': 'sayang',\n",
       " 'cakep': 'cakap',\n",
       " 'cape': 'capai',\n",
       " 'capek': 'capai',\n",
       " 'catet': 'catat',\n",
       " 'cb': 'coba',\n",
       " 'cekola': 'sekolah',\n",
       " 'cekolah': 'sekolah',\n",
       " 'celalaw': 'selalu',\n",
       " 'celalu': 'selalu',\n",
       " 'cemungudh': 'semangat',\n",
       " 'cemungut': 'semangat',\n",
       " 'cemunguth': 'semangat',\n",
       " 'cepet': 'cepat',\n",
       " 'cewe': 'cewek',\n",
       " 'cibuq': 'sibuk',\n",
       " 'cini': 'sini',\n",
       " 'ciyus': 'serius',\n",
       " 'ckp': 'cukup',\n",
       " 'ckrg': 'sekarang',\n",
       " 'ckup': 'cukup',\n",
       " 'cll': 'selalu',\n",
       " 'cllu': 'selalu',\n",
       " 'cllw': 'selalu',\n",
       " 'cm': 'cuma',\n",
       " 'cma': 'cuma',\n",
       " 'cman': 'hanya',\n",
       " 'cmn': 'hanya',\n",
       " 'cmpk': 'cempaka',\n",
       " 'cobaa': 'coba',\n",
       " 'coeg': 'jancuk',\n",
       " 'cowo': 'cowok',\n",
       " 'cpat': 'cepat',\n",
       " 'cpe': 'capek',\n",
       " 'cpee': 'capek',\n",
       " 'cpet': 'cepat',\n",
       " 'cpt': 'cepat',\n",
       " 'cptn': 'cepatan',\n",
       " 'crt': 'cerita',\n",
       " 'cth': 'contoh',\n",
       " 'cug': 'jancuk',\n",
       " 'cuk': 'jancuk',\n",
       " 'cuman': 'hanya',\n",
       " 'cungguh': 'sungguh',\n",
       " 'cw': 'cewek',\n",
       " 'cwe': 'cewek',\n",
       " 'cwo': 'cowok',\n",
       " 'cyang': 'sayang',\n",
       " 'dah': 'sudah',\n",
       " 'dalem': 'dalam',\n",
       " 'dapa': 'ada apa',\n",
       " 'dapah': 'ada apa',\n",
       " 'dapet': 'dapat',\n",
       " 'dapetin': 'mendapatkan',\n",
       " 'dateng': 'datang',\n",
       " 'dberkahi': 'diberkahi',\n",
       " 'dblg': 'dibilang',\n",
       " 'dblkng': 'dibelakang',\n",
       " 'dbls': 'dibalas',\n",
       " 'dbwt': 'dibuat',\n",
       " 'dbyr': 'dibayar',\n",
       " 'de': 'deh',\n",
       " 'demen': 'suka',\n",
       " 'denger': 'dengar',\n",
       " 'deres': 'deras',\n",
       " 'dftr': 'daftar',\n",
       " 'dg': 'dengan',\n",
       " 'dgn': 'dengan',\n",
       " 'dgr': 'dengar',\n",
       " 'dgrn': 'dengarin',\n",
       " 'dh': 'sudah',\n",
       " 'didenger': 'didengar',\n",
       " 'didengerin': 'didengarkan',\n",
       " 'diem': 'diam',\n",
       " 'dijadiin': 'dijadikan',\n",
       " 'dikit': 'sedikit',\n",
       " 'dimance': 'dimana',\n",
       " 'dimandose': 'dimana',\n",
       " 'dimans': 'dimana',\n",
       " 'dipake': 'dipakai',\n",
       " 'dipendem': 'dipendam',\n",
       " 'dirmh': 'di rumah',\n",
       " 'ditemenin': 'ditemani',\n",
       " 'djkt': 'di jakarta',\n",
       " 'djl': 'di jalan',\n",
       " 'djln': 'di jalan',\n",
       " 'dkat': 'dekat',\n",
       " 'dket': 'dekat',\n",
       " 'dkls': 'di kelas',\n",
       " 'dkmps': 'di kampus',\n",
       " 'dkmr': 'di kamar',\n",
       " 'dkntr': 'di kantor',\n",
       " 'dksh': 'dikasih',\n",
       " 'dkt': 'dekat',\n",
       " 'dl': 'dulu',\n",
       " 'dll': 'dan lain',\n",
       " 'dlm': 'dalam',\n",
       " 'dlrng': 'dilarang',\n",
       " 'dlu': 'dulu',\n",
       " 'dluan': 'duluan',\n",
       " 'dmana': 'dimana',\n",
       " 'dmkn': 'dimakan',\n",
       " 'dmn': 'dimana',\n",
       " 'dmna': 'dimana',\n",
       " 'dmnmn': 'dimana-mana',\n",
       " 'dmny': 'dimananya',\n",
       " 'dng': 'dengan',\n",
       " 'dngar': 'dengar',\n",
       " 'dnger': 'dengar',\n",
       " 'dngerin': 'dengar',\n",
       " 'dngn': 'dengan',\n",
       " 'dngr': 'dengar',\n",
       " 'doang': 'saja',\n",
       " 'doank': 'saja',\n",
       " 'donlot': 'download',\n",
       " 'doyan': 'suka',\n",
       " 'dpan': 'depan',\n",
       " 'dpet': 'dapat',\n",
       " 'dpk': 'depok',\n",
       " 'dpkrkn': 'dipikirkan',\n",
       " 'dpn': 'depan',\n",
       " 'dpnrmh': 'depan rumah',\n",
       " 'dpt': 'dapat',\n",
       " 'dr': 'dari',\n",
       " 'drg': 'dokter gigi',\n",
       " 'drh': 'darah',\n",
       " 'dri': 'dari',\n",
       " 'drmh': 'di rumah',\n",
       " 'drmn': 'darimana',\n",
       " 'drpd': 'daripada',\n",
       " 'drtd': 'dari tadi',\n",
       " 'drumah': 'di rumah',\n",
       " 'dsb': 'dan sebagainya',\n",
       " 'dsblh': 'di sebelah',\n",
       " 'dsini': 'disini',\n",
       " 'dsklh': 'di sekolah',\n",
       " 'dsni': 'di sini',\n",
       " 'dst': 'dan seterusnya',\n",
       " 'dtg': 'datang',\n",
       " 'dtgny': 'datangnya',\n",
       " 'dtmbh': 'ditambah',\n",
       " 'dtmpt': 'di tempat',\n",
       " 'dtng': 'datang',\n",
       " 'duluw': 'dulu',\n",
       " 'dy': 'dia',\n",
       " 'ea': 'ya',\n",
       " 'eeq': 'feses',\n",
       " 'elo': 'kamu',\n",
       " 'emang': 'memang',\n",
       " 'emangnya': 'memangnya',\n",
       " 'emank': 'memang',\n",
       " 'emg': 'memang',\n",
       " 'emng': 'memang',\n",
       " 'engga': 'tidak',\n",
       " 'enggak': 'tidak',\n",
       " 'enk': 'enak',\n",
       " 'entar': 'nanti',\n",
       " 'ente': 'anda',\n",
       " 'eps': 'episode',\n",
       " 'eteb': 'bosan',\n",
       " 'eug': 'saya',\n",
       " 'faham': 'paham',\n",
       " 'fb': 'facebook',\n",
       " 'fav': 'favorit',\n",
       " 'fave': 'favorit',\n",
       " 'g': 'tidak',\n",
       " 'ga': 'tidak',\n",
       " 'gaada': 'tidak ada',\n",
       " 'gabisa': 'tidak bisa',\n",
       " 'gaboleh': 'tidak boleh',\n",
       " 'gabut': 'menganggur',\n",
       " 'gada': 'tidak ada',\n",
       " 'gaenak': 'tidak enak',\n",
       " 'gajadi': 'tidak jadi',\n",
       " 'gajelas': 'tidak jelas',\n",
       " 'gak': 'tidak',\n",
       " 'gakuat': 'tidak kuat',\n",
       " 'gakz': 'tidak',\n",
       " 'galo': 'galau',\n",
       " 'gamasuk': 'tidak masuk',\n",
       " 'gamau': 'tidak mau',\n",
       " 'gapake': 'tidak pakai',\n",
       " 'gapapa': 'tidak apa-apa',\n",
       " 'gapernah': 'tidak pernah',\n",
       " 'gapunya': 'tidak punya',\n",
       " 'garem': 'garam',\n",
       " 'gasuka': 'tidak suka',\n",
       " 'gatau': 'tidak tahu',\n",
       " 'gataw': 'tidak tahu',\n",
       " 'gatel': 'gatal',\n",
       " 'gausah': 'tidak usah',\n",
       " 'gawe': 'kerja',\n",
       " 'gblk': 'goblok',\n",
       " 'gbr': 'gambar',\n",
       " 'gdg': 'gudang',\n",
       " 'gembel': 'jelek',\n",
       " 'gengges': 'ganggu',\n",
       " 'ghiy': 'lagi',\n",
       " 'gi': 'lagi',\n",
       " 'gilak': 'gila',\n",
       " 'gile': 'gila',\n",
       " 'gitu': 'begitu',\n",
       " 'gituan': 'begitu',\n",
       " 'gituh': 'begitu',\n",
       " 'gituin': 'itu',\n",
       " 'gk': 'tidak',\n",
       " 'gmana': 'bagaimana',\n",
       " 'gmbr': 'gambar',\n",
       " 'gmn': 'bagaimana',\n",
       " 'gmna': 'bagaimana',\n",
       " 'gmpg': 'gampang',\n",
       " 'gmpng': 'gampang',\n",
       " 'gni': 'begini',\n",
       " 'gnti': 'ganti',\n",
       " 'gpny': 'tidak punya',\n",
       " 'gpp': 'tidak apa apa',\n",
       " 'gprnh': 'tidak pernah',\n",
       " 'gr2': 'gara-gara',\n",
       " 'gratisan': 'gratis',\n",
       " 'gt': 'begitu',\n",
       " 'gtu': 'begitu',\n",
       " 'gtw': 'tidak tahu',\n",
       " 'gua': 'saya',\n",
       " 'gue': 'saya',\n",
       " 'gw': 'saya',\n",
       " 'gws': 'get well soon',\n",
       " 'gx': 'tidak',\n",
       " 'hadeh': 'aduh',\n",
       " 'hapal': 'hafal',\n",
       " 'haqq': 'hakiki',\n",
       " 'hargain': 'hargai',\n",
       " 'harini': 'hari ini',\n",
       " 'hbd': 'happy birthday',\n",
       " 'hbis': 'habis',\n",
       " 'hbng': 'hubungi',\n",
       " 'hbs': 'habis',\n",
       " 'hbskn': 'habiskan',\n",
       " 'helo': 'halo',\n",
       " 'heters': 'pembenci',\n",
       " 'hlg': 'hilang',\n",
       " 'hlm': 'halaman',\n",
       " 'hlmn': 'halaman',\n",
       " 'hny': 'hanya',\n",
       " 'hnya': 'hanya',\n",
       " 'hqq': 'hakiki',\n",
       " 'hr': 'hari',\n",
       " 'hrg': 'harga',\n",
       " 'hrgny': 'harganya',\n",
       " 'hri': 'hari',\n",
       " 'hrs': 'harus',\n",
       " 'hrsny': 'harusnya',\n",
       " 'hrus': 'harus',\n",
       " 'hti': 'hati',\n",
       " 'hums': 'rumah',\n",
       " 'humz': 'rumah',\n",
       " 'huum': 'iya',\n",
       " 'idiiot': 'idiot',\n",
       " 'idup': 'hidup',\n",
       " 'ily': 'saya cinta kamu',\n",
       " 'inget': 'ingat',\n",
       " 'ingetin': 'ingatkan',\n",
       " 'ingt': 'ingat',\n",
       " 'istrht': 'istirahat',\n",
       " 'item': 'hitam',\n",
       " 'itumah': 'itu',\n",
       " 'ituu': 'itu',\n",
       " 'iy': 'iya',\n",
       " 'iyach': 'iya',\n",
       " 'iyain': 'mengiyakan',\n",
       " 'iyap': 'iya',\n",
       " 'iyapz': 'iya',\n",
       " 'iyoo': 'iya',\n",
       " 'iyup': 'iya',\n",
       " 'iyupz': 'iya',\n",
       " 'jadiin': 'jadi',\n",
       " 'jadull': 'jadul',\n",
       " 'jamber': 'jam berapa',\n",
       " 'jancoeg': 'jancuk',\n",
       " 'jatoh': 'jatuh',\n",
       " 'jawabanya': 'jawabannya',\n",
       " 'jd': 'jadi',\n",
       " 'jdi': 'jadi',\n",
       " 'jdny': 'jadinya',\n",
       " 'jdnya': 'jadinya',\n",
       " 'jdwl': 'jadwal',\n",
       " 'jem': 'jam',\n",
       " 'jg': 'juga',\n",
       " 'jga': 'juga',\n",
       " 'jgan': 'jangan',\n",
       " 'jglh': 'jagalah',\n",
       " 'jgn': 'jangan',\n",
       " 'jgnjgn': 'jangan-jangan',\n",
       " 'jing': 'anjing',\n",
       " 'jink': 'anjing',\n",
       " 'jk': 'jika',\n",
       " 'jkrt': 'jakarta',\n",
       " 'jkt': 'jakarta',\n",
       " 'jl': 'jalan',\n",
       " 'jln': 'jalan',\n",
       " 'jm': 'jam',\n",
       " 'jmbtn': 'jembatan',\n",
       " 'jml': 'jumlah',\n",
       " 'jmlh': 'jumlah',\n",
       " 'jmpt': 'jemput',\n",
       " 'jmt': 'jumat',\n",
       " 'jng': 'jangan',\n",
       " 'jngan': 'jangan',\n",
       " 'jngn': 'jangan',\n",
       " 'jpn': 'jepang',\n",
       " 'jrg': 'jarang',\n",
       " 'jrng': 'jarang',\n",
       " 'jwb': 'jawab',\n",
       " 'jwbn': 'jawaban',\n",
       " 'jwbny': 'jawabannya',\n",
       " 'kacian': 'kasihan',\n",
       " 'kagak': 'tidak',\n",
       " 'kaka': 'kakak',\n",
       " 'kalee': 'kali',\n",
       " 'kaleyan': 'kalian',\n",
       " 'kalo': 'kalau',\n",
       " 'kalu': 'kalau',\n",
       " 'kamsud': 'maksud',\n",
       " 'kaos/mug/jaket': '',\n",
       " 'karna': 'karena',\n",
       " 'karoke': 'karaoke',\n",
       " 'kasian': 'kasihan',\n",
       " 'kau': 'kamu',\n",
       " 'kayak': 'mirip',\n",
       " 'kayanya': 'kayaknya',\n",
       " 'kbnykn': 'kebanyakan',\n",
       " 'kbr': 'kabar',\n",
       " 'kbtln': 'kebetulan',\n",
       " 'kbykn': 'kebanyakan',\n",
       " 'kdg': 'kadang',\n",
       " 'kdng': 'kadang',\n",
       " 'kdpn': 'ke depan',\n",
       " 'kebawa': 'terbawa',\n",
       " 'kecakepan': 'kecakapan',\n",
       " 'keknya': 'sepertinya',\n",
       " 'kelaperan': 'kelaparan',\n",
       " 'kelar': 'selesai',\n",
       " 'keles': 'kali',\n",
       " 'keliatan': 'kelihatan',\n",
       " 'kemaren': 'kemarin',\n",
       " 'kenapah': 'kenapa',\n",
       " 'kenape': 'kenapa',\n",
       " 'kenaps': 'kenapa',\n",
       " 'kenapz': 'kenapa',\n",
       " 'kenceng': 'kencang',\n",
       " 'kepengen': 'ingin',\n",
       " 'kepngn': 'ingin',\n",
       " 'kepo': 'ingin tahu',\n",
       " 'kerikil': 'kerikil',\n",
       " 'kesampean': 'kesampaian',\n",
       " 'kesel': 'kesal',\n",
       " 'kesian': 'kasihan',\n",
       " 'ketawa': 'tertawa',\n",
       " 'keujanan': 'kehujanan',\n",
       " 'keyen': 'keren',\n",
       " 'kga': 'tidak',\n",
       " 'kgak': 'tidak',\n",
       " 'kgk': 'tidak',\n",
       " 'khabar': 'kabar',\n",
       " 'khan': 'kan',\n",
       " 'khanz': 'kan',\n",
       " 'khsny': 'khususnya',\n",
       " 'khwtr': 'khawatir',\n",
       " 'kirimin': 'kirimkan',\n",
       " 'kite': 'kita',\n",
       " 'kk': 'kakak',\n",
       " 'kl': 'kalau',\n",
       " 'klau': 'kalau',\n",
       " 'klh': 'kalah',\n",
       " 'kli': 'kali',\n",
       " 'klmpk': 'kelompok',\n",
       " 'klo': 'kalau',\n",
       " 'klp': 'kelompok',\n",
       " 'kls': 'kelas',\n",
       " 'klu': 'kalau',\n",
       " 'kluar': 'keluar',\n",
       " 'klw': 'kalau',\n",
       " 'km': 'kamu',\n",
       " 'kmaren': 'kemarin',\n",
       " 'kmi': 'kami',\n",
       " 'kmn': 'kemana',\n",
       " 'kmna': 'kemana',\n",
       " 'kmpret': 'kampret',\n",
       " 'kmps': 'kamus',\n",
       " 'kmr': 'kamar',\n",
       " 'kmren': 'kemarin',\n",
       " 'kmrin': 'kemarin',\n",
       " 'kmrn': 'kemarin',\n",
       " 'kmu': 'kamu',\n",
       " 'kn': 'kan',\n",
       " 'kna': 'kena',\n",
       " 'knapa': 'kenapa',\n",
       " 'kngen': 'kangen',\n",
       " 'knl': 'kenal',\n",
       " 'knp': 'kenapa',\n",
       " 'knpa': 'kenapa',\n",
       " 'kntr': 'kantor',\n",
       " 'knyng': 'kenyang',\n",
       " 'konsen': 'konsentrasi',\n",
       " 'koq': 'kok',\n",
       " 'kosan': 'kost',\n",
       " 'kowe': 'kamu',\n",
       " 'kpala': 'kepala',\n",
       " 'kpan': 'kapan',\n",
       " 'kpd': 'kepada',\n",
       " 'kpgn': 'ingin',\n",
       " 'kpn': 'kapan',\n",
       " 'kpngn': 'ingin',\n",
       " 'krg': 'kurang',\n",
       " 'krikil': 'kerikil',\n",
       " 'krja': 'kerja',\n",
       " 'krmh': 'ke rumah',\n",
       " 'krn': 'karena',\n",
       " 'krna': 'karena',\n",
       " 'krng': 'kurang',\n",
       " 'krupuk': 'kerupuk',\n",
       " 'ksh': 'kasih',\n",
       " 'ksian': 'kasihan',\n",
       " 'ksih': 'kasih',\n",
       " 'ksmptn': 'kesempatan',\n",
       " 'ksn': 'kesana',\n",
       " 'kt': 'kita',\n",
       " 'kta': 'kita',\n",
       " 'ktdrn': 'ketiduran',\n",
       " 'ktemu': 'ketemu',\n",
       " 'ktmpt': 'ke tempat',\n",
       " 'ktmu': 'ketemu',\n",
       " 'ktny': 'katanya',\n",
       " 'ktnya': 'katanya',\n",
       " 'ktr': 'kantor',\n",
       " 'kuq': 'kok',\n",
       " 'kuy': 'ayo',\n",
       " 'kw': 'kamu',\n",
       " 'kyak': 'seperti',\n",
       " 'kyaknya': 'sepertinya',\n",
       " 'kyanya': 'sepertinya',\n",
       " 'kyk': 'kayak',\n",
       " 'kykny': 'sepertinya',\n",
       " 'kyknya': 'sepertinya',\n",
       " 'kyny': 'sepertinya',\n",
       " 'kzl': 'kesal',\n",
       " 'laen': 'lain',\n",
       " 'laff': 'cinta',\n",
       " 'lagian': 'lagi',\n",
       " 'lam': 'salam',\n",
       " 'laper': 'lapar',\n",
       " 'lb': 'lembar',\n",
       " 'lbh': 'lebih',\n",
       " 'lbih': 'lebih',\n",
       " 'leh': 'boleh',\n",
       " 'lelaahh': 'lelah',\n",
       " 'lemes': 'lemas',\n",
       " 'lg': 'lagi',\n",
       " 'lgi': 'lagi',\n",
       " 'lgkp': 'lengkap',\n",
       " 'lgs': 'langsung',\n",
       " 'lgsg': 'langsung',\n",
       " 'lgsng': 'langsung',\n",
       " 'lgsung': 'langsung',\n",
       " 'liatin': 'lihat',\n",
       " 'lm': 'lama',\n",
       " 'lmyn': 'lumayan',\n",
       " 'lngkp': 'lengkap',\n",
       " 'lngsg': 'langsung',\n",
       " 'lngsng': 'langsung',\n",
       " 'lngsung': 'langsung',\n",
       " 'lnjt': 'lanjut',\n",
       " 'lnsg': 'langsung',\n",
       " 'lnsng': 'langsung',\n",
       " 'lo': 'kamu',\n",
       " 'loe': 'kamu',\n",
       " 'lom': 'belum',\n",
       " 'lov': 'cinta',\n",
       " 'love': 'cinta',\n",
       " 'low': 'kalau',\n",
       " 'lp': 'lupa',\n",
       " 'lpngn': 'lapangan',\n",
       " 'lpr': 'lapar',\n",
       " 'lsg': 'langsung',\n",
       " 'lu': 'kamu',\n",
       " 'luchu': 'lucu',\n",
       " 'lum': 'belum',\n",
       " 'lun': 'belum',\n",
       " 'luthu': 'lucu',\n",
       " 'luv': 'cinta',\n",
       " 'lvl': 'level',\n",
       " 'lw': 'kamu',\n",
       " 'lwt': 'lewat',\n",
       " 'maaci': 'terima kasih',\n",
       " 'maacih': 'terima kasih',\n",
       " 'maap': 'maaf',\n",
       " 'maen': 'main',\n",
       " 'mager': 'malas bergerak',\n",
       " 'makaci': 'terima kasih',\n",
       " 'makana': 'karena itu',\n",
       " 'makasi': 'terima kasih',\n",
       " 'makasihhh': 'terima kasih',\n",
       " 'make': 'pakai',\n",
       " 'makn': 'makan',\n",
       " 'malem': 'malam',\n",
       " 'malem2': 'malam-malam',\n",
       " 'malming': 'malam minggu',\n",
       " 'mamah': 'mama',\n",
       " 'mamam': 'makan',\n",
       " 'mampet': 'mampat',\n",
       " 'mane': 'mana',\n",
       " 'maneh': 'mana',\n",
       " 'manggil': 'panggil',\n",
       " 'mano': 'mana',\n",
       " 'mantep': 'mantap',\n",
       " 'masakin': 'masakan',\n",
       " 'mateng': 'matang',\n",
       " 'maw': 'mau',\n",
       " 'mcm': 'macam',\n",
       " 'mct': 'macet',\n",
       " 'mdg': 'lebih baik',\n",
       " 'mdgn': 'baikan',\n",
       " 'mdh': 'mudah',\n",
       " 'mdpt': 'mendapat',\n",
       " 'melulu': 'selalu',\n",
       " 'mendingan': 'lebih baik',\n",
       " 'menyempurnakan': '',\n",
       " 'merhatiin': 'memperhatikan',\n",
       " 'mesen': 'pesan',\n",
       " 'mgkn': 'mungkin',\n",
       " 'mhs': 'mahasiswa',\n",
       " 'mhsw': 'mahasiswa',\n",
       " 'miapa': 'demi apa',\n",
       " 'miapah': 'demi apa',\n",
       " 'mikirin': 'memikirkan',\n",
       " 'milih': 'pilih',\n",
       " 'minjem': 'pinjam',\n",
       " \"misal'a\": 'misalnya',\n",
       " 'mk': 'maka',\n",
       " 'mka': 'maka',\n",
       " 'mkan': 'makan',\n",
       " 'mkanan': 'makanan',\n",
       " 'mkanya': 'makanya',\n",
       " 'mkn': 'makan',\n",
       " 'mknan': 'makanan',\n",
       " 'mkny': 'maka itu',\n",
       " 'mksd': 'maksud',\n",
       " 'mksdny': 'maksudnya',\n",
       " 'mksdnya': 'maksudnya',\n",
       " 'mksdq': 'maksudku',\n",
       " 'mksh': 'terima kasih',\n",
       " 'mksih': 'terima kasih',\n",
       " 'mlah': 'malah',\n",
       " 'mlm': 'malam',\n",
       " 'mls': 'malas',\n",
       " 'mmg': 'memang',\n",
       " 'mn': 'mana',\n",
       " 'mna': 'mana',\n",
       " 'mndg': 'lebih baik',\n",
       " 'mndgn': 'lebih baik',\n",
       " 'mndgr': 'mendengar',\n",
       " 'mndi': 'mandi',\n",
       " 'mnding': 'lebih baik',\n",
       " 'mndptkn': 'mendapatkan',\n",
       " 'mng': 'menang',\n",
       " 'mnrt': 'menurut',\n",
       " 'mnsempurnakan': '',\n",
       " 'mnt': 'minta',\n",
       " 'mnta': 'minta',\n",
       " 'mntp': 'mantap',\n",
       " 'mnum': 'minum',\n",
       " 'mnyakitiku': 'menyakitiku',\n",
       " 'mnyngkn': 'menyenangkan',\n",
       " 'mo': 'mau',\n",
       " 'moga': 'semoga',\n",
       " 'mosok': 'masa',\n",
       " 'mreka': 'mereka',\n",
       " 'mrh': 'marah',\n",
       " 'mrk': 'mereka',\n",
       " 'ms': 'mas',\n",
       " 'msg': 'masing',\n",
       " 'msh': 'masih',\n",
       " 'msih': 'masih',\n",
       " 'msk': 'masuk',\n",
       " 'mski': 'meski',\n",
       " 'mskipun': 'meskipun',\n",
       " 'mskn': 'masakan',\n",
       " 'msl': 'misal',\n",
       " 'mslh': 'masalah',\n",
       " 'msti': 'harus',\n",
       " 'muke': 'muka',\n",
       " 'mulu': 'terus',\n",
       " 'musti': 'harus',\n",
       " 'muup': 'maaf',\n",
       " \"mu'uv\": 'maaf',\n",
       " 'mw': 'mau',\n",
       " 'mz': 'mas',\n",
       " 'nabung': 'tabung',\n",
       " 'naek': 'naik',\n",
       " 'nahan': 'tahan',\n",
       " 'nak': 'anak',\n",
       " 'nambah': 'tambah',\n",
       " 'nanya': 'tanya',\n",
       " 'napa': 'kenapa',\n",
       " 'napas': 'nafas',\n",
       " 'nape': 'kenapa',\n",
       " 'naq': 'anak',\n",
       " 'nasgor': 'nasi goreng',\n",
       " 'nax': 'anak',\n",
       " 'nda': 'tidak',\n",
       " 'ndak': 'tidak',\n",
       " 'ndax': 'tidak',\n",
       " 'ndk': 'tidak',\n",
       " 'negri': 'negeri',\n",
       " 'nelen': 'telan',\n",
       " 'nemenin': 'menemani',\n",
       " 'nemu': 'temu',\n",
       " 'nengok': 'tengok',\n",
       " 'ngabungin': 'menggabungkan',\n",
       " 'ngadain': 'mengadakan',\n",
       " 'ngajak': 'mengajak',\n",
       " 'ngajar': 'ajar',\n",
       " 'ngak': 'tidak',\n",
       " 'ngakak': 'terbahak-bahak',\n",
       " 'ngambek': 'marah',\n",
       " 'ngambil': 'ambil',\n",
       " 'nganter': 'antar',\n",
       " 'nganterin': 'antar',\n",
       " 'ngarep': 'mengharap',\n",
       " 'ngarepinnya': 'mengharapkannya',\n",
       " 'ngasi': 'kasih',\n",
       " 'ngasih': 'kasih',\n",
       " 'ngegosip': 'gosip',\n",
       " 'ngehadepin': 'menghadapi',\n",
       " 'ngeliatin': 'melihat',\n",
       " 'ngeluh': 'keluh',\n",
       " 'ngerasa': 'merasa',\n",
       " 'ngerasain': 'merasakan',\n",
       " 'ngerjain': 'mengerjakan',\n",
       " 'ngerokok': 'merokok',\n",
       " 'ngetik': 'ketik',\n",
       " 'ngga': 'tidak',\n",
       " 'nggak': 'tidak',\n",
       " 'nggax': 'tidak',\n",
       " 'nggesek': 'menggesek',\n",
       " 'nggk': 'tidak',\n",
       " 'nggosok': 'menggosok',\n",
       " 'ngibul': 'berbohong',\n",
       " 'ngidam': 'idam',\n",
       " 'ngikutin': 'ikuti',\n",
       " 'ngilangin': 'menghilangkan',\n",
       " 'nginep': 'menginap',\n",
       " 'ngingetin': 'mengingatkan',\n",
       " 'ngjk': 'mengajak',\n",
       " 'ngk': 'tidak',\n",
       " 'ngmbl': 'mengambil',\n",
       " 'ngmg': 'omong',\n",
       " 'ngmng': 'berbicara',\n",
       " 'ngmpl': 'berkumpul',\n",
       " 'ngmps': 'ke kampus',\n",
       " 'ngntk': 'mengantuk',\n",
       " 'ngntr': 'ke kantor',\n",
       " 'ngobatin': 'obati',\n",
       " 'ngobrol': 'bicara',\n",
       " 'ngomong': 'bicara',\n",
       " 'ngomongin': 'membicarakan',\n",
       " 'ngrasain': 'merasakan',\n",
       " 'ngundurin': 'mengundurkan',\n",
       " 'ngunyah': 'kunyah',\n",
       " 'ngurus': 'urus',\n",
       " 'ni': 'ini',\n",
       " 'nich': 'ini',\n",
       " 'ninggalin': 'tinggalkan',\n",
       " 'nmbh': 'tambah',\n",
       " 'nmny': 'namanya',\n",
       " 'nmpk': 'nampak',\n",
       " 'nmr': 'nomor',\n",
       " 'nnti': 'nanti',\n",
       " 'nntn': 'menonton',\n",
       " 'nnton': 'nonton',\n",
       " 'nolak': 'tolak',\n",
       " 'nraktir': 'traktir',\n",
       " 'ntah': 'entah',\n",
       " 'ntap': 'mantap',\n",
       " 'ntar': 'nanti',\n",
       " 'nti': 'nanti',\n",
       " 'ntn': 'menonton',\n",
       " 'nton': 'nonton',\n",
       " 'ntr': 'nanti',\n",
       " 'ntu': 'itu',\n",
       " 'nungguin': 'tunggu',\n",
       " 'nyakiti': 'menyakiti',\n",
       " 'nyakitin': 'menyakiti',\n",
       " 'nyalain': 'nyalakan',\n",
       " 'nyampe': 'sampai',\n",
       " 'nyangka': 'sangka',\n",
       " 'nyantai': 'santai',\n",
       " 'nyari': 'cari',\n",
       " 'nyebelin': 'menyebalkan',\n",
       " 'nyeremin': 'menyeramkan',\n",
       " 'nyesek': 'sesak',\n",
       " 'nyesel': 'menyesal',\n",
       " 'nyetel': 'setel',\n",
       " 'nyiksa': 'menyiksa',\n",
       " 'nyoba': 'coba',\n",
       " 'nyobain': 'coba',\n",
       " 'nyuci': 'cuci',\n",
       " 'nyukur': 'cukur',\n",
       " 'nyuruh': 'suruh',\n",
       " 'nyusul': 'susul',\n",
       " 'oc': 'oke',\n",
       " 'oce': 'oke',\n",
       " 'ohh': 'oh',\n",
       " 'ok': 'oke',\n",
       " 'okedech': 'oke',\n",
       " 'okedeh': 'oke',\n",
       " 'okeh': 'oke',\n",
       " 'okz': 'oke',\n",
       " 'ol': 'online',\n",
       " 'org': 'orang',\n",
       " 'org2': 'orang-orang',\n",
       " 'orng': 'orang',\n",
       " 'ortu': 'orangtua',\n",
       " 'ouch': 'oh',\n",
       " 'ouh': 'oh',\n",
       " 'owh': 'oh',\n",
       " 'pait': 'pahit',\n",
       " 'pake': 'pakai',\n",
       " 'pakek': 'pakai',\n",
       " 'pantesan': 'pantas',\n",
       " 'pasutri': 'pasangan suami istri',\n",
       " 'paz': 'pas',\n",
       " 'pcr': 'pacar',\n",
       " 'pcrn': 'pacaran',\n",
       " 'pcrny': 'pacarnya',\n",
       " 'pd': 'pada',\n",
       " 'pdahal': 'padahal',\n",
       " 'pdhal': 'padahal',\n",
       " 'pdhl': 'padahal',\n",
       " 'pedes': 'pedas',\n",
       " 'pegi': 'pergi',\n",
       " 'pengen': 'ingin',\n",
       " 'penghianat': 'pengkhianat',\n",
       " 'pengin': 'ingin',\n",
       " 'pesen': 'pesan',\n",
       " 'pg': 'pergi',\n",
       " 'pgen': 'ingin',\n",
       " 'pgn': 'ingin',\n",
       " 'pilem': 'film',\n",
       " 'pingin': 'ingin',\n",
       " 'pinjem': 'pinjam',\n",
       " 'pinter': 'pintar',\n",
       " 'pkai': 'pakai',\n",
       " 'pke': 'pakai',\n",
       " 'plg': 'pulang',\n",
       " 'plis': 'tolong',\n",
       " 'pljrn': 'pelajaran',\n",
       " 'plng': 'pulang',\n",
       " 'pmpuan': 'perempuan',\n",
       " 'pndh': 'pindah',\n",
       " 'pngen': 'ingin',\n",
       " 'pngn': 'ingin',\n",
       " 'pnjng': 'panjang',\n",
       " 'pnting': 'penting',\n",
       " 'pntng': 'penting',\n",
       " 'pny': 'punya',\n",
       " 'pnya': 'punya',\n",
       " 'pokonya': 'pokoknya',\n",
       " 'praktek': 'praktik',\n",
       " 'prasaan': 'perasaan',\n",
       " 'prgi': 'pergi',\n",
       " 'prmhn': 'perumahan',\n",
       " 'prmptn': 'perempatan',\n",
       " 'prnah': 'pernah',\n",
       " 'prnh': 'pernah',\n",
       " 'prthnkn': 'pertahankan',\n",
       " 'psg': 'pasang',\n",
       " 'psng': 'pasang',\n",
       " 'psr': 'pasar',\n",
       " 'psti': 'pasti',\n",
       " 'ptg': 'penting',\n",
       " 'punye': 'punya',\n",
       " 'puter': 'putar',\n",
       " 'puterin': 'putar',\n",
       " 'pzt': 'pasti',\n",
       " 'q': 'saya',\n",
       " 'qaqa': 'kakak',\n",
       " 'qq': 'kakak',\n",
       " 'qt': 'kita',\n",
       " 'qta': 'kita',\n",
       " 'rada': 'agak',\n",
       " 'rame': 'ramai',\n",
       " 'rame2': 'ramai-ramai',\n",
       " 'rasane': 'rasanya',\n",
       " 'rb': 'ribu',\n",
       " 'rmbt': 'rambut',\n",
       " 'rmh': 'rumah',\n",
       " 'rmhq': 'rumahku',\n",
       " 'rsk': 'rusak',\n",
       " 'sabeb': 'bebas',\n",
       " 'sabi': 'bisa',\n",
       " 'saje': 'saja',\n",
       " 'salfok': 'salah fokus',\n",
       " 'saltum': 'salah kostum',\n",
       " 'sambel': 'sambal',\n",
       " 'samo': 'sama',\n",
       " 'sampe': 'sampai',\n",
       " 'sans': 'santai',\n",
       " 'sape': 'siapa',\n",
       " 'sateny': 'satenya',\n",
       " 'sbg': 'sebagai',\n",
       " ...}"
      ]
     },
     "execution_count": 74,
     "metadata": {},
     "output_type": "execute_result"
    }
   ],
   "source": [
    "kamus = create_kamus()\n",
    "kamus"
   ]
  },
  {
   "cell_type": "code",
   "execution_count": 75,
   "id": "512f8dd4-f82e-4b92-876c-458ee44a00e8",
   "metadata": {
    "tags": []
   },
   "outputs": [],
   "source": [
    "def tweet_replace_contractions(tweet):\n",
    "    pattern = re.compile(r'\\b(' + '|'.join(re.escape(contraction) for contraction in kamus.keys()) + r')\\b')\n",
    "    tweet = pattern.sub(lambda x: kamus[x.group()], tweet)\n",
    "    return tweet"
   ]
  },
  {
   "cell_type": "code",
   "execution_count": 76,
   "id": "55e41df3-9723-43c1-97cf-61e28245e060",
   "metadata": {
    "tags": []
   },
   "outputs": [
    {
     "name": "stdout",
     "output_type": "stream",
     "text": [
      "CPU times: total: 1min 7s\n",
      "Wall time: 1min 25s\n"
     ]
    }
   ],
   "source": [
    "%%time\n",
    "for i in range(0,len(train_data)):\n",
    "    himpunan_kata=[]\n",
    "    for tokenize_tweet in train_data[\"tweet\"][i]:\n",
    "        tokenize_tweet = tweet_replace_contractions(tokenize_tweet)\n",
    "        himpunan_kata.append(tokenize_tweet)\n",
    "    train_data[\"tweet\"][i]=himpunan_kata\n",
    "    i+1"
   ]
  },
  {
   "cell_type": "code",
   "execution_count": 77,
   "id": "3a3aca80-3ccf-45d0-8c01-16881a641328",
   "metadata": {
    "tags": []
   },
   "outputs": [
    {
     "data": {
      "text/html": [
       "<table border=\"1\" class=\"dataframe\">\n",
       "  <thead>\n",
       "    <tr style=\"text-align: right;\">\n",
       "      <th></th>\n",
       "      <th>Before</th>\n",
       "      <th>After</th>\n",
       "    </tr>\n",
       "  </thead>\n",
       "  <tbody>\n",
       "    <tr>\n",
       "      <th>0</th>\n",
       "      <td>[pagi, udah, buat, emosi]</td>\n",
       "      <td>[pagi, sudah, buat, emosi]</td>\n",
       "    </tr>\n",
       "    <tr>\n",
       "      <th>1</th>\n",
       "      <td>[stabilitas, negara, memange, thn, negara, tdk, aman, bahkan, sby, menyuburkan, ormas, radikal, intoleran, teroris, yg, berafiliasi, partai, tertentu, narasi, klhtn, intelektual, tp, bodoh]</td>\n",
       "      <td>[stabilitas, negara, memange, tahun, negara, tidak, aman, bahkan, sby, menyuburkan, ormas, radikal, intoleran, teroris, yang, berafiliasi, partai, tertentu, narasi, klhtn, intelektual, tapi, bodoh]</td>\n",
       "    </tr>\n",
       "    <tr>\n",
       "      <th>2</th>\n",
       "      <td>[emosi, mulu, liat]</td>\n",
       "      <td>[emosi, terus, liat]</td>\n",
       "    </tr>\n",
       "    <tr>\n",
       "      <th>3</th>\n",
       "      <td>[aib, bodoh, benar, sebelum, kata, aib, itu, muncul, terlebih, dahulu, sudah, ada, tindakan, yakni, kekejian, jangan, kau, sembunyikan, caramu, menelaah, masalah, semisal, anak, perempuanmu, ditempeleng, apa, kau, juga, setuju, untuk, dia, bersikap, bungkam, melapor, polisi, adl, benar, lantas, apa, bedanya]</td>\n",
       "      <td>[aib, bodoh, benar, sebelum, kata, aib, itu, muncul, terlebih, dahulu, sudah, ada, tindakan, yakni, kekejian, jangan, kamu, sembunyikan, caramu, menelaah, masalah, semisal, anak, perempuanmu, ditempeleng, apa, kamu, juga, setuju, untuk, dia, bersikap, bungkam, melapor, polisi, adl, benar, lantas, apa, bedanya]</td>\n",
       "    </tr>\n",
       "    <tr>\n",
       "      <th>4</th>\n",
       "      <td>[lu, yg, nyebelin, bego]</td>\n",
       "      <td>[kamu, yang, menyebalkan, bodoh]</td>\n",
       "    </tr>\n",
       "    <tr>\n",
       "      <th>5</th>\n",
       "      <td>[asli, malu, maluin, org, indo, tolol, yg, rep, latah, cilukba, pake, huruf, hijaiyah, sm, ngntd, sama, ganti, huruf, t, pake, salib, ada, tiktok, filipin, lewat, fyp, aku, dan, repnya, ngtd, semua, dasar, goblogg, trend, tiktok, ter, tolol]</td>\n",
       "      <td>[asli, malu, maluin, orang, indo, tolol, yang, rep, latah, cilukba, pakai, huruf, hijaiyah, sama, ngntd, sama, ganti, huruf, t, pakai, salib, ada, tiktok, filipin, lewat, fyp, saya, dan, repnya, ngtd, semua, dasar, goblogg, trend, tiktok, ter, tolol]</td>\n",
       "    </tr>\n",
       "    <tr>\n",
       "      <th>6</th>\n",
       "      <td>[drama, abg, tolol]</td>\n",
       "      <td>[drama, abg, tolol]</td>\n",
       "    </tr>\n",
       "    <tr>\n",
       "      <th>7</th>\n",
       "      <td>[masih, emosi, sama, katla, kemarin, mana, keterangannya, gini, aja, hasil, mengaci, kzl]</td>\n",
       "      <td>[masih, emosi, sama, katla, kemarin, mana, keterangannya, gini, saja, hasil, mengaci, kesal]</td>\n",
       "    </tr>\n",
       "    <tr>\n",
       "      <th>8</th>\n",
       "      <td>[bangsat, tribute, no, bencana, no, mau, ngalahin, ini, keknya]</td>\n",
       "      <td>[bangsat, tribute, no, bencana, no, mau, ngalahin, ini, sepertinya]</td>\n",
       "    </tr>\n",
       "    <tr>\n",
       "      <th>9</th>\n",
       "      <td>[pengen, pergi, jauh, terus, teriak, sambil, nangis, sekencang, kencangnya, nanti, balik, kalo, gue, udah, lupa, segalanya, wkwj, kn, tolol, mustahil, banget]</td>\n",
       "      <td>[ingin, pergi, jauh, terus, teriak, sambil, nangis, sekencang, kencangnya, nanti, balik, kalau, saya, sudah, lupa, segalanya, wkwj, kan, tolol, mustahil, sekali]</td>\n",
       "    </tr>\n",
       "  </tbody>\n",
       "</table>"
      ],
      "text/plain": [
       "<IPython.core.display.HTML object>"
      ]
     },
     "metadata": {},
     "output_type": "display_data"
    }
   ],
   "source": [
    "comparison_df = pd.DataFrame({\n",
    "    'Before ': train_data_copy['tweet'],\n",
    "    'After ': train_data['tweet']\n",
    "})\n",
    "\n",
    "# Set max_colwidth option to ensure that long strings are displayed completely\n",
    "pd.options.display.max_colwidth = 150\n",
    "\n",
    "# Display the DataFrame as an HTML table\n",
    "display(HTML(comparison_df.head(10).to_html()))"
   ]
  },
  {
   "cell_type": "code",
   "execution_count": 78,
   "id": "232e521e",
   "metadata": {},
   "outputs": [
    {
     "name": "stdout",
     "output_type": "stream",
     "text": [
      "CPU times: total: 1min 9s\n",
      "Wall time: 1min 18s\n"
     ]
    }
   ],
   "source": [
    "%%time\n",
    "for i in range(0,len(train_data_copy)):\n",
    "    himpunan_kata=[]\n",
    "    for tokenize_tweet in train_data_copy[\"tweet\"][i]:\n",
    "        tokenize_tweet = tweet_replace_contractions(tokenize_tweet)\n",
    "        himpunan_kata.append(tokenize_tweet)\n",
    "    train_data_copy[\"tweet\"][i]=himpunan_kata\n",
    "    i+1"
   ]
  },
  {
   "cell_type": "markdown",
   "id": "5797c863-d657-4680-b828-c3fe49bda5e6",
   "metadata": {},
   "source": [
    "### Stopwords Removal"
   ]
  },
  {
   "cell_type": "code",
   "execution_count": 79,
   "id": "1bb45ffc-df2b-4782-a5e4-b45b415c32f6",
   "metadata": {
    "tags": []
   },
   "outputs": [],
   "source": [
    "def tweet_stopwords_removal(tweet):\n",
    "    factory = StopWordRemoverFactory()\n",
    "    stopword = factory.create_stop_word_remover()\n",
    "    tweet = stopword.remove(tweet)\n",
    "    return tweet"
   ]
  },
  {
   "cell_type": "code",
   "execution_count": 80,
   "id": "ddf78e36-2b0d-4a2b-bcb9-51ea2be38c37",
   "metadata": {
    "tags": []
   },
   "outputs": [
    {
     "name": "stdout",
     "output_type": "stream",
     "text": [
      "CPU times: total: 6.44 s\n",
      "Wall time: 6.94 s\n"
     ]
    }
   ],
   "source": [
    "%%time\n",
    "for i in range(0,len(train_data)):\n",
    "    himpunan_kata=[]\n",
    "    for tokenize_tweet in train_data[\"tweet\"][i]:\n",
    "        tokenize_tweet = tweet_stopwords_removal(tokenize_tweet)\n",
    "        if tokenize_tweet == \"\":\n",
    "            pass\n",
    "        else:\n",
    "            himpunan_kata.append(tokenize_tweet)\n",
    "    train_data[\"tweet\"][i]=himpunan_kata\n",
    "    i+1"
   ]
  },
  {
   "cell_type": "code",
   "execution_count": 81,
   "id": "035e2466-f989-43d1-bfa1-f3e531833e88",
   "metadata": {
    "tags": []
   },
   "outputs": [
    {
     "data": {
      "text/html": [
       "<table border=\"1\" class=\"dataframe\">\n",
       "  <thead>\n",
       "    <tr style=\"text-align: right;\">\n",
       "      <th></th>\n",
       "      <th>Before</th>\n",
       "      <th>After</th>\n",
       "    </tr>\n",
       "  </thead>\n",
       "  <tbody>\n",
       "    <tr>\n",
       "      <th>0</th>\n",
       "      <td>[pagi, sudah, buat, emosi]</td>\n",
       "      <td>[pagi, emosi]</td>\n",
       "    </tr>\n",
       "    <tr>\n",
       "      <th>1</th>\n",
       "      <td>[stabilitas, negara, memange, tahun, negara, tidak, aman, bahkan, sby, menyuburkan, ormas, radikal, intoleran, teroris, yang, berafiliasi, partai, tertentu, narasi, klhtn, intelektual, tapi, bodoh]</td>\n",
       "      <td>[stabilitas, negara, memange, tahun, negara, aman, sby, menyuburkan, ormas, radikal, intoleran, teroris, berafiliasi, partai, narasi, klhtn, intelektual, bodoh]</td>\n",
       "    </tr>\n",
       "    <tr>\n",
       "      <th>2</th>\n",
       "      <td>[emosi, terus, liat]</td>\n",
       "      <td>[emosi, liat]</td>\n",
       "    </tr>\n",
       "    <tr>\n",
       "      <th>3</th>\n",
       "      <td>[aib, bodoh, benar, sebelum, kata, aib, itu, muncul, terlebih, dahulu, sudah, ada, tindakan, yakni, kekejian, jangan, kamu, sembunyikan, caramu, menelaah, masalah, semisal, anak, perempuanmu, ditempeleng, apa, kamu, juga, setuju, untuk, dia, bersikap, bungkam, melapor, polisi, adl, benar, lantas, apa, bedanya]</td>\n",
       "      <td>[aib, bodoh, aib, muncul, tindakan, kekejian, sembunyikan, caramu, menelaah, anak, perempuanmu, ditempeleng, setuju, bersikap, bungkam, melapor, polisi, adl, lantas, bedanya]</td>\n",
       "    </tr>\n",
       "    <tr>\n",
       "      <th>4</th>\n",
       "      <td>[kamu, yang, menyebalkan, bodoh]</td>\n",
       "      <td>[menyebalkan, bodoh]</td>\n",
       "    </tr>\n",
       "    <tr>\n",
       "      <th>5</th>\n",
       "      <td>[asli, malu, maluin, orang, indo, tolol, yang, rep, latah, cilukba, pakai, huruf, hijaiyah, sama, ngntd, sama, ganti, huruf, t, pakai, salib, ada, tiktok, filipin, lewat, fyp, saya, dan, repnya, ngtd, semua, dasar, goblogg, trend, tiktok, ter, tolol]</td>\n",
       "      <td>[asli, malu, maluin, indo, tolol, rep, latah, cilukba, pakai, huruf, hijaiyah, ngntd, ganti, huruf, pakai, salib, tiktok, filipin, fyp, repnya, ngtd, dasar, goblogg, trend, tiktok, ter, tolol]</td>\n",
       "    </tr>\n",
       "    <tr>\n",
       "      <th>6</th>\n",
       "      <td>[drama, abg, tolol]</td>\n",
       "      <td>[drama, abg, tolol]</td>\n",
       "    </tr>\n",
       "    <tr>\n",
       "      <th>7</th>\n",
       "      <td>[masih, emosi, sama, katla, kemarin, mana, keterangannya, gini, saja, hasil, mengaci, kesal]</td>\n",
       "      <td>[emosi, katla, kemarin, keterangannya, gini, hasil, mengaci, kesal]</td>\n",
       "    </tr>\n",
       "    <tr>\n",
       "      <th>8</th>\n",
       "      <td>[bangsat, tribute, no, bencana, no, mau, ngalahin, ini, sepertinya]</td>\n",
       "      <td>[bangsat, tribute, no, bencana, no, ngalahin]</td>\n",
       "    </tr>\n",
       "    <tr>\n",
       "      <th>9</th>\n",
       "      <td>[ingin, pergi, jauh, terus, teriak, sambil, nangis, sekencang, kencangnya, nanti, balik, kalau, saya, sudah, lupa, segalanya, wkwj, kan, tolol, mustahil, sekali]</td>\n",
       "      <td>[pergi, teriak, nangis, sekencang, kencangnya, lupa, wkwj, tolol, mustahil]</td>\n",
       "    </tr>\n",
       "  </tbody>\n",
       "</table>"
      ],
      "text/plain": [
       "<IPython.core.display.HTML object>"
      ]
     },
     "metadata": {},
     "output_type": "display_data"
    }
   ],
   "source": [
    "comparison_df = pd.DataFrame({\n",
    "    'Before ': train_data_copy['tweet'],\n",
    "    'After ': train_data['tweet']\n",
    "})\n",
    "\n",
    "# Set max_colwidth option to ensure that long strings are displayed completely\n",
    "pd.options.display.max_colwidth = 150\n",
    "\n",
    "# Display the DataFrame as an HTML table\n",
    "display(HTML(comparison_df.head(10).to_html()))"
   ]
  },
  {
   "cell_type": "code",
   "execution_count": 82,
   "id": "eb32a239",
   "metadata": {},
   "outputs": [
    {
     "name": "stdout",
     "output_type": "stream",
     "text": [
      "CPU times: total: 6.12 s\n",
      "Wall time: 6.93 s\n"
     ]
    }
   ],
   "source": [
    "%%time\n",
    "for i in range(0,len(train_data_copy)):\n",
    "    himpunan_kata=[]\n",
    "    for tokenize_tweet in train_data_copy[\"tweet\"][i]:\n",
    "        tokenize_tweet = tweet_stopwords_removal(tokenize_tweet)\n",
    "        if tokenize_tweet == \"\":\n",
    "            pass\n",
    "        else:\n",
    "            himpunan_kata.append(tokenize_tweet)\n",
    "    train_data_copy[\"tweet\"][i]=himpunan_kata\n",
    "    i+1"
   ]
  },
  {
   "cell_type": "markdown",
   "id": "631d2e3e-15eb-43f0-a540-c4f41a7b32f0",
   "metadata": {},
   "source": [
    "## Saving Preposessing"
   ]
  },
  {
   "cell_type": "code",
   "execution_count": 83,
   "id": "36177714",
   "metadata": {},
   "outputs": [
    {
     "data": {
      "image/png": "[encoded data removed]",
      "text/plain": [
       "<Figure size 1000x800 with 1 Axes>"
      ]
     },
     "metadata": {},
     "output_type": "display_data"
    }
   ],
   "source": [
    "import pandas as pd\n",
    "from wordcloud import WordCloud\n",
    "import matplotlib.pyplot as plt\n",
    "\n",
    "# Assuming you have a DataFrame called train_data with a column \"tweet\"\n",
    "# containing the tweets\n",
    "\n",
    "# Convert lists of tweets into a single string\n",
    "all_tweets = ' '.join([tweet for sublist in train_data['tweet'] for tweet in sublist])\n",
    "\n",
    "# Create a WordCloud object\n",
    "wordcloud = WordCloud(width=800, height=400, background_color='white').generate(all_tweets)\n",
    "\n",
    "# Display the WordCloud\n",
    "plt.figure(figsize=(10, 8))\n",
    "plt.imshow(wordcloud, interpolation='bilinear')\n",
    "plt.axis('off')\n",
    "plt.show()\n"
   ]
  },
  {
   "cell_type": "code",
   "execution_count": 84,
   "id": "9875d5c1",
   "metadata": {},
   "outputs": [
    {
     "data": {
      "text/html": [
       "<table border=\"1\" class=\"dataframe\">\n",
       "  <thead>\n",
       "    <tr style=\"text-align: right;\">\n",
       "      <th></th>\n",
       "      <th>Before</th>\n",
       "      <th>After</th>\n",
       "    </tr>\n",
       "  </thead>\n",
       "  <tbody>\n",
       "    <tr>\n",
       "      <th>0</th>\n",
       "      <td>pagi2 udah di buat emosi :)</td>\n",
       "      <td>[pagi, emosi]</td>\n",
       "    </tr>\n",
       "    <tr>\n",
       "      <th>1</th>\n",
       "      <td>kok stabilitas negara, memange 10 thn negara tdk aman, bahkan sby menyuburkan ormas2 radikal, intoleran, teroris, yg berafiliasi ke partai tertentu..narasi klhtn intelektual tp bodoh..</td>\n",
       "      <td>[stabilitas, negara, memange, tahun, negara, aman, sby, menyuburkan, ormas, radikal, intoleran, teroris, berafiliasi, partai, narasi, klhtn, intelektual, bodoh]</td>\n",
       "    </tr>\n",
       "    <tr>\n",
       "      <th>2</th>\n",
       "      <td>dah lah emosi mulu liat emyu</td>\n",
       "      <td>[emosi, liat]</td>\n",
       "    </tr>\n",
       "    <tr>\n",
       "      <th>3</th>\n",
       "      <td>aib? bodoh benar! sebelum kata aib itu muncul, terlebih dahulu sudah ada tindakan. yakni kekejian! jangan kau sembunyikan caramu menelaah masalah. semisal anak perempuanmu ditempeleng! apa kau juga setuju untuk dia bersikap bungkam? melapor polisi adl benar. lantas apa bedanya</td>\n",
       "      <td>[aib, bodoh, aib, muncul, tindakan, kekejian, sembunyikan, caramu, menelaah, anak, perempuanmu, ditempeleng, setuju, bersikap, bungkam, melapor, polisi, adl, lantas, bedanya]</td>\n",
       "    </tr>\n",
       "    <tr>\n",
       "      <th>4</th>\n",
       "      <td>dih lu yg nyebelin bego</td>\n",
       "      <td>[menyebalkan, bodoh]</td>\n",
       "    </tr>\n",
       "    <tr>\n",
       "      <th>5</th>\n",
       "      <td>asli malu maluin org indo tolol yg rep latah \"cilukba\" pake huruf hijaiyah sm \"ngntd\" sama ganti huruf t pake salib, ada tiktok filipin lewat fyp aku dan repnya \"ngtd\" semua, dasar goblogg trend tiktok ter tolol</td>\n",
       "      <td>[asli, malu, maluin, indo, tolol, rep, latah, cilukba, pakai, huruf, hijaiyah, ngntd, ganti, huruf, pakai, salib, tiktok, filipin, fyp, repnya, ngtd, dasar, goblogg, trend, tiktok, ter, tolol]</td>\n",
       "    </tr>\n",
       "    <tr>\n",
       "      <th>6</th>\n",
       "      <td>drama abg tolol</td>\n",
       "      <td>[drama, abg, tolol]</td>\n",
       "    </tr>\n",
       "    <tr>\n",
       "      <th>7</th>\n",
       "      <td>masih emosi sih sama katla kemarin. mana keterangannya gini aja. ((hasil mengaci)) kzl.</td>\n",
       "      <td>[emosi, katla, kemarin, keterangannya, gini, hasil, mengaci, kesal]</td>\n",
       "    </tr>\n",
       "    <tr>\n",
       "      <th>8</th>\n",
       "      <td>bangsat tribute no.1, bencana no.2 mau ngalahin ini keknya</td>\n",
       "      <td>[bangsat, tribute, no, bencana, no, ngalahin]</td>\n",
       "    </tr>\n",
       "    <tr>\n",
       "      <th>9</th>\n",
       "      <td>pengen pergi jauh terus teriak sambil nangis sekencang kencangnya nanti balik kalo gue udah lupa segalanya wkwj kn tolol mustahil banget</td>\n",
       "      <td>[pergi, teriak, nangis, sekencang, kencangnya, lupa, wkwj, tolol, mustahil]</td>\n",
       "    </tr>\n",
       "  </tbody>\n",
       "</table>"
      ],
      "text/plain": [
       "<IPython.core.display.HTML object>"
      ]
     },
     "metadata": {},
     "output_type": "display_data"
    }
   ],
   "source": [
    "comparison_df = pd.DataFrame({\n",
    "    'Before ': eda_data['tweet'],\n",
    "    'After ': train_data['tweet']\n",
    "})\n",
    "\n",
    "# Set max_colwidth option to ensure that long strings are displayed completely\n",
    "pd.options.display.max_colwidth = 150\n",
    "\n",
    "# Display the DataFrame as an HTML table\n",
    "display(HTML(comparison_df.head(10).to_html()))"
   ]
  },
  {
   "cell_type": "code",
   "execution_count": 85,
   "id": "d93886a6-4154-4389-bc47-32788798560d",
   "metadata": {
    "tags": []
   },
   "outputs": [],
   "source": [
    "train_data.to_csv(\"Dataset/Training/Clean_train_data_nostem.csv\")"
   ]
  }
 ],
 "metadata": {
  "kernelspec": {
   "display_name": "Python 3",
   "language": "python",
   "name": "python3"
  },
  "language_info": {
   "codemirror_mode": {
    "name": "ipython",
    "version": 3
   },
   "file_extension": ".py",
   "mimetype": "text/x-python",
   "name": "python",
   "nbconvert_exporter": "python",
   "pygments_lexer": "ipython3",
   "version": "3.9.0"
  }
 },
 "nbformat": 4,
 "nbformat_minor": 5
}
